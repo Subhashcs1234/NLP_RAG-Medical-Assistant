{
 "cells": [
  {
   "cell_type": "code",
   "execution_count": 1,
   "metadata": {
    "colab": {
     "base_uri": "https://localhost:8080/"
    },
    "id": "onVoccNlwlqi",
    "outputId": "5298dbc4-bc48-42ae-edfa-021aff6fdf91"
   },
   "outputs": [
    {
     "name": "stdout",
     "output_type": "stream",
     "text": [
      "1.25.2\n"
     ]
    }
   ],
   "source": [
    "import numpy as np\n",
    "print(np.__version__)"
   ]
  },
  {
   "cell_type": "code",
   "execution_count": 2,
   "metadata": {
    "colab": {
     "base_uri": "https://localhost:8080/"
    },
    "id": "kMtGzYYI7GNz",
    "outputId": "004af520-6abe-469c-ff1f-d368708907e1"
   },
   "outputs": [
    {
     "name": "stdout",
     "output_type": "stream",
     "text": [
      "1.5.3\n"
     ]
    }
   ],
   "source": [
    "import pandas as pd\n",
    "print(pd.__version__)"
   ]
  },
  {
   "cell_type": "code",
   "execution_count": 3,
   "metadata": {
    "colab": {
     "base_uri": "https://localhost:8080/"
    },
    "collapsed": true,
    "id": "lSD4UnQQmXsx",
    "jupyter": {
     "outputs_hidden": true
    },
    "outputId": "6a3dc449-4f52-437d-c270-b3af193484b3"
   },
   "outputs": [
    {
     "name": "stdout",
     "output_type": "stream",
     "text": [
      "Found existing installation: numpy 2.0.2\n",
      "Uninstalling numpy-2.0.2:\n",
      "  Successfully uninstalled numpy-2.0.2\n",
      "Found existing installation: pandas 2.2.2\n",
      "Uninstalling pandas-2.2.2:\n",
      "  Successfully uninstalled pandas-2.2.2\n",
      "\u001b[2K   \u001b[90m━━━━━━━━━━━━━━━━━━━━━━━━━━━━━━━━━━━━━━━━\u001b[0m \u001b[32m18.2/18.2 MB\u001b[0m \u001b[31m137.5 MB/s\u001b[0m eta \u001b[36m0:00:00\u001b[0m\n",
      "\u001b[2K   \u001b[90m━━━━━━━━━━━━━━━━━━━━━━━━━━━━━━━━━━━━━━━━\u001b[0m \u001b[32m12.0/12.0 MB\u001b[0m \u001b[31m342.2 MB/s\u001b[0m eta \u001b[36m0:00:00\u001b[0m\n",
      "\u001b[2K   \u001b[90m━━━━━━━━━━━━━━━━━━━━━━━━━━━━━━━━━━━━━━━\u001b[0m \u001b[32m229.9/229.9 kB\u001b[0m \u001b[31m353.5 MB/s\u001b[0m eta \u001b[36m0:00:00\u001b[0m\n",
      "\u001b[2K   \u001b[90m━━━━━━━━━━━━━━━━━━━━━━━━━━━━━━━━━━━━━━━\u001b[0m \u001b[32m509.2/509.2 kB\u001b[0m \u001b[31m381.0 MB/s\u001b[0m eta \u001b[36m0:00:00\u001b[0m\n",
      "\u001b[?25h\u001b[31mERROR: pip's dependency resolver does not currently take into account all the packages that are installed. This behaviour is the source of the following dependency conflicts.\n",
      "google-colab 1.0.0 requires pandas==2.2.2, but you have pandas 1.5.3 which is incompatible.\n",
      "mizani 0.13.3 requires pandas>=2.2.0, but you have pandas 1.5.3 which is incompatible.\n",
      "dask-expr 1.1.21 requires pandas>=2, but you have pandas 1.5.3 which is incompatible.\n",
      "cudf-cu12 25.2.1 requires pandas<2.2.4dev0,>=2.0, but you have pandas 1.5.3 which is incompatible.\n",
      "dask-cudf-cu12 25.2.2 requires pandas<2.2.4dev0,>=2.0, but you have pandas 1.5.3 which is incompatible.\n",
      "tensorflow 2.18.0 requires numpy<2.1.0,>=1.26.0, but you have numpy 1.25.2 which is incompatible.\n",
      "thinc 8.3.6 requires numpy<3.0.0,>=2.0.0, but you have numpy 1.25.2 which is incompatible.\n",
      "xarray 2025.3.1 requires pandas>=2.1, but you have pandas 1.5.3 which is incompatible.\n",
      "plotnine 0.14.5 requires pandas>=2.2.0, but you have pandas 1.5.3 which is incompatible.\n",
      "blosc2 3.3.2 requires numpy>=1.26, but you have numpy 1.25.2 which is incompatible.\u001b[0m\u001b[31m\n",
      "\u001b[0m"
     ]
    }
   ],
   "source": [
    "!pip uninstall -y numpy pandas\n",
    "!pip install -q numpy==1.25.2 pandas==1.5.3 --force-reinstall --no-cache-dir"
   ]
  },
  {
   "cell_type": "code",
   "execution_count": 5,
   "metadata": {
    "colab": {
     "base_uri": "https://localhost:8080/"
    },
    "id": "aunlL-YpmfnC",
    "outputId": "e1d53bbd-bc2c-4b8a-e421-40036e1e5a50"
   },
   "outputs": [
    {
     "name": "stdout",
     "output_type": "stream",
     "text": [
      "\u001b[2K     \u001b[90m━━━━━━━━━━━━━━━━━━━━━━━━━━━━━━━━━━━━━━━━\u001b[0m \u001b[32m67.3/67.3 kB\u001b[0m \u001b[31m7.7 MB/s\u001b[0m eta \u001b[36m0:00:00\u001b[0m\n",
      "\u001b[?25h  Installing build dependencies ... \u001b[?25l\u001b[?25hdone\n",
      "  Getting requirements to build wheel ... \u001b[?25l\u001b[?25hdone\n",
      "  Preparing metadata (pyproject.toml) ... \u001b[?25l\u001b[?25hdone\n",
      "\u001b[2K     \u001b[90m━━━━━━━━━━━━━━━━━━━━━━━━━━━━━━━━━━━━━━━━\u001b[0m \u001b[32m44.0/44.0 kB\u001b[0m \u001b[31m3.1 MB/s\u001b[0m eta \u001b[36m0:00:00\u001b[0m\n",
      "\u001b[2K     \u001b[90m━━━━━━━━━━━━━━━━━━━━━━━━━━━━━━━━━━━━━━━━\u001b[0m \u001b[32m44.4/44.4 kB\u001b[0m \u001b[31m4.4 MB/s\u001b[0m eta \u001b[36m0:00:00\u001b[0m\n",
      "\u001b[2K     \u001b[90m━━━━━━━━━━━━━━━━━━━━━━━━━━━━━━━━━━━━━━━━\u001b[0m \u001b[32m44.4/44.4 kB\u001b[0m \u001b[31m3.9 MB/s\u001b[0m eta \u001b[36m0:00:00\u001b[0m\n",
      "\u001b[2K     \u001b[90m━━━━━━━━━━━━━━━━━━━━━━━━━━━━━━━━━━━━━━━━\u001b[0m \u001b[32m44.4/44.4 kB\u001b[0m \u001b[31m4.4 MB/s\u001b[0m eta \u001b[36m0:00:00\u001b[0m\n",
      "\u001b[2K     \u001b[90m━━━━━━━━━━━━━━━━━━━━━━━━━━━━━━━━━━━━━━━━\u001b[0m \u001b[32m44.4/44.4 kB\u001b[0m \u001b[31m4.5 MB/s\u001b[0m eta \u001b[36m0:00:00\u001b[0m\n",
      "\u001b[2K     \u001b[90m━━━━━━━━━━━━━━━━━━━━━━━━━━━━━━━━━━━━━━━━\u001b[0m \u001b[32m44.1/44.1 kB\u001b[0m \u001b[31m4.1 MB/s\u001b[0m eta \u001b[36m0:00:00\u001b[0m\n",
      "\u001b[2K     \u001b[90m━━━━━━━━━━━━━━━━━━━━━━━━━━━━━━━━━━━━━━━━\u001b[0m \u001b[32m43.5/43.5 kB\u001b[0m \u001b[31m4.1 MB/s\u001b[0m eta \u001b[36m0:00:00\u001b[0m\n",
      "\u001b[2K     \u001b[90m━━━━━━━━━━━━━━━━━━━━━━━━━━━━━━━━━━━━━━━━\u001b[0m \u001b[32m44.1/44.1 kB\u001b[0m \u001b[31m4.0 MB/s\u001b[0m eta \u001b[36m0:00:00\u001b[0m\n",
      "\u001b[2K   \u001b[90m━━━━━━━━━━━━━━━━━━━━━━━━━━━━━━━━━━━━━━━━\u001b[0m \u001b[32m401.7/401.7 kB\u001b[0m \u001b[31m30.2 MB/s\u001b[0m eta \u001b[36m0:00:00\u001b[0m\n",
      "\u001b[2K   \u001b[90m━━━━━━━━━━━━━━━━━━━━━━━━━━━━━━━━━━━━━━━━\u001b[0m \u001b[32m1.8/1.8 MB\u001b[0m \u001b[31m75.1 MB/s\u001b[0m eta \u001b[36m0:00:00\u001b[0m\n",
      "\u001b[2K   \u001b[90m━━━━━━━━━━━━━━━━━━━━━━━━━━━━━━━━━━━━━━━━\u001b[0m \u001b[32m20.0/20.0 MB\u001b[0m \u001b[31m72.1 MB/s\u001b[0m eta \u001b[36m0:00:00\u001b[0m\n",
      "\u001b[2K   \u001b[90m━━━━━━━━━━━━━━━━━━━━━━━━━━━━━━━━━━━━━━━━\u001b[0m \u001b[32m802.4/802.4 kB\u001b[0m \u001b[31m45.3 MB/s\u001b[0m eta \u001b[36m0:00:00\u001b[0m\n",
      "\u001b[2K   \u001b[90m━━━━━━━━━━━━━━━━━━━━━━━━━━━━━━━━━━━━━━━━\u001b[0m \u001b[32m1.6/1.6 MB\u001b[0m \u001b[31m72.9 MB/s\u001b[0m eta \u001b[36m0:00:00\u001b[0m\n",
      "\u001b[2K   \u001b[90m━━━━━━━━━━━━━━━━━━━━━━━━━━━━━━━━━━━━━━━━\u001b[0m \u001b[32m509.0/509.0 kB\u001b[0m \u001b[31m32.8 MB/s\u001b[0m eta \u001b[36m0:00:00\u001b[0m\n",
      "\u001b[2K   \u001b[90m━━━━━━━━━━━━━━━━━━━━━━━━━━━━━━━━━━━━━━━━\u001b[0m \u001b[32m132.8/132.8 kB\u001b[0m \u001b[31m14.8 MB/s\u001b[0m eta \u001b[36m0:00:00\u001b[0m\n",
      "\u001b[2K   \u001b[90m━━━━━━━━━━━━━━━━━━━━━━━━━━━━━━━━━━━━━━━━\u001b[0m \u001b[32m2.4/2.4 MB\u001b[0m \u001b[31m81.2 MB/s\u001b[0m eta \u001b[36m0:00:00\u001b[0m\n",
      "\u001b[2K   \u001b[90m━━━━━━━━━━━━━━━━━━━━━━━━━━━━━━━━━━━━━━━━\u001b[0m \u001b[32m284.2/284.2 kB\u001b[0m \u001b[31m28.9 MB/s\u001b[0m eta \u001b[36m0:00:00\u001b[0m\n",
      "\u001b[2K   \u001b[90m━━━━━━━━━━━━━━━━━━━━━━━━━━━━━━━━━━━━━━━━\u001b[0m \u001b[32m95.2/95.2 kB\u001b[0m \u001b[31m9.1 MB/s\u001b[0m eta \u001b[36m0:00:00\u001b[0m\n",
      "\u001b[2K   \u001b[90m━━━━━━━━━━━━━━━━━━━━━━━━━━━━━━━━━━━━━━━━\u001b[0m \u001b[32m2.0/2.0 MB\u001b[0m \u001b[31m74.6 MB/s\u001b[0m eta \u001b[36m0:00:00\u001b[0m\n",
      "\u001b[2K   \u001b[90m━━━━━━━━━━━━━━━━━━━━━━━━━━━━━━━━━━━━━━━━\u001b[0m \u001b[32m241.2/241.2 kB\u001b[0m \u001b[31m23.7 MB/s\u001b[0m eta \u001b[36m0:00:00\u001b[0m\n",
      "\u001b[2K   \u001b[90m━━━━━━━━━━━━━━━━━━━━━━━━━━━━━━━━━━━━━━━━\u001b[0m \u001b[32m55.4/55.4 kB\u001b[0m \u001b[31m5.2 MB/s\u001b[0m eta \u001b[36m0:00:00\u001b[0m\n",
      "\u001b[2K   \u001b[90m━━━━━━━━━━━━━━━━━━━━━━━━━━━━━━━━━━━━━━━━\u001b[0m \u001b[32m101.6/101.6 kB\u001b[0m \u001b[31m11.2 MB/s\u001b[0m eta \u001b[36m0:00:00\u001b[0m\n",
      "\u001b[2K   \u001b[90m━━━━━━━━━━━━━━━━━━━━━━━━━━━━━━━━━━━━━━━━\u001b[0m \u001b[32m16.4/16.4 MB\u001b[0m \u001b[31m77.1 MB/s\u001b[0m eta \u001b[36m0:00:00\u001b[0m\n",
      "\u001b[2K   \u001b[90m━━━━━━━━━━━━━━━━━━━━━━━━━━━━━━━━━━━━━━━━\u001b[0m \u001b[32m55.9/55.9 kB\u001b[0m \u001b[31m5.9 MB/s\u001b[0m eta \u001b[36m0:00:00\u001b[0m\n",
      "\u001b[2K   \u001b[90m━━━━━━━━━━━━━━━━━━━━━━━━━━━━━━━━━━━━━━━━\u001b[0m \u001b[32m194.9/194.9 kB\u001b[0m \u001b[31m15.4 MB/s\u001b[0m eta \u001b[36m0:00:00\u001b[0m\n",
      "\u001b[2K   \u001b[90m━━━━━━━━━━━━━━━━━━━━━━━━━━━━━━━━━━━━━━━━\u001b[0m \u001b[32m65.8/65.8 kB\u001b[0m \u001b[31m6.0 MB/s\u001b[0m eta \u001b[36m0:00:00\u001b[0m\n",
      "\u001b[2K   \u001b[90m━━━━━━━━━━━━━━━━━━━━━━━━━━━━━━━━━━━━━━━━\u001b[0m \u001b[32m118.9/118.9 kB\u001b[0m \u001b[31m14.4 MB/s\u001b[0m eta \u001b[36m0:00:00\u001b[0m\n",
      "\u001b[2K   \u001b[90m━━━━━━━━━━━━━━━━━━━━━━━━━━━━━━━━━━━━━━━━\u001b[0m \u001b[32m53.0/53.0 kB\u001b[0m \u001b[31m6.0 MB/s\u001b[0m eta \u001b[36m0:00:00\u001b[0m\n",
      "\u001b[2K   \u001b[90m━━━━━━━━━━━━━━━━━━━━━━━━━━━━━━━━━━━━━━━━\u001b[0m \u001b[32m92.0/92.0 kB\u001b[0m \u001b[31m9.8 MB/s\u001b[0m eta \u001b[36m0:00:00\u001b[0m\n",
      "\u001b[2K   \u001b[90m━━━━━━━━━━━━━━━━━━━━━━━━━━━━━━━━━━━━━━━━\u001b[0m \u001b[32m6.0/6.0 MB\u001b[0m \u001b[31m129.3 MB/s\u001b[0m eta \u001b[36m0:00:00\u001b[0m\n",
      "\u001b[2K   \u001b[90m━━━━━━━━━━━━━━━━━━━━━━━━━━━━━━━━━━━━━━━━\u001b[0m \u001b[32m363.4/363.4 MB\u001b[0m \u001b[31m5.9 MB/s\u001b[0m eta \u001b[36m0:00:00\u001b[0m\n",
      "\u001b[2K   \u001b[90m━━━━━━━━━━━━━━━━━━━━━━━━━━━━━━━━━━━━━━━━\u001b[0m \u001b[32m13.8/13.8 MB\u001b[0m \u001b[31m108.8 MB/s\u001b[0m eta \u001b[36m0:00:00\u001b[0m\n",
      "\u001b[2K   \u001b[90m━━━━━━━━━━━━━━━━━━━━━━━━━━━━━━━━━━━━━━━━\u001b[0m \u001b[32m24.6/24.6 MB\u001b[0m \u001b[31m80.9 MB/s\u001b[0m eta \u001b[36m0:00:00\u001b[0m\n",
      "\u001b[2K   \u001b[90m━━━━━━━━━━━━━━━━━━━━━━━━━━━━━━━━━━━━━━━━\u001b[0m \u001b[32m883.7/883.7 kB\u001b[0m \u001b[31m52.5 MB/s\u001b[0m eta \u001b[36m0:00:00\u001b[0m\n",
      "\u001b[2K   \u001b[90m━━━━━━━━━━━━━━━━━━━━━━━━━━━━━━━━━━━━━━━━\u001b[0m \u001b[32m664.8/664.8 MB\u001b[0m \u001b[31m1.6 MB/s\u001b[0m eta \u001b[36m0:00:00\u001b[0m\n",
      "\u001b[2K   \u001b[90m━━━━━━━━━━━━━━━━━━━━━━━━━━━━━━━━━━━━━━━━\u001b[0m \u001b[32m211.5/211.5 MB\u001b[0m \u001b[31m6.0 MB/s\u001b[0m eta \u001b[36m0:00:00\u001b[0m\n",
      "\u001b[2K   \u001b[90m━━━━━━━━━━━━━━━━━━━━━━━━━━━━━━━━━━━━━━━━\u001b[0m \u001b[32m56.3/56.3 MB\u001b[0m \u001b[31m13.4 MB/s\u001b[0m eta \u001b[36m0:00:00\u001b[0m\n",
      "\u001b[2K   \u001b[90m━━━━━━━━━━━━━━━━━━━━━━━━━━━━━━━━━━━━━━━━\u001b[0m \u001b[32m127.9/127.9 MB\u001b[0m \u001b[31m7.5 MB/s\u001b[0m eta \u001b[36m0:00:00\u001b[0m\n",
      "\u001b[2K   \u001b[90m━━━━━━━━━━━━━━━━━━━━━━━━━━━━━━━━━━━━━━━━\u001b[0m \u001b[32m207.5/207.5 MB\u001b[0m \u001b[31m5.5 MB/s\u001b[0m eta \u001b[36m0:00:00\u001b[0m\n",
      "\u001b[2K   \u001b[90m━━━━━━━━━━━━━━━━━━━━━━━━━━━━━━━━━━━━━━━━\u001b[0m \u001b[32m21.1/21.1 MB\u001b[0m \u001b[31m86.2 MB/s\u001b[0m eta \u001b[36m0:00:00\u001b[0m\n",
      "\u001b[2K   \u001b[90m━━━━━━━━━━━━━━━━━━━━━━━━━━━━━━━━━━━━━━━━\u001b[0m \u001b[32m10.0/10.0 MB\u001b[0m \u001b[31m123.2 MB/s\u001b[0m eta \u001b[36m0:00:00\u001b[0m\n",
      "\u001b[2K   \u001b[90m━━━━━━━━━━━━━━━━━━━━━━━━━━━━━━━━━━━━━━━━\u001b[0m \u001b[32m3.0/3.0 MB\u001b[0m \u001b[31m111.5 MB/s\u001b[0m eta \u001b[36m0:00:00\u001b[0m\n",
      "\u001b[2K   \u001b[90m━━━━━━━━━━━━━━━━━━━━━━━━━━━━━━━━━━━━━━━━\u001b[0m \u001b[32m62.5/62.5 kB\u001b[0m \u001b[31m6.7 MB/s\u001b[0m eta \u001b[36m0:00:00\u001b[0m\n",
      "\u001b[2K   \u001b[90m━━━━━━━━━━━━━━━━━━━━━━━━━━━━━━━━━━━━━━━━\u001b[0m \u001b[32m459.8/459.8 kB\u001b[0m \u001b[31m36.4 MB/s\u001b[0m eta \u001b[36m0:00:00\u001b[0m\n",
      "\u001b[2K   \u001b[90m━━━━━━━━━━━━━━━━━━━━━━━━━━━━━━━━━━━━━━━━\u001b[0m \u001b[32m50.9/50.9 kB\u001b[0m \u001b[31m5.6 MB/s\u001b[0m eta \u001b[36m0:00:00\u001b[0m\n",
      "\u001b[2K   \u001b[90m━━━━━━━━━━━━━━━━━━━━━━━━━━━━━━━━━━━━━━━━\u001b[0m \u001b[32m72.0/72.0 kB\u001b[0m \u001b[31m7.9 MB/s\u001b[0m eta \u001b[36m0:00:00\u001b[0m\n",
      "\u001b[2K   \u001b[90m━━━━━━━━━━━━━━━━━━━━━━━━━━━━━━━━━━━━━━━━\u001b[0m \u001b[32m4.0/4.0 MB\u001b[0m \u001b[31m114.5 MB/s\u001b[0m eta \u001b[36m0:00:00\u001b[0m\n",
      "\u001b[2K   \u001b[90m━━━━━━━━━━━━━━━━━━━━━━━━━━━━━━━━━━━━━━━━\u001b[0m \u001b[32m454.8/454.8 kB\u001b[0m \u001b[31m39.6 MB/s\u001b[0m eta \u001b[36m0:00:00\u001b[0m\n",
      "\u001b[2K   \u001b[90m━━━━━━━━━━━━━━━━━━━━━━━━━━━━━━━━━━━━━━━━\u001b[0m \u001b[32m46.0/46.0 kB\u001b[0m \u001b[31m4.9 MB/s\u001b[0m eta \u001b[36m0:00:00\u001b[0m\n",
      "\u001b[2K   \u001b[90m━━━━━━━━━━━━━━━━━━━━━━━━━━━━━━━━━━━━━━━━\u001b[0m \u001b[32m86.8/86.8 kB\u001b[0m \u001b[31m10.0 MB/s\u001b[0m eta \u001b[36m0:00:00\u001b[0m\n",
      "\u001b[?25h  Building wheel for pypika (pyproject.toml) ... \u001b[?25l\u001b[?25hdone\n",
      "\u001b[31mERROR: pip's dependency resolver does not currently take into account all the packages that are installed. This behaviour is the source of the following dependency conflicts.\n",
      "langchain-text-splitters 0.3.8 requires langchain-core<1.0.0,>=0.3.51, but you have langchain-core 0.1.23 which is incompatible.\n",
      "peft 0.15.2 requires huggingface_hub>=0.25.0, but you have huggingface-hub 0.23.2 which is incompatible.\n",
      "cudf-cu12 25.2.1 requires pandas<2.2.4dev0,>=2.0, but you have pandas 1.5.3 which is incompatible.\n",
      "dask-cudf-cu12 25.2.2 requires pandas<2.2.4dev0,>=2.0, but you have pandas 1.5.3 which is incompatible.\n",
      "tensorflow 2.18.0 requires numpy<2.1.0,>=1.26.0, but you have numpy 1.25.2 which is incompatible.\n",
      "thinc 8.3.6 requires numpy<3.0.0,>=2.0.0, but you have numpy 1.25.2 which is incompatible.\n",
      "diffusers 0.33.1 requires huggingface-hub>=0.27.0, but you have huggingface-hub 0.23.2 which is incompatible.\n",
      "xarray 2025.3.1 requires pandas>=2.1, but you have pandas 1.5.3 which is incompatible.\n",
      "google-cloud-bigquery 3.31.0 requires packaging>=24.2.0, but you have packaging 23.2 which is incompatible.\n",
      "plotnine 0.14.5 requires pandas>=2.2.0, but you have pandas 1.5.3 which is incompatible.\u001b[0m\u001b[31m\n",
      "\u001b[0m"
     ]
    }
   ],
   "source": [
    "# For installing the libraries & downloading models from HF Hub\n",
    "!pip install -q huggingface_hub==0.23.2 \\\n",
    "             tiktoken==0.6.0 \\\n",
    "             pymupdf==1.25.1 \\\n",
    "             langchain==0.1.1 \\\n",
    "             langchain-community==0.0.13 \\\n",
    "             chromadb==0.4.22 \\\n",
    "             sentence-transformers==2.3.1"
   ]
  },
  {
   "cell_type": "code",
   "execution_count": 8,
   "metadata": {
    "colab": {
     "base_uri": "https://localhost:8080/"
    },
    "id": "qc-PUcwk3TTh",
    "outputId": "ec7f105d-73a7-4f9e-e021-057160e13f9a"
   },
   "outputs": [
    {
     "name": "stdout",
     "output_type": "stream",
     "text": [
      "\u001b[2K     \u001b[90m━━━━━━━━━━━━━━━━━━━━━━━━━━━━━━━━━━━━━━━━\u001b[0m \u001b[32m1.8/1.8 MB\u001b[0m \u001b[31m174.0 MB/s\u001b[0m eta \u001b[36m0:00:00\u001b[0m\n",
      "\u001b[?25h  Installing build dependencies ... \u001b[?25l\u001b[?25hdone\n",
      "  Getting requirements to build wheel ... \u001b[?25l\u001b[?25hdone\n",
      "  Preparing metadata (pyproject.toml) ... \u001b[?25l\u001b[?25hdone\n",
      "\u001b[2K     \u001b[90m━━━━━━━━━━━━━━━━━━━━━━━━━━━━━━━━━━━━━━━\u001b[0m \u001b[32m62.0/62.0 kB\u001b[0m \u001b[31m106.8 MB/s\u001b[0m eta \u001b[36m0:00:00\u001b[0m\n",
      "\u001b[2K   \u001b[90m━━━━━━━━━━━━━━━━━━━━━━━━━━━━━━━━━━━━━━━━\u001b[0m \u001b[32m45.5/45.5 kB\u001b[0m \u001b[31m276.3 MB/s\u001b[0m eta \u001b[36m0:00:00\u001b[0m\n",
      "\u001b[2K   \u001b[90m━━━━━━━━━━━━━━━━━━━━━━━━━━━━━━━━━━━━━━━━\u001b[0m \u001b[32m16.4/16.4 MB\u001b[0m \u001b[31m319.2 MB/s\u001b[0m eta \u001b[36m0:00:00\u001b[0m\n",
      "\u001b[2K   \u001b[90m━━━━━━━━━━━━━━━━━━━━━━━━━━━━━━━━━━━━━━━━\u001b[0m \u001b[32m45.8/45.8 kB\u001b[0m \u001b[31m275.5 MB/s\u001b[0m eta \u001b[36m0:00:00\u001b[0m\n",
      "\u001b[?25h  Building wheel for llama-cpp-python (pyproject.toml) ... \u001b[?25l\u001b[?25hdone\n",
      "\u001b[31mERROR: pip's dependency resolver does not currently take into account all the packages that are installed. This behaviour is the source of the following dependency conflicts.\n",
      "langchain-community 0.0.13 requires numpy<2,>=1, but you have numpy 2.2.5 which is incompatible.\n",
      "langchain 0.1.1 requires numpy<2,>=1, but you have numpy 2.2.5 which is incompatible.\n",
      "google-colab 1.0.0 requires pandas==2.2.2, but you have pandas 1.5.3 which is incompatible.\n",
      "mizani 0.13.3 requires pandas>=2.2.0, but you have pandas 1.5.3 which is incompatible.\n",
      "dask-expr 1.1.21 requires pandas>=2, but you have pandas 1.5.3 which is incompatible.\n",
      "peft 0.15.2 requires huggingface_hub>=0.25.0, but you have huggingface-hub 0.23.2 which is incompatible.\n",
      "cudf-cu12 25.2.1 requires pandas<2.2.4dev0,>=2.0, but you have pandas 1.5.3 which is incompatible.\n",
      "numba 0.60.0 requires numpy<2.1,>=1.22, but you have numpy 2.2.5 which is incompatible.\n",
      "dask-cudf-cu12 25.2.2 requires pandas<2.2.4dev0,>=2.0, but you have pandas 1.5.3 which is incompatible.\n",
      "tensorflow 2.18.0 requires numpy<2.1.0,>=1.26.0, but you have numpy 2.2.5 which is incompatible.\n",
      "diffusers 0.33.1 requires huggingface-hub>=0.27.0, but you have huggingface-hub 0.23.2 which is incompatible.\n",
      "xarray 2025.3.1 requires pandas>=2.1, but you have pandas 1.5.3 which is incompatible.\n",
      "plotnine 0.14.5 requires pandas>=2.2.0, but you have pandas 1.5.3 which is incompatible.\u001b[0m\u001b[31m\n",
      "\u001b[0m"
     ]
    }
   ],
   "source": [
    "# Installation for GPU llama-cpp-python\n",
    "!CMAKE_ARGS=\"-DLLAMA_CUBLAS=on\" FORCE_CMAKE=1 pip install llama-cpp-python==0.1.85  --force-reinstall --upgrade --no-cache-dir -q\n",
    "\n",
    "# Installation for CPU llama-cpp-python\n",
    "# uncomment and run the following code in case GPU is not being used\n",
    "# !CMAKE_ARGS=\"-DLLAMA_CUBLAS=off\" FORCE_CMAKE=1 pip install llama-cpp-python==0.1.85 --force-reinstall --no-cache-dir -q"
   ]
  },
  {
   "cell_type": "code",
   "execution_count": 9,
   "metadata": {
    "id": "RMVdzr9h5zBk"
   },
   "outputs": [],
   "source": [
    "#Libraries for processing dataframes,text\n",
    "import json,os\n",
    "import tiktoken\n",
    "import pandas as pd\n",
    "\n",
    "#Libraries for Loading Data, Chunking, Embedding, and Vector Databases\n",
    "from langchain.text_splitter import RecursiveCharacterTextSplitter\n",
    "from langchain_community.document_loaders import PyMuPDFLoader\n",
    "from langchain_community.embeddings.sentence_transformer import SentenceTransformerEmbeddings\n",
    "from langchain_community.vectorstores import Chroma\n",
    "\n",
    "#Libraries for downloading and loading the llm\n",
    "from huggingface_hub import hf_hub_download\n",
    "from llama_cpp import Llama\n",
    "\n",
    "import warnings\n",
    "warnings.filterwarnings('ignore')"
   ]
  },
  {
   "cell_type": "markdown",
   "metadata": {
    "id": "16QnrvXRAfJp"
   },
   "source": [
    "# Data Preparation"
   ]
  },
  {
   "cell_type": "markdown",
   "metadata": {
    "id": "CWE1dEeqGSVL"
   },
   "source": [
    "### Loading the data"
   ]
  },
  {
   "cell_type": "code",
   "execution_count": 10,
   "metadata": {
    "colab": {
     "base_uri": "https://localhost:8080/"
    },
    "id": "NgDucA1MAf8k",
    "outputId": "35b27833-7cd9-46b4-f645-bbf0864bf02e"
   },
   "outputs": [
    {
     "name": "stdout",
     "output_type": "stream",
     "text": [
      "Mounted at /content/drive\n"
     ]
    }
   ],
   "source": [
    "# mounting the drive\n",
    "\n",
    "from google.colab import drive\n",
    "drive.mount('/content/drive')"
   ]
  },
  {
   "cell_type": "code",
   "execution_count": 11,
   "metadata": {
    "id": "UWY1vsBzByLI"
   },
   "outputs": [],
   "source": [
    "# specify the path for the pdf file\n",
    "\n",
    "pdf_file = \"/content/drive/My Drive/colab_notebooks/RAG_medical_assistant/medical_diagnosis_manual.pdf\""
   ]
  },
  {
   "cell_type": "code",
   "execution_count": 12,
   "metadata": {
    "id": "0rgx3KBaA5fd"
   },
   "outputs": [],
   "source": [
    "# Initialize the PDF loader using PyMuPDF\n",
    "\n",
    "pdf_loader = PyMuPDFLoader(pdf_file);"
   ]
  },
  {
   "cell_type": "code",
   "execution_count": 13,
   "metadata": {
    "id": "5zTqIGotBq3W"
   },
   "outputs": [],
   "source": [
    "# Load content from the PDF file\n",
    "\n",
    "text = pdf_loader.load()"
   ]
  },
  {
   "cell_type": "markdown",
   "metadata": {
    "id": "3fQiiFbIJ--y"
   },
   "source": [
    "# Data Overview"
   ]
  },
  {
   "cell_type": "code",
   "execution_count": null,
   "metadata": {
    "colab": {
     "base_uri": "https://localhost:8080/"
    },
    "collapsed": true,
    "id": "FU_IYfQCB2DQ",
    "jupyter": {
     "outputs_hidden": true
    },
    "outputId": "68368fbe-3ee5-4f5f-d308-c4372299db58"
   },
   "outputs": [
    {
     "name": "stdout",
     "output_type": "stream",
     "text": [
      "Table of Contents\n",
      "1\n",
      "Front    ................................................................................................................................................................................................................\n",
      "1\n",
      "Cover    .......................................................................................................................................................................................................\n",
      "2\n",
      "Front Matter    ...........................................................................................................................................................................................\n",
      "53\n",
      "1 - Nutritional Disorders    ...............................................................................................................................................................\n",
      "53\n",
      "Chapter 1. Nutrition: General Considerations    .....................................................................................................................\n",
      "59\n",
      "Chapter 2. Undernutrition    .............................................................................................................................................................\n",
      "69\n",
      "Chapter 3. Nutritional Support    ...................................................................................................................................................\n",
      "76\n",
      "Chapter 4. Vitamin Deficiency, Dependency & Toxicity    ..................................................................................................\n",
      "99\n",
      "Chapter 5. Mineral Deficiency & Toxicity    ..............................................................................................................................\n",
      "108\n",
      "Chapter 6. Obesity & the Metabolic Syndrome    ...............................................................................................................\n",
      "120\n",
      "2 - Gastrointestinal Disorders    ..............................................................................................................................................\n",
      "120\n",
      "Chapter 7. Approach to the Patient With Upper GI Complaints    ...............................................................................\n",
      "132\n",
      "Chapter 8. Approach to the Patient With Lower GI Complaints    ...............................................................................\n",
      "143\n",
      "Chapter 9. Diagnostic & Therapeutic GI Procedures    ....................................................................................................\n",
      "150\n",
      "Chapter 10. GI Bleeding    ............................................................................................................................................................\n",
      "158\n",
      "Chapter 11. Acute Abdomen & Surgical Gastroenterology    .........................................................................................\n",
      "172\n",
      "Chapter 12. Esophageal & Swallowing Disorders    ..........................................................................................................\n",
      "183\n",
      "Chapter 13. Gastritis & Peptic Ulcer Disease    ..................................................................................................................\n",
      "196\n",
      "Chapter 14. Bezoars & Foreign Bodies    ..............................................................................................................................\n",
      "199\n",
      "Chapter 15. Pancreatitis    ............................................................................................................................................................\n",
      "206\n",
      "Chapter 16. Gastroenteritis    ......................................................................................................................................................\n",
      "213\n",
      "Chapter 17. Malabsorption Syndromes    ..............................................................................................................................\n",
      "225\n",
      "Chapter 18. Irritable Bowel Syndrome    ................................................................................................................................\n",
      "229\n",
      "Chapter 19. Inflammatory Bowel Disease    .........................................................................................................................\n",
      "241\n",
      "Chapter 20. Diverticular Disease    ...........................................................................................................................................\n",
      "246\n",
      "Chapter 21. Anorectal Disorders    ............................................................................................................................................\n",
      "254\n",
      "Chapter 22. Tumors of the GI Tract    ......................................................................................................................................\n",
      "275\n",
      "3 - Hepatic & Biliary Disorders    ............................................................................................................................................\n",
      "275\n",
      "Chapter 23. Approach to the Patient With Liver Disease    ...........................................................................................\n",
      "294\n",
      "Chapter 24. Testing for Hepatic & Biliary Disorders    ......................................................................................................\n",
      "305\n",
      "Chapter 25. Drugs & the Liver    ................................................................................................................................................\n",
      "308\n",
      "Chapter 26. Alcoholic Liver Disease    ....................................................................................................................................\n",
      "314\n",
      "Chapter 27. Fibrosis & Cirrhosis    ............................................................................................................................................\n",
      "322\n",
      "Chapter 28. Hepatitis    ..................................................................................................................................................................\n",
      "333\n",
      "Chapter 29. Vascular Disorders of the Liver    .....................................................................................................................\n",
      "341\n",
      "Chapter 30. Liver Masses & Granulomas    ..........................................................................................................................\n",
      "348\n",
      "Chapter 31. Gallbladder & Bile Duct Disorders    ...............................................................................................................\n",
      "362\n",
      "4 - Musculoskeletal & Connective Tissue Disorders    .........................................................................................\n",
      "362\n",
      "Chapter 32. Approach to the Patient With Joint Disease    ............................................................................................\n",
      "373\n",
      "Chapter 33. Autoimmune Rheumatic Disorders    ..............................................................................................................\n",
      "391\n",
      "Chapter 34. Vasculitis    .................................................................................................................................................................\n",
      "416\n",
      "Chapter 35. Joint Disorders    .....................................................................................................................................................\n",
      "435\n",
      "Chapter 36. Crystal-Induced Arthritides    ..............................................................................................................................\n",
      "443\n",
      "Chapter 37. Osteoporosis    .........................................................................................................................................................\n",
      "448\n",
      "Chapter 38. Paget's Disease of Bone    ..................................................................................................................................\n",
      "451\n",
      "Chapter 39. Osteonecrosis    .......................................................................................................................................................\n",
      "455\n",
      "Chapter 40. Infections of Joints & Bones    ...........................................................................................................................\n",
      "463\n",
      "Chapter 41. Bursa, Muscle & Tendon Disorders    .............................................................................................................\n",
      "470\n",
      "Chapter 42. Neck & Back Pain    ...............................................................................................................................................\n",
      "481\n",
      "Chapter 43. Hand Disorders    ....................................................................................................................................................\n",
      "subhash66cs@gmail.com\n",
      "A5R9PMSOBN\n",
      "This file is meant for personal use by subhash66cs@gmail.com only.\n",
      "Sharing or publishing the contents in part or full is liable for legal action.\n",
      "\n"
     ]
    }
   ],
   "source": [
    "# Print the content of the third page (index 2)\n",
    "\n",
    "print(text[2].page_content,end=\"\\n\")"
   ]
  },
  {
   "cell_type": "markdown",
   "metadata": {
    "id": "2XlS3kpuz2Rh"
   },
   "source": [
    "# Question Answering using LLM"
   ]
  },
  {
   "cell_type": "code",
   "execution_count": 14,
   "metadata": {
    "colab": {
     "base_uri": "https://localhost:8080/",
     "height": 49,
     "referenced_widgets": [
      "2583a2e12b384b11b831e9eda69b1e64",
      "a30538644e8c4e3bbaac7bfa55281b4e",
      "fa77ce9255c944c78a64723a48ebafb8",
      "53a1e2e2fade4ee69413d7138fa519fd",
      "a40d0e73464544f09c95ba1fee88092e",
      "49aa96c7b93b48be8d2a86acb2f5a869",
      "3a299ed1cb5f4b439773c815eaae0ee8",
      "ee0c16f6b13d413eb5d09226c7fb54b4",
      "d0f43f24f3194132aff3814ae52410dc",
      "78be7da4690948eaa3e621f41b82348e",
      "7dcfcf2feddc4e7e9043520223beb629"
     ]
    },
    "id": "Bz2jqYS5GFCd",
    "outputId": "060c8151-1946-4632-cb68-8320d7900342"
   },
   "outputs": [
    {
     "data": {
      "application/vnd.jupyter.widget-view+json": {
       "model_id": "2583a2e12b384b11b831e9eda69b1e64",
       "version_major": 2,
       "version_minor": 0
      },
      "text/plain": [
       "llama-2-13b-chat.Q5_K_M.gguf:   0%|          | 0.00/9.23G [00:00<?, ?B/s]"
      ]
     },
     "metadata": {},
     "output_type": "display_data"
    }
   ],
   "source": [
    "# Download Llama-2-13B-Chat (quantized)\n",
    "\n",
    "model_path = hf_hub_download(\n",
    "    repo_id = \"TheBloke/Llama-2-13B-chat-GGUF\",\n",
    "    filename = \"llama-2-13b-chat.Q5_K_M.gguf\"\n",
    ")"
   ]
  },
  {
   "cell_type": "code",
   "execution_count": 15,
   "metadata": {
    "colab": {
     "base_uri": "https://localhost:8080/"
    },
    "id": "c-ZbQ5MXGEzj",
    "outputId": "815adc3f-330a-4604-b264-805e3ff21405"
   },
   "outputs": [
    {
     "name": "stderr",
     "output_type": "stream",
     "text": [
      "AVX = 1 | AVX2 = 1 | AVX512 = 0 | AVX512_VBMI = 0 | AVX512_VNNI = 0 | FMA = 1 | NEON = 0 | ARM_FMA = 0 | F16C = 1 | FP16_VA = 0 | WASM_SIMD = 0 | BLAS = 1 | SSE3 = 1 | SSSE3 = 1 | VSX = 0 | \n"
     ]
    }
   ],
   "source": [
    "# Initialize the LLaMA language model with specified configuration\n",
    "\n",
    "llm = Llama(\n",
    "    model_path=model_path,\n",
    "    n_threads=2,          # CPU threads for computation\n",
    "    n_batch=512,          # Tokens processed in parallel\n",
    "    n_gpu_layers=42,      # Layers offloaded to GPU\n",
    "    n_ctx=2048,           # Context window size\n",
    ")"
   ]
  },
  {
   "cell_type": "code",
   "execution_count": 16,
   "metadata": {
    "id": "sbGrY90tC7Oc"
   },
   "outputs": [],
   "source": [
    "# function to generate, process, and return the response from the LLM\n",
    "\n",
    "def generate_llama_response(user_prompt):\n",
    "\n",
    "    # System message\n",
    "    system_message = \"\"\"\n",
    "    [INST]<<SYS>> Respond to the user question based on the user prompt<</SYS>>[/INST]\n",
    "    \"\"\"\n",
    "\n",
    "    # Combine user_prompt and system_message to create the prompt\n",
    "    prompt = f\"{user_prompt}\\n{system_message}\"\n",
    "\n",
    "    # Generate a response from the LLaMA model\n",
    "    response = llm(\n",
    "        prompt=prompt,\n",
    "        max_tokens=1024,\n",
    "        temperature=0.01,\n",
    "        top_p=0.95,\n",
    "        repeat_penalty=1.2,\n",
    "        top_k=50,\n",
    "        stop=['INST'],\n",
    "    )\n",
    "\n",
    "    # Extract and return the response text\n",
    "    response_text = response[\"choices\"][0][\"text\"]\n",
    "    return response_text"
   ]
  },
  {
   "cell_type": "markdown",
   "metadata": {
    "id": "T5BN-rFPELMw"
   },
   "source": [
    "### Query 1: What is the protocol for managing sepsis in a critical care unit?"
   ]
  },
  {
   "cell_type": "code",
   "execution_count": null,
   "metadata": {
    "colab": {
     "base_uri": "https://localhost:8080/"
    },
    "id": "v0tYp4M_8a3w",
    "outputId": "756645ad-0b7d-4972-bfd0-db8263972f0b"
   },
   "outputs": [
    {
     "name": "stdout",
     "output_type": "stream",
     "text": [
      " The management of sepsis in a critical care unit (CCU) follows a standardized protocol that includes early recognition, aggressive fluid resuscitation, antibiotics, and close monitoring. Here are the key components of the protocol:\n",
      "\n",
      "1. Early Recognition: The CCU team should be vigilant in identifying patients at risk for sepsis, using criteria such as SIRS (Systemic Inflammatory Response Syndrome) or QSOFA (Quick Sequential Organ Failure Assessment).\n",
      "2. Aggressive Fluid Resuscitation: The goal is to achieve a mean arterial pressure (MAP) of 65-70 mmHg, and to maintain a central venous oxygen saturation (ScvO2) of >70%. Crystalloids are the first choice for fluid resuscitation, but vasopressors may be needed if fluid responsiveness is uncertain.\n",
      "3. Antibiotics: Broad-spectrum antibiotics should be administered as soon as possible, ideally within the first hour of recognition of sepsis. The selection of antibiotics should cover common causes of sepsis, such as Gram-positive and Gram-negative bacteria, as well as fungi.\n",
      "4. Close Monitoring: Patients with sepsis require frequent monitoring of vital signs, laboratory values (e.g., white blood cell count, lactate levels), and organ function (e.g., respiratory and cardiac status). This information is used to adjust therapy and guide decision-making.\n",
      "5. Septic Shock: If sepsis progresses to septic shock, vasopressors should be initiated promptly to maintain mean arterial pressure ≥65 mmHg. The choice of vasopressor may depend on the specific clinical situation and patient factors (e.g., cardiovascular stability, renal function).\n",
      "6. Source Control: In addition to addressing systemic inflammation, source control measures should be taken to eliminate or reduce the source of infection. This may involve surgical intervention, such as drainage of an abscess or debridement of infected tissue.\n",
      "7. Multi-Disciplinary Care: The management of sepsis requires a multi-disciplinary approach, involving intensivists, critical care nurses, respiratory therapists, and other healthcare professionals. Regular rounds should be conducted to ensure that patients receive timely and appropriate interventions.\n",
      "8. Protocolized Care: A sepsis protocol can help standardize care and guide decision-making. The protocol should include clear criteria for initiating and escalating therapy, as well as monitoring and communication strategies.\n",
      "9. Family Engagement: Families should be informed about the diagnosis of sepsis and the ongoing management plan. This includes regular updates on the patient's condition, treatment goals, and any changes in their status.\n",
      "10. Continuous Quality Improvement: Regular review of sepsis cases can help identify opportunities for improvement in care processes and outcomes. This may involve analyzing data from quality metrics, conducting root cause analysis of adverse events, and implementing change initiatives to enhance the quality of care provided.\n",
      "\n",
      "By following this protocolized approach, critical care units can provide evidence-based management of sepsis that is timely, effective, and patient-centered.\n"
     ]
    }
   ],
   "source": [
    "query_1 = \"What is the protocol for managing sepsis in a critical care unit?\"\n",
    "response = generate_llama_response(query_1)\n",
    "print(response)"
   ]
  },
  {
   "cell_type": "markdown",
   "metadata": {
    "id": "AvITwBWB8oeQ"
   },
   "source": [
    "- The model has answered the question fairly with numerical points."
   ]
  },
  {
   "cell_type": "markdown",
   "metadata": {
    "id": "BvjJs5UWEXWB"
   },
   "source": [
    "### Query 2: What are the common symptoms for appendicitis, and can it be cured via medicine? If not, what surgical procedure should be followed to treat it?"
   ]
  },
  {
   "cell_type": "code",
   "execution_count": null,
   "metadata": {
    "colab": {
     "base_uri": "https://localhost:8080/"
    },
    "id": "5wfhpJcfDTe5",
    "outputId": "47193ebe-56e4-41f5-f907-dc76c494e7b7"
   },
   "outputs": [
    {
     "name": "stderr",
     "output_type": "stream",
     "text": [
      "Llama.generate: prefix-match hit\n"
     ]
    },
    {
     "name": "stdout",
     "output_type": "stream",
     "text": [
      " Sure, I'd be happy to help! Appendicitis is a medical emergency that requires immediate attention. The common symptoms of appendicitis include:\n",
      "\n",
      "1. Severe pain in the abdomen, usually starting near the belly button and then moving to the lower right side of the abdomen.\n",
      "2. Nausea and vomiting.\n",
      "3. Loss of appetite.\n",
      "4. Fever.\n",
      "5. Abdominal tenderness and guarding (muscle tension) when the abdomen is touched.\n",
      "6. Abdominal swelling.\n",
      "7. Diarrhea or constipation.\n",
      "\n",
      "If you suspect that you or someone else may have appendicitis, it's important to seek medical attention immediately. Appendicitis can be treated with antibiotics, but surgery is usually necessary to remove the inflamed appendix. The surgical procedure most commonly used to treat appendicitis is a laparoscopic appendectomy, which involves making several small incisions in the abdomen and using a camera and specialized instruments to remove the inflamed appendix.\n",
      "\n",
      "In some cases, an open appendectomy may be necessary if the appendix has already ruptured or if there are other complications present. This procedure involves a larger incision in the abdomen to allow for better visualization of the affected area.\n",
      "\n",
      "It's important to note that while antibiotics can help treat any underlying infection, they will not cure appendicitis on their own. Surgery is still necessary to remove the inflamed appendix and prevent further complications. If you suspect that you or someone else may have appendicitis, it's important to seek medical attention immediately to receive proper diagnosis and treatment.\n"
     ]
    }
   ],
   "source": [
    "query_2 = \"What are the common symptoms for appendicitis, and can it be cured via medicine? If not, what surgical procedure should be followed to treat it?\"\n",
    "response = generate_llama_response(query_2)\n",
    "print(response)"
   ]
  },
  {
   "cell_type": "markdown",
   "metadata": {
    "id": "tB4AOz3e9N83"
   },
   "source": [
    "- The model has done a good job answering all the three sub questions in the original question but has not gone into the details."
   ]
  },
  {
   "cell_type": "markdown",
   "metadata": {
    "id": "4_NxvxZ_EkHH"
   },
   "source": [
    "### Query 3: What are the effective treatments or solutions for addressing sudden patchy hair loss, commonly seen as localized bald spots on the scalp, and what could be the possible causes behind it?"
   ]
  },
  {
   "cell_type": "code",
   "execution_count": null,
   "metadata": {
    "colab": {
     "base_uri": "https://localhost:8080/"
    },
    "id": "gUk25fnDDTb6",
    "outputId": "198be301-5ad7-4d7e-ca0a-95944fa422bd"
   },
   "outputs": [
    {
     "name": "stderr",
     "output_type": "stream",
     "text": [
      "Llama.generate: prefix-match hit\n"
     ]
    },
    {
     "name": "stdout",
     "output_type": "stream",
     "text": [
      " Sudden patchy hair loss, also known as alopecia areata, can be a distressing condition that affects millions of people worldwide. While there is no definitive cure for this condition, there are several effective treatments and solutions that can help promote hair growth and reduce the size of bald spots.\n",
      "\n",
      "     One of the most common treatment options for alopecia areata is topical corticosteroids, which can be applied directly to the affected area to suppress the immune system and promote hair growth. These medications are available in various strengths, and your dermatologist may recommend a stronger formula if the initial application does not produce desired results.\n",
      "\n",
      "     Another effective treatment for patchy hair loss is oral medication such as minoxidil (Rogaine) or finasteride (Propecia). Minoxidil can help stimulate hair growth and slow down hair loss, while finasteride works by blocking the production of dihydrotestosterone (DHT), a hormone that contributes to balding.\n",
      "\n",
      "     In addition to medications, there are also several alternative therapies that may be helpful in treating alopecia areata. For example, some studies suggest that low-level laser therapy (LLLT) can promote hair growth and reduce inflammation. Similarly, platelet-rich plasma (PRP) therapy involves injecting platelets rich in growth factors into the affected area to stimulate hair growth.\n",
      "\n",
      "     While these treatments can be effective, it is essential to understand that they may not work for everyone. Moreover, some people may experience side effects from certain medications or therapies. Therefore, it is crucial to consult a dermatologist to determine the best course of treatment based on your individual needs and medical history.\n",
      "\n",
      "     As for possible causes behind sudden patchy hair loss, there are several factors that could contribute to this condition. These include genetics, autoimmune disorders, hormonal imbalances, stress, and certain medications. In some cases, alopecia areata may be triggered by a viral or bacterial infection, so identifying and treating any underlying infections can also help address the hair loss.\n",
      "\n",
      "     Overall, while there is no cure for alopecia areata, there are several effective treatments and solutions that can help promote hair growth and reduce the size of bald spots. If you are experiencing sudden patchy hair loss, it is essential to consult a dermatologist to determine the underlying cause and develop an appropriate treatment plan.\n"
     ]
    }
   ],
   "source": [
    "query_3 = \"What are the effective treatments or solutions for addressing sudden patchy hair loss, commonly seen as localized bald spots on the scalp, and what could be the possible causes behind it?\"\n",
    "response = generate_llama_response(query_3)\n",
    "print(response)"
   ]
  },
  {
   "cell_type": "markdown",
   "metadata": {
    "id": "NGQ3QqJXBCiX"
   },
   "source": [
    "- The model has answered our question using different paragraphs wherever necessary and the answer seems to be correct."
   ]
  },
  {
   "cell_type": "markdown",
   "metadata": {
    "id": "D2idQ-UoEml4"
   },
   "source": [
    "### Query 4: What treatments are recommended for a person who has sustained a physical injury to brain tissue, resulting in temporary or permanent impairment of brain function?"
   ]
  },
  {
   "cell_type": "code",
   "execution_count": null,
   "metadata": {
    "colab": {
     "base_uri": "https://localhost:8080/"
    },
    "id": "WTo9RWWUDTaE",
    "outputId": "1e1f7705-0d8a-43c6-ae90-d1b20ac0f82e"
   },
   "outputs": [
    {
     "name": "stderr",
     "output_type": "stream",
     "text": [
      "Llama.generate: prefix-match hit\n"
     ]
    },
    {
     "name": "stdout",
     "output_type": "stream",
     "text": [
      " Treatments for a physical injury to brain tissue depend on the severity and location of the injury, as well as the specific symptoms and impairments experienced by the individual. Here are some common treatments that may be recommended:\n",
      "\n",
      "1. Medications: Various medications may be prescribed to manage symptoms such as pain, inflammation, seizures, or mood changes. These may include analgesics, anti-inflammatory drugs, anticonvulsants, and mood stabilizers.\n",
      "2. Rehabilitation therapy: Physical, occupational, and speech therapies can help individuals regain lost function and improve their quality of life. These therapies may include exercises to strengthen affected muscles, activities to improve cognitive and motor skills, and strategies to compensate for any persistent impairments.\n",
      "3. Surgery: In some cases, surgical intervention may be necessary to relieve pressure on the brain, repair damaged blood vessels, or remove a tumor or other lesion that is causing injury.\n",
      "4. Stem cell therapy: This is a promising area of research for treating brain injuries. Stem cells have the ability to differentiate into different types of cells and can potentially help replace damaged tissue in the brain.\n",
      "5. Neuroplasticity-based interventions: Techniques such as cognitive training, non-invasive brain stimulation (e.g., transcranial magnetic stimulation), and functional electrical stimulation may be used to promote neuroplasticity and improve brain function.\n",
      "6. Lifestyle modifications: Making lifestyle changes such as regular exercise, a healthy diet, stress management techniques, and adequate sleep can help support overall brain health and recovery from injury.\n",
      "7. Assistive technology: In some cases, assistive devices such as wheelchairs, walkers, or communication aids may be necessary to help individuals with permanent impairments lead independent lives.\n",
      "8. Psychological interventions: Cognitive-behavioral therapy (CBT) and other forms of talk therapy can help individuals cope with the emotional and psychological effects of brain injury, such as depression, anxiety, or personality changes.\n",
      "9. Alternative therapies: Some people may find relief from alternative therapies such as acupuncture, massage, or music therapy. These treatments can help reduce stress, promote relaxation, and improve overall well-being.\n",
      "\n",
      "It's important to note that the most effective treatment plan for a brain injury will depend on the individual case and may involve a combination of these options. A healthcare professional should be consulted to determine the best course of treatment based on the specific needs and circumstances of the patient.\n"
     ]
    }
   ],
   "source": [
    "query_4 = \"What treatments are recommended for a person who has sustained a physical injury to brain tissue, resulting in temporary or permanent impairment of brain function?\"\n",
    "response = generate_llama_response(query_4)\n",
    "print(response)"
   ]
  },
  {
   "cell_type": "markdown",
   "metadata": {
    "id": "y10G1SXhCTze"
   },
   "source": [
    "- Though the model has done a good job answering the question, some points like '6. Lifestyle modifications' don't directly adress the question being asked."
   ]
  },
  {
   "cell_type": "markdown",
   "metadata": {
    "id": "5oG9QhbmEwof"
   },
   "source": [
    "### Query 5: What are the necessary precautions and treatment steps for a person who has fractured their leg during a hiking trip, and what should be considered for their care and recovery?\n"
   ]
  },
  {
   "cell_type": "code",
   "execution_count": null,
   "metadata": {
    "colab": {
     "base_uri": "https://localhost:8080/"
    },
    "id": "6qTYJMLLDTYB",
    "outputId": "7c2e1de7-4b9c-4332-b5c7-1f084a866e47"
   },
   "outputs": [
    {
     "name": "stderr",
     "output_type": "stream",
     "text": [
      "Llama.generate: prefix-match hit\n"
     ]
    },
    {
     "name": "stdout",
     "output_type": "stream",
     "text": [
      " Sure, I'd be happy to help! If someone has fractured their leg during a hiking trip, there are several necessary precautions and treatment steps that should be taken to ensure proper care and recovery. Here are some considerations:\n",
      "\n",
      "1. Stop activity: The first step is to stop any further physical activity to prevent further damage or complications. This includes stopping the hike and not putting weight on the affected leg.\n",
      "2. Assess the injury: Evaluate the severity of the fracture by assessing for signs such as deformity, swelling, pain, and difficulty moving the limb. This will help determine the appropriate course of treatment.\n",
      "3. Immobilize the leg: Use a splint or brace to immobilize the affected leg and prevent any further movement. This can be done using materials found in the wilderness, such as sticks and bandanas, or by using a pre-made splint if one is available.\n",
      "4. Manage pain: Administer pain medication, such as ibuprofen or acetaminophen, to help manage discomfort. However, be sure to follow the recommended dosage instructions and only use medications that are appropriate for the individual's medical history and allergies.\n",
      "5. Elevate the leg: Elevate the affected leg above heart level to reduce swelling and improve blood flow. This can be done by propping the leg up on a backpack or other available object.\n",
      "6. Seek medical attention: If possible, seek medical attention as soon as possible. A healthcare professional will be able to assess the severity of the fracture and provide appropriate treatment options, such as setting the bone or applying a cast.\n",
      "7. Monitor for complications: Keep an eye out for any signs of complications, such as infection, nerve damage, or poor blood flow. These can be identified by redness, swelling, increased pain, or difficulty moving the limb. If any of these symptoms are present, seek medical attention immediately.\n",
      "8. Provide rest and recovery: Once the initial injury has been treated, provide plenty of rest and allow the individual to recover. This may involve taking a break from hiking for several weeks or months, depending on the severity of the fracture.\n",
      "9. Follow up with medical care: After seeking initial medical attention, it is important to follow up with a healthcare professional for further evaluation and treatment. This can include physical therapy to help regain strength and mobility in the affected limb.\n",
      "10. Consider prevention measures: Finally, consider taking steps to prevent similar injuries from occurring in the future. This may involve wearing appropriate footwear and protective gear during hiking activities, as well as practicing safe hiking techniques such as staying on designated trails and avoiding slippery or uneven terrain.\n",
      "\n",
      "Overall, proper care and recovery for a fractured leg sustained during a hiking trip requires prompt medical attention, immobilization of the affected limb, pain management, elevation of the leg, monitoring for complications, rest and recovery, follow-up medical care, and prevention measures.\n"
     ]
    }
   ],
   "source": [
    "query_5 = \"What are the necessary precautions and treatment steps for a person who has fractured their leg during a hiking trip, and what should be considered for their care and recovery?\"\n",
    "response = generate_llama_response(query_5)\n",
    "print(response)"
   ]
  },
  {
   "cell_type": "markdown",
   "metadata": {
    "id": "nIO6hzwwEUo5"
   },
   "source": [
    "- The model seems to have answered the question correctly but has added prevention measures in point 10 which was not asked for."
   ]
  },
  {
   "cell_type": "markdown",
   "metadata": {
    "id": "FeTkwoW6MWjp"
   },
   "source": [
    "# Question Answering using LLM with Prompt Engineering"
   ]
  },
  {
   "cell_type": "code",
   "execution_count": 17,
   "metadata": {
    "id": "l7mH80EIDTU6"
   },
   "outputs": [],
   "source": [
    "# function to generate, process, and return the response from the LLM\n",
    "def generate_llama_response(user_prompt, max_tokens, temperature, top_p, top_k, repeat_penalty):\n",
    "\n",
    "    # System message\n",
    "    system_message = \"\"\"\n",
    "    [INST]<<SYS>> Respond to the user question based on the user prompt<</SYS>>[/INST]\n",
    "    \"\"\"\n",
    "\n",
    "    # Combine user_prompt and system_message to create the prompt\n",
    "    prompt = f\"{user_prompt}\\n{system_message}\"\n",
    "\n",
    "    # Generate a response from the LLaMA model\n",
    "    response = llm(\n",
    "        prompt=prompt,\n",
    "        max_tokens=max_tokens,\n",
    "        temperature=temperature,\n",
    "        top_p=top_p,\n",
    "        top_k=top_k,\n",
    "        repeat_penalty=repeat_penalty,\n",
    "        stop=['INST'],\n",
    "        echo=False\n",
    "    )\n",
    "\n",
    "    # Extract and return the response text\n",
    "    response_text = response[\"choices\"][0][\"text\"]\n",
    "    return response_text"
   ]
  },
  {
   "cell_type": "code",
   "execution_count": null,
   "metadata": {
    "colab": {
     "base_uri": "https://localhost:8080/"
    },
    "id": "Dx9y5cboEIDi",
    "outputId": "5ffc00e2-c4b5-425f-dbef-0837f9b243fe"
   },
   "outputs": [
    {
     "name": "stderr",
     "output_type": "stream",
     "text": [
      "Llama.generate: prefix-match hit\n"
     ]
    },
    {
     "name": "stdout",
     "output_type": "stream",
     "text": [
      " Sepsis is a life-threatening medical condition that arises when the body's response to an infection becomes uncontrolled and causes widespread inflammation. It can lead to severe organ dysfunction, including respiratory failure, cardiac arrest, and death. The management of sepsis is a complex and time-sensitive process that requires prompt recognition, early intervention, and careful monitoring in a critical care unit (CCU).\n",
      "\n",
      "Here is the protocol for managing sepsis in a CCU:\n",
      "\n",
      "1. Early Recognition and Activation of Sepsis Protocol: The first step is to recognize the signs and symptoms of sepsis early and activate the sepsis protocol immediately. This includes measuring vital signs, particularly temperature, blood pressure, tachycardia, and tachypnea.\n",
      "2. Rapid Administration of Antibiotics: Once sepsis is suspected, antibiotics should be administered as soon as possible, ideally within the first hour of recognition. The choice of antibiotic depends on the likely source of infection and the patient's allergies and medical history.\n",
      "3. Fluid Resuscitation: Sepsis patients may have hypovolemia or hypoperfusion due to vasodilation, so fluid resuscitation is critical to maintain blood pressure and perfusion. Crystalloid fluids such as lactated Ringer's solution or normal saline should be used initially, and vasopressors may be added if necessary.\n",
      "4. Oxygen Therapy: Sepsis patients often have hypoxia due to poor oxygenation, so providing supplemental oxygen is essential. The oxygen therapy should be titrated based on the patient's blood gases and clinical response.\n",
      "5. Monitoring of Vital Signs and Laboratory Parameters: Close monitoring of vital signs (temperature, blood pressure, tachycardia, and tachypnea) and laboratory parameters (white blood cell count, serum lactate, and hematocrit) is crucial to assess the patient's clinical status and response to treatment.\n",
      "6. Management of Organ Dysfunction: Sepsis can cause severe organ dysfunction, such as respiratory failure, cardiac arrest, and acute kidney\n"
     ]
    }
   ],
   "source": [
    "query_1 = '''\n",
    "Answer the question without exceeding the maximum number of tokens and without skipping any required steps. Also first provide some general information regarding the disease.\n",
    "\n",
    "What is the protocol for managing sepsis in a critical care unit?\"\n",
    "'''\n",
    "\n",
    "response = generate_llama_response(query_1, 512, 0.5, 0.95, 50, 1.2)\n",
    "print(response)"
   ]
  },
  {
   "cell_type": "markdown",
   "metadata": {
    "id": "cQTaXLsvPdz8"
   },
   "source": [
    "- Though we had asked the model to answer the question without exceeding the maximum number of tokens, it has failed to do so.\n",
    "\n",
    "- As asked in the prompt, the model has given some general information regarding the disease."
   ]
  },
  {
   "cell_type": "code",
   "execution_count": null,
   "metadata": {
    "colab": {
     "base_uri": "https://localhost:8080/"
    },
    "id": "jD27WHO9EIBv",
    "outputId": "6ca89794-0884-413c-a146-f877bda23176"
   },
   "outputs": [
    {
     "name": "stderr",
     "output_type": "stream",
     "text": [
      "Llama.generate: prefix-match hit\n"
     ]
    },
    {
     "name": "stdout",
     "output_type": "stream",
     "text": [
      " Sure! Here's my response:\n",
      "\n",
      "Common symptoms of appendicitis include:\n",
      "\n",
      "• Severe pain in the lower right abdomen that begins suddenly and worsens over time\n",
      "\n",
      "• Nausea and vomiting\n",
      "\n",
      "• Loss of appetite\n",
      "\n",
      "• Fever\n",
      "\n",
      "• Abdominal tenderness and swelling\n",
      "\n",
      "• Inability to pass gas or have a bowel movement\n",
      "\n",
      "Medications cannot cure appendicitis. Surgery is necessary to remove the inflamed appendix. The surgical procedure most commonly used to treat appendicitis is an appendectomy, which involves removing the inflamed appendix through an incision in the abdomen. In some cases, a laparoscopic appendectomy may be performed instead, which uses smaller incisions and a camera to guide the surgery.\n",
      "\n",
      "It's important to seek medical attention immediately if you suspect that you or someone else has appendicitis, as delaying treatment can lead to complications such as the appendix rupturing and spreading infection throughout the abdominal cavity.\n"
     ]
    }
   ],
   "source": [
    "query_2 = '''\n",
    "Answer the following question without any disclaimers(including pre-response messages), greetings, or congratulatory messages. Use bullet points wherever necessary.\n",
    "\n",
    "What are the common symptoms for appendicitis, and can it be cured via medicine? If not, what surgical procedure should be followed to treat it?\n",
    "'''\n",
    "\n",
    "response = generate_llama_response(query_2, 1024, 0.2, 0.9, 50, 1.2)\n",
    "print(response)"
   ]
  },
  {
   "cell_type": "markdown",
   "metadata": {
    "id": "X9WGn_aDR8Ss"
   },
   "source": [
    "- The model has included pre-response message (Sure! Here's my response:) though we had asked not to do so.\n",
    "- Bullet points are used and are separated by two new lines.\n"
   ]
  },
  {
   "cell_type": "code",
   "execution_count": null,
   "metadata": {
    "colab": {
     "base_uri": "https://localhost:8080/"
    },
    "id": "zwKy46vFEH65",
    "outputId": "2b721460-7e95-4419-c265-5b9a50f0d2db"
   },
   "outputs": [
    {
     "name": "stderr",
     "output_type": "stream",
     "text": [
      "Llama.generate: prefix-match hit\n"
     ]
    },
    {
     "name": "stdout",
     "output_type": "stream",
     "text": [
      " Sure, I'd be happy to help! Here's my response to the user question based on the user prompt:\n",
      "\n",
      "Effective Treatments and Solutions for Sudden Patchy Hair Loss:\n",
      "\n",
      "1. Identify the underlying cause: It's essential to determine the cause of sudden patchy hair loss to develop an appropriate treatment plan. Possible causes include hormonal imbalances, autoimmune conditions, fungal infections, and nutritional deficiencies.\n",
      "2. Medications: Minoxidil (Rogaine) and finasteride (Propecia) are two FDA-approved medications for treating hair loss. Minoxidil can help stimulate hair growth and slow down hair loss, while finasteride works by blocking the production of dihydrotestosterone (DHT), a hormone that contributes to hair loss.\n",
      "3. Low-level laser therapy (LLLT): LLLT uses low-level lasers or light-emitting diodes to stimulate hair growth. It's thought that the light energy increases blood flow to the scalp, promoting hair growth.\n",
      "4. Platelet-rich plasma (PRP) therapy: PRP therapy involves injecting platelet-rich plasma (PRP) into the scalp. PRP contains growth factors that promote hair growth and can help stimulate the hair follicles.\n",
      "5. Diet and nutrition: Eating a balanced diet rich in vitamins and minerals, particularly those that promote hair growth such as iron, zinc, and biotin, can help address sudden patchy hair loss.\n",
      "\n",
      "Possible Causes of Sudden Patchy Hair Loss:\n",
      "\n",
      "1. Hormonal imbalances: Hormonal changes, such as those that occur during menopause or pregnancy, can cause sudden patchy hair loss.\n",
      "2. Autoimmune conditions: Conditions like alopecia areata, lupus, and rheumatoid arthritis can cause sudden hair loss due to inflammation and an immune system attack on the hair follicles.\n",
      "3. Fungal infections: Fungal infections like ringworm can cause patchy hair loss due to inflammation and damage to the hair follicles.\n",
      "4. Nutritional deficiencies: Deficiencies in essential nutrients like iron, zinc, and biotin can contribute to sudden patchy hair loss.\n",
      "5. Stress and anxiety: Prolonged stress and anxiety can cause hair loss due to the body's natural response to stress, including an increase in the production of stress hormones like cortisol.\n",
      "\n",
      "I hope this information helps! If you're experiencing sudden patchy hair loss, it's essential to consult with a dermatologist to determine the underlying cause and develop an appropriate treatment plan.\n"
     ]
    }
   ],
   "source": [
    "query_3 = '''\n",
    "Don't give one-line big response for the following questions. Break the answer into points as necessary. Highlight important words/phrases. Make a clear distinction between the answers\n",
    "if multiple questions are packed into one.\n",
    "\n",
    "What are the effective treatments or solutions for addressing sudden patchy hair loss, commonly seen as localized bald spots on the scalp, and what could be the possible causes behind it?\"\n",
    "\n",
    "'''\n",
    "\n",
    "response = generate_llama_response(query_3, 1024, 0.1, 0.9, 40, 1)\n",
    "print(response)"
   ]
  },
  {
   "cell_type": "markdown",
   "metadata": {
    "id": "VaMWKeZmBJoa"
   },
   "source": [
    "- The answer is not nicely formatted compared to the answer without prompt.\n",
    "- The answers for different sub-questions are also clearly separated"
   ]
  },
  {
   "cell_type": "code",
   "execution_count": null,
   "metadata": {
    "colab": {
     "base_uri": "https://localhost:8080/"
    },
    "id": "4G2he9UhyG8G",
    "outputId": "825f20f3-9288-48dd-eb6c-66cbd57046bf"
   },
   "outputs": [
    {
     "name": "stderr",
     "output_type": "stream",
     "text": [
      "Llama.generate: prefix-match hit\n"
     ]
    },
    {
     "name": "stdout",
     "output_type": "stream",
     "text": [
      " Sure! Here's my response: \n",
      "\n",
      "What treatments are recommended for a person who has sustained physical injury to brain tissue, resulting in temporary or permanent impairment of brain function?  \n",
      "\n",
      "Treatment options may vary depending on the severity and location of the injury. However, here are some common recommendations that healthcare providers might suggest: \n",
      "\n",
      "Rehabilitation Therapy - Rehabilitation therapies such as physical, occupational, speech, language, cognitive-behavioral, or psychotherapy may be recommended to help regain lost functions and improve daily living skills. The goal is to maximize the patient's potential for recovery and minimize any long-term disability. \n",
      "\n",
      "Medications - Medication can play a crucial role in managing symptoms such as pain, anxiety, depression, or seizures that may result from brain injury. Common medications include analgesics (pain relievers), antidepressants, anti-anxiety drugs, and mood stabilizers. \n",
      "\n",
      "Surgery - In some cases where the damage is severe or localized, surgical intervention might be necessary to remove a blood clot, repair damaged tissue, or alleviate pressure on affected areas of the brain.  \n",
      "\n",
      "Lifestyle Changes - Lifestyle modifications such as regular exercise, proper nutrition and hydration, stress management techniques like meditation/yoga, adequate sleep hygiene, and avoiding harmful substances can help support recovery from a brain injury. \n",
      "\n",
      "Assistive Devices - Assistive devices may be recommended to aid daily living activities such as walking aids (canes or walkers), communication tools like speech-generating devices for those with language impairments, memory aids in the form of calendars/reminders, and cognitive training software. \n",
      "\n",
      "Cognitive Rehabilitation - Cognitive rehab programs focus on improving problem-solving skills, attention span management, decision making abilities, processing speed enhancement, etc., which can be impacted due to brain injury. These interventions may involve computerized exercises or paper/pencil tasks designed specifically for the patient's needs and goals. \n",
      "\n",
      "Support Groups - Joining support groups either online or in-person provides an opportunity to connect with others who have experienced similar challenges, share experiences, gain insight into different coping strategies, receive emotional support from peers/family members, etc., all of which can contribute positively towards the healing process. \n",
      "\n",
      "It's important for patients and their families or caregivers to work closely with healthcare providers throughout this journey so that they may tailor treatment plans according to individual needs while monitoring progress along the way!\n"
     ]
    }
   ],
   "source": [
    "query_4 = '''\n",
    "Answer the below question using heading and sub-headings to give a structured output. If points are to be made, give them one below the other.\n",
    "Do not use more than 30 words in one line - go to the next line if it exceeds 30 words in a line.\n",
    "\n",
    "What treatments are recommended for a person who has sustained a physical injury to brain tissue, resulting in temporary or permanent impairment of brain function?\n",
    "\n",
    "'''\n",
    "\n",
    "response = generate_llama_response(query_4, 1024, 0.05, 0.8, 35, 1.3)\n",
    "print(response)"
   ]
  },
  {
   "cell_type": "markdown",
   "metadata": {
    "id": "pGBD4JgvT5Nk"
   },
   "source": [
    "- The output for this prompt is not structured in a nice way. Thought the model has used new-lines to separate points, the format is not good."
   ]
  },
  {
   "cell_type": "code",
   "execution_count": null,
   "metadata": {
    "colab": {
     "base_uri": "https://localhost:8080/"
    },
    "id": "EanQW9Bny_hd",
    "outputId": "c7d04237-db72-49dc-a996-f43608e7efaf"
   },
   "outputs": [
    {
     "name": "stderr",
     "output_type": "stream",
     "text": [
      "Llama.generate: prefix-match hit\n"
     ]
    },
    {
     "name": "stdout",
     "output_type": "stream",
     "text": [
      " Sure, I'd be happy to help! If someone has fractured their leg during a hiking trip, there are several necessary precautions and treatment steps that should be taken to ensure proper care and recovery. Here are some considerations:\n",
      "\n",
      "1. Stop activity: The first step is to stop any further activity or weight-bearing on the affected leg to prevent further damage or complications. This may involve calling for help, signaling for assistance, or using a whistle to alert others of the situation.\n",
      "2. Assess the injury: Next, assess the severity of the fracture by checking for signs of swelling, deformity, or open wounds. If the fracture is displaced (meaning the bone is no longer in its normal position), do not attempt to realign it. Instead, immobilize the leg using a splint or brace to keep it stable.\n",
      "3. Immobilize the leg: Use a splint or brace to immobilize the affected leg and prevent any further movement. This can be done using materials found in nature, such as sticks and leaves, or by creating a makeshift splint using clothing or other available items.\n",
      "4. Elevate the leg: Elevate the fractured leg above the level of the heart to reduce swelling and promote blood flow. This can be done by propping the leg up against a backpack or rock, for example.\n",
      "5. Apply ice: Apply ice to the affected area to reduce pain and swelling. If ice is not available, use cold water or a cold compress instead. Wrap the ice or cold compress in a cloth to avoid direct contact with the skin.\n",
      "6. Monitor vital signs: Check the person's vital signs, such as their pulse, breathing rate, and blood pressure, regularly to ensure they are stable. If they are experiencing any difficulty breathing, have a rapid heartbeat, or are feeling faint, call for emergency medical assistance immediately.\n",
      "7. Prepare for evacuation: Once the person is stabilized, prepare them for evacuation by carrying them on a stretcher or using a backboard to immobilize their spine and neck. If possible, use a radio or other communication device to call for help and alert authorities of your location.\n",
      "8. Seek medical attention: As soon as possible, seek medical attention at a hospital or urgent care center with an orthopedic specialist. The fracture will need to be properly set and immobilized using a cast or brace, and any other injuries or complications will need to be addressed.\n",
      "9. Follow-up care: After the initial treatment and evacuation, follow up with medical professionals to ensure proper healing and recovery. This may involve regular check-ins, X-rays or other imaging tests, and physical therapy exercises to restore strength and mobility to the affected leg.\n",
      "\n",
      "In addition to these precautions and treatment steps, there are several other considerations for the care and recovery of someone who has fractured their leg during a hiking trip:\n",
      "\n",
      "1. Keep the leg elevated: Elevate the fractured leg above the level of the heart as much as possible to reduce swelling and promote blood flow.\n",
      "2. Monitor for infection: Check for signs of infection, such as redness, swelling, or pus, regularly and seek medical attention if any are present.\n",
      "3. Manage pain: Use pain medication as directed by medical professionals to manage discomfort and promote healing.\n",
      "4. Restrict activities: Avoid putting weight on the affected leg and restrict activities that may exacerbate the injury or slow down the recovery process.\n",
      "5. Follow a rehabilitation plan: Work with physical therapists or other medical professionals to develop a rehabilitation plan that addresses strength, mobility, and range of motion exercises to restore full function to the affected leg.\n",
      "\n",
      "Overall, proper care and treatment for a fractured leg during a hiking trip requires prompt assessment, immobilization, elevation, ice application, vital sign monitoring, preparation for evacuation, and seeking medical attention as soon as possible. Additionally, follow-up care and rehabilitation are crucial to ensure proper healing and recovery.\n"
     ]
    }
   ],
   "source": [
    "query_5 = '''\n",
    "\n",
    "Tell me what you are thinking to thoroughly answer the below question and then answer it.\n",
    "\n",
    "What are the necessary precautions and treatment steps for a person who has fractured their leg during a hiking trip, and what should be considered for their care and recovery?\"\n",
    "\n",
    "'''\n",
    "\n",
    "response = generate_llama_response(query_5, 1024, 0.01, 0.8, 30, 1.15)\n",
    "print(response)"
   ]
  },
  {
   "cell_type": "markdown",
   "metadata": {
    "id": "v1IuQtGTUVgJ"
   },
   "source": [
    "- The model has not shown what it is thinking as asked.\n",
    "- The answer has still improved compared to the not prompted answer."
   ]
  },
  {
   "cell_type": "code",
   "execution_count": null,
   "metadata": {
    "colab": {
     "base_uri": "https://localhost:8080/"
    },
    "id": "D_-wVTSNEVsA",
    "outputId": "b2948417-ae69-4ac6-95ae-dcf4d9e399dd"
   },
   "outputs": [
    {
     "name": "stderr",
     "output_type": "stream",
     "text": [
      "Llama.generate: prefix-match hit\n"
     ]
    },
    {
     "name": "stdout",
     "output_type": "stream",
     "text": [
      "\n",
      "   Sure! Here are three different tones to answer the user's question: \n",
      "\n",
      "1. Neutral Tone:\n",
      "\n",
      "If a person fractures their leg during a hiking trip, it is essential to seek immediate medical attention. The necessary precautions and treatment steps include immobilizing the affected limb, managing pain, and ensuring proper wound care. Additionally, consideration should be given to the individual's overall health, age, and any other medical conditions they may have. It is crucial to follow a healthcare professional's advice throughout the recovery process to ensure proper healing and minimize complications.\n",
      "\n",
      "2. Cautious Tone:\n",
      "\n",
      "If you or someone you know has fractured their leg during a hiking trip, it is imperative to exercise extreme caution when providing care and treatment. Firstly, immobilize the affected limb using a splint or cast to prevent further damage. Secondly, manage pain through medication or alternative methods, such as breathing exercises or meditation. Thirdly, ensure proper wound care by cleaning and dressing the injury regularly. Furthermore, consider the individual's age, health status, and any pre-existing medical conditions before administering treatment. Seek professional medical help immediately if symptoms worsen or do not improve within a reasonable time frame.\n",
      "\n",
      "3. Funny Tone:\n",
      "\n",
      "Ouch! Fractured your leg during a hiking trip? Well, at least you got a cool story out of it! But seriously, folks, let's get down to business. First things first, immobilize that busted limb with a splint or cast. Don't worry; it'll be like wearing a fancy club on your leg. Next up, manage that pain like a pro with some meds or some deep breathing exercises. And hey, if you're feeling extra adventurous, try out some wound care techniques – just kidding (or am I?). Anyways, take it easy and don't overdo it, especially if you've got any pre-existing medical conditions. Oh, and if things go south, don't worry; your healthcare professional will be there to save the day like a superhero!\n"
     ]
    }
   ],
   "source": [
    "query_6 = '''\n",
    "\n",
    "Answer the below question accurately but in three different tones: neutral, cautious and funny.\n",
    "\n",
    "What are the necessary precautions and treatment steps for a person who has fractured their leg during a hiking trip, and what should be considered for their care and recovery?\"\n",
    "\n",
    "'''\n",
    "\n",
    "response = generate_llama_response(query_6, 2048, 0.01, 0.8, 30, 1.15)\n",
    "print(response)"
   ]
  },
  {
   "cell_type": "markdown",
   "metadata": {
    "id": "x9LXJzlLVYMi"
   },
   "source": [
    "- As was asked in the prompt, the model has answered the question in three different tones."
   ]
  },
  {
   "cell_type": "markdown",
   "metadata": {
    "id": "3Vpa6E8cdyy5"
   },
   "source": [
    "# Data Preparation for RAG"
   ]
  },
  {
   "cell_type": "markdown",
   "metadata": {
    "id": "YWxlqRQPMQ6O"
   },
   "source": [
    "### Data Overview"
   ]
  },
  {
   "cell_type": "markdown",
   "metadata": {
    "id": "bVtNYx8gdSaX"
   },
   "source": [
    "#### Checking the first 5 pages"
   ]
  },
  {
   "cell_type": "code",
   "execution_count": null,
   "metadata": {
    "colab": {
     "base_uri": "https://localhost:8080/"
    },
    "id": "2Q9fD5-QdOTX",
    "outputId": "b6f45654-47ae-4303-cb05-e31233097eb0"
   },
   "outputs": [
    {
     "name": "stdout",
     "output_type": "stream",
     "text": [
      "Page Number : 1\n",
      "subhash66cs@gmail.com\n",
      "A5R9PMSOBN\n",
      "ant for personal use by subhash66cs@g\n",
      "shing the contents in part or full is liable \n",
      "\n",
      "Page Number : 2\n",
      "subhash66cs@gmail.com\n",
      "A5R9PMSOBN\n",
      "This file is meant for personal use by subhash66cs@gmail.com only.\n",
      "Sharing or publishing the contents in part or full is liable for legal action.\n",
      "\n",
      "Page Number : 3\n",
      "Table of Contents\n",
      "1\n",
      "Front    ................................................................................................................................................................................................................\n",
      "1\n",
      "Cover    .......................................................................................................................................................................................................\n",
      "2\n",
      "Front Matter    ...........................................................................................................................................................................................\n",
      "53\n",
      "1 - Nutritional Disorders    ...............................................................................................................................................................\n",
      "53\n",
      "Chapter 1. Nutrition: General Considerations    .....................................................................................................................\n",
      "59\n",
      "Chapter 2. Undernutrition    .............................................................................................................................................................\n",
      "69\n",
      "Chapter 3. Nutritional Support    ...................................................................................................................................................\n",
      "76\n",
      "Chapter 4. Vitamin Deficiency, Dependency & Toxicity    ..................................................................................................\n",
      "99\n",
      "Chapter 5. Mineral Deficiency & Toxicity    ..............................................................................................................................\n",
      "108\n",
      "Chapter 6. Obesity & the Metabolic Syndrome    ...............................................................................................................\n",
      "120\n",
      "2 - Gastrointestinal Disorders    ..............................................................................................................................................\n",
      "120\n",
      "Chapter 7. Approach to the Patient With Upper GI Complaints    ...............................................................................\n",
      "132\n",
      "Chapter 8. Approach to the Patient With Lower GI Complaints    ...............................................................................\n",
      "143\n",
      "Chapter 9. Diagnostic & Therapeutic GI Procedures    ....................................................................................................\n",
      "150\n",
      "Chapter 10. GI Bleeding    ............................................................................................................................................................\n",
      "158\n",
      "Chapter 11. Acute Abdomen & Surgical Gastroenterology    .........................................................................................\n",
      "172\n",
      "Chapter 12. Esophageal & Swallowing Disorders    ..........................................................................................................\n",
      "183\n",
      "Chapter 13. Gastritis & Peptic Ulcer Disease    ..................................................................................................................\n",
      "196\n",
      "Chapter 14. Bezoars & Foreign Bodies    ..............................................................................................................................\n",
      "199\n",
      "Chapter 15. Pancreatitis    ............................................................................................................................................................\n",
      "206\n",
      "Chapter 16. Gastroenteritis    ......................................................................................................................................................\n",
      "213\n",
      "Chapter 17. Malabsorption Syndromes    ..............................................................................................................................\n",
      "225\n",
      "Chapter 18. Irritable Bowel Syndrome    ................................................................................................................................\n",
      "229\n",
      "Chapter 19. Inflammatory Bowel Disease    .........................................................................................................................\n",
      "241\n",
      "Chapter 20. Diverticular Disease    ...........................................................................................................................................\n",
      "246\n",
      "Chapter 21. Anorectal Disorders    ............................................................................................................................................\n",
      "254\n",
      "Chapter 22. Tumors of the GI Tract    ......................................................................................................................................\n",
      "275\n",
      "3 - Hepatic & Biliary Disorders    ............................................................................................................................................\n",
      "275\n",
      "Chapter 23. Approach to the Patient With Liver Disease    ...........................................................................................\n",
      "294\n",
      "Chapter 24. Testing for Hepatic & Biliary Disorders    ......................................................................................................\n",
      "305\n",
      "Chapter 25. Drugs & the Liver    ................................................................................................................................................\n",
      "308\n",
      "Chapter 26. Alcoholic Liver Disease    ....................................................................................................................................\n",
      "314\n",
      "Chapter 27. Fibrosis & Cirrhosis    ............................................................................................................................................\n",
      "322\n",
      "Chapter 28. Hepatitis    ..................................................................................................................................................................\n",
      "333\n",
      "Chapter 29. Vascular Disorders of the Liver    .....................................................................................................................\n",
      "341\n",
      "Chapter 30. Liver Masses & Granulomas    ..........................................................................................................................\n",
      "348\n",
      "Chapter 31. Gallbladder & Bile Duct Disorders    ...............................................................................................................\n",
      "362\n",
      "4 - Musculoskeletal & Connective Tissue Disorders    .........................................................................................\n",
      "362\n",
      "Chapter 32. Approach to the Patient With Joint Disease    ............................................................................................\n",
      "373\n",
      "Chapter 33. Autoimmune Rheumatic Disorders    ..............................................................................................................\n",
      "391\n",
      "Chapter 34. Vasculitis    .................................................................................................................................................................\n",
      "416\n",
      "Chapter 35. Joint Disorders    .....................................................................................................................................................\n",
      "435\n",
      "Chapter 36. Crystal-Induced Arthritides    ..............................................................................................................................\n",
      "443\n",
      "Chapter 37. Osteoporosis    .........................................................................................................................................................\n",
      "448\n",
      "Chapter 38. Paget's Disease of Bone    ..................................................................................................................................\n",
      "451\n",
      "Chapter 39. Osteonecrosis    .......................................................................................................................................................\n",
      "455\n",
      "Chapter 40. Infections of Joints & Bones    ...........................................................................................................................\n",
      "463\n",
      "Chapter 41. Bursa, Muscle & Tendon Disorders    .............................................................................................................\n",
      "470\n",
      "Chapter 42. Neck & Back Pain    ...............................................................................................................................................\n",
      "481\n",
      "Chapter 43. Hand Disorders    ....................................................................................................................................................\n",
      "subhash66cs@gmail.com\n",
      "A5R9PMSOBN\n",
      "This file is meant for personal use by subhash66cs@gmail.com only.\n",
      "Sharing or publishing the contents in part or full is liable for legal action.\n",
      "\n",
      "Page Number : 4\n",
      "491\n",
      "Chapter 44. Foot & Ankle Disorders    .....................................................................................................................................\n",
      "502\n",
      "Chapter 45. Tumors of Bones & Joints    ...............................................................................................................................\n",
      "510\n",
      "5 - Ear, Nose, Throat & Dental Disorders    ..................................................................................................................\n",
      "510\n",
      "Chapter 46. Approach to the Patient With Ear Problems    ...........................................................................................\n",
      "523\n",
      "Chapter 47. Hearing Loss    .........................................................................................................................................................\n",
      "535\n",
      "Chapter 48. Inner Ear Disorders    ............................................................................................................................................\n",
      "542\n",
      "Chapter 49. Middle Ear & Tympanic Membrane Disorders    ........................................................................................\n",
      "550\n",
      "Chapter 50. External Ear Disorders    .....................................................................................................................................\n",
      "554\n",
      "Chapter 51. Approach to the Patient With Nasal & Pharyngeal Symptoms    .......................................................\n",
      "567\n",
      "Chapter 52. Oral & Pharyngeal Disorders    .........................................................................................................................\n",
      "578\n",
      "Chapter 53. Nose & Paranasal Sinus Disorders    .............................................................................................................\n",
      "584\n",
      "Chapter 54. Laryngeal Disorders    ...........................................................................................................................................\n",
      "590\n",
      "Chapter 55. Tumors of the Head & Neck    ...........................................................................................................................\n",
      "600\n",
      "Chapter 56. Approach to Dental & Oral Symptoms    .......................................................................................................\n",
      "619\n",
      "Chapter 57. Common Dental Disorders    .............................................................................................................................\n",
      "629\n",
      "Chapter 58. Dental Emergencies    ..........................................................................................................................................\n",
      "635\n",
      "Chapter 59. Temporomandibular Disorders    ......................................................................................................................\n",
      "641\n",
      "6 - Eye Disorders    ............................................................................................................................................................................\n",
      "641\n",
      "Chapter 60. Approach to the Ophthalmologic Patient    ..................................................................................................\n",
      "669\n",
      "Chapter 61. Refractive Error    ...................................................................................................................................................\n",
      "674\n",
      "Chapter 62. Eyelid & Lacrimal Disorders    ...........................................................................................................................\n",
      "680\n",
      "Chapter 63. Conjunctival & Scleral Disorders    .................................................................................................................\n",
      "690\n",
      "Chapter 64. Corneal Disorders    ...............................................................................................................................................\n",
      "703\n",
      "Chapter 65. Glaucoma    ...............................................................................................................................................................\n",
      "710\n",
      "Chapter 66. Cataract    ...................................................................................................................................................................\n",
      "713\n",
      "Chapter 67. Uveitis    ......................................................................................................................................................................\n",
      "719\n",
      "Chapter 68. Retinal Disorders    .................................................................................................................................................\n",
      "731\n",
      "Chapter 69. Optic Nerve Disorders    ......................................................................................................................................\n",
      "737\n",
      "Chapter 70. Orbital Diseases    ..................................................................................................................................................\n",
      "742\n",
      "7 - Dermatologic Disorders    ....................................................................................................................................................\n",
      "742\n",
      "Chapter 71. Approach to the Dermatologic Patient    .......................................................................................................\n",
      "755\n",
      "Chapter 72. Principles of Topical Dermatologic Therapy    ............................................................................................\n",
      "760\n",
      "Chapter 73. Acne & Related Disorders    ...............................................................................................................................\n",
      "766\n",
      "Chapter 74. Bullous Diseases    .................................................................................................................................................\n",
      "771\n",
      "Chapter 75. Cornification Disorders    .....................................................................................................................................\n",
      "775\n",
      "Chapter 76. Dermatitis    ...............................................................................................................................................................\n",
      "786\n",
      "Chapter 77. Reactions to Sunlight    ........................................................................................................................................\n",
      "791\n",
      "Chapter 78. Psoriasis & Scaling Diseases    ........................................................................................................................\n",
      "799\n",
      "Chapter 79. Hypersensitivity & Inflammatory Disorders    .............................................................................................\n",
      "808\n",
      "Chapter 80. Sweating Disorders    ............................................................................................................................................\n",
      "811\n",
      "Chapter 81. Bacterial Skin Infections    ...................................................................................................................................\n",
      "822\n",
      "Chapter 82. Fungal Skin Infections    ......................................................................................................................................\n",
      "831\n",
      "Chapter 83. Parasitic Skin Infections    ...................................................................................................................................\n",
      "836\n",
      "Chapter 84. Viral Skin Diseases    ............................................................................................................................................\n",
      "841\n",
      "Chapter 85. Pigmentation Disorders    ....................................................................................................................................\n",
      "846\n",
      "Chapter 86. Hair Disorders    .......................................................................................................................................................\n",
      "855\n",
      "Chapter 87. Nail Disorders    .......................................................................................................................................................\n",
      "861\n",
      "Chapter 88. Pressure Ulcers    ...................................................................................................................................................\n",
      "867\n",
      "Chapter 89. Benign Tumors    .....................................................................................................................................................\n",
      "874\n",
      "Chapter 90. Cancers of the Skin    ............................................................................................................................................\n",
      "882\n",
      "8 - Endocrine & Metabolic Disorders    .............................................................................................................................\n",
      "882\n",
      "Chapter 91. Principles of Endocrinology    ............................................................................................................................\n",
      "887\n",
      "Chapter 92. Pituitary Disorders    ..............................................................................................................................................\n",
      "901\n",
      "Chapter 93. Thyroid Disorders    ................................................................................................................................................\n",
      "subhash66cs@gmail.com\n",
      "A5R9PMSOBN\n",
      "This file is meant for personal use by subhash66cs@gmail.com only.\n",
      "Sharing or publishing the contents in part or full is liable for legal action.\n",
      "\n",
      "Page Number : 5\n",
      "921\n",
      "Chapter 94. Adrenal Disorders    ................................................................................................................................................\n",
      "936\n",
      "Chapter 95. Polyglandular Deficiency Syndromes    ........................................................................................................\n",
      "939\n",
      "Chapter 96. Porphyrias    ..............................................................................................................................................................\n",
      "949\n",
      "Chapter 97. Fluid & Electrolyte Metabolism    .....................................................................................................................\n",
      "987\n",
      "Chapter 98. Acid-Base Regulation & Disorders    ..............................................................................................................\n",
      "1001\n",
      "Chapter 99. Diabetes Mellitus & Disorders of Carbohydrate Metabolism    ........................................................\n",
      "1024\n",
      "Chapter 100. Lipid Disorders    ................................................................................................................................................\n",
      "1034\n",
      "Chapter 101. Amyloidosis    ......................................................................................................................................................\n",
      "1037\n",
      "Chapter 102. Carcinoid Tumors    ..........................................................................................................................................\n",
      "1040\n",
      "Chapter 103. Multiple Endocrine Neoplasia Syndromes    .........................................................................................\n",
      "1046\n",
      "9 - Hematology & Oncology    ...............................................................................................................................................\n",
      "1046\n",
      "Chapter 104. Approach to the Patient With Anemia    ..................................................................................................\n",
      "1050\n",
      "Chapter 105. Anemias Caused by Deficient Erythropoiesis    ...................................................................................\n",
      "1061\n",
      "Chapter 106. Anemias Caused by Hemolysis    ...............................................................................................................\n",
      "1078\n",
      "Chapter 107. Neutropenia & Lymphocytopenia    ...........................................................................................................\n",
      "1086\n",
      "Chapter 108. Thrombocytopenia & Platelet Dysfunction    .........................................................................................\n",
      "1097\n",
      "Chapter 109. Hemostasis    ......................................................................................................................................................\n",
      "1104\n",
      "Chapter 110. Thrombotic Disorders    ...................................................................................................................................\n",
      "1107\n",
      "Chapter 111. Coagulation Disorders    ..................................................................................................................................\n",
      "1113\n",
      "Chapter 112. Bleeding Due to Abnormal Blood Vessels    ...........................................................................................\n",
      "1116\n",
      "Chapter 113. Spleen Disorders    ............................................................................................................................................\n",
      "1120\n",
      "Chapter 114. Eosinophilic Disorders    .................................................................................................................................\n",
      "1126\n",
      "Chapter 115. Histiocytic Syndromes    .................................................................................................................................\n",
      "1131\n",
      "Chapter 116. Myeloproliferative Disorders    .....................................................................................................................\n",
      "1141\n",
      "Chapter 117. Leukemias    .........................................................................................................................................................\n",
      "1154\n",
      "Chapter 118. Lymphomas    ......................................................................................................................................................\n",
      "1164\n",
      "Chapter 119. Plasma Cell Disorders    .................................................................................................................................\n",
      "1172\n",
      "Chapter 120. Iron Overload    ...................................................................................................................................................\n",
      "1177\n",
      "Chapter 121. Transfusion Medicine    ...................................................................................................................................\n",
      "1186\n",
      "Chapter 122. Overview of Cancer    ......................................................................................................................................\n",
      "1198\n",
      "Chapter 123. Tumor Immunology    .......................................................................................................................................\n",
      "1204\n",
      "Chapter 124. Principles of Cancer Therapy    ...................................................................................................................\n",
      "1215\n",
      "10 - Immunology; Allergic Disorders    ...........................................................................................................................\n",
      "1215\n",
      "Chapter 125. Biology of the Immune System    ...............................................................................................................\n",
      "1227\n",
      "Chapter 126. Immunodeficiency Disorders    ....................................................................................................................\n",
      "1243\n",
      "Chapter 127. Allergic & Other Hypersensitivity Disorders    .......................................................................................\n",
      "1263\n",
      "Chapter 128. Transplantation    ...............................................................................................................................................\n",
      "1281\n",
      "11 - Infectious Diseases    ........................................................................................................................................................\n",
      "1281\n",
      "Chapter 129. Biology of Infectious Disease    ...................................................................................................................\n",
      "1300\n",
      "Chapter 130. Laboratory Diagnosis of Infectious Disease    ......................................................................................\n",
      "1306\n",
      "Chapter 131. Immunization    ...................................................................................................................................................\n",
      "1313\n",
      "Chapter 132. Bacteria & Antibacterial Drugs    .................................................................................................................\n",
      "1353\n",
      "Chapter 133. Gram-Positive Cocci    ....................................................................................................................................\n",
      "1366\n",
      "Chapter 134. Gram-Positive Bacilli    ...................................................................................................................................\n",
      "1376\n",
      "Chapter 135. Gram-Negative Bacilli    .................................................................................................................................\n",
      "1405\n",
      "Chapter 136. Spirochetes    ......................................................................................................................................................\n",
      "1413\n",
      "Chapter 137. Neisseriaceae    .................................................................................................................................................\n",
      "1419\n",
      "Chapter 138. Chlamydia & Mycoplasmas    ......................................................................................................................\n",
      "1421\n",
      "Chapter 139. Rickettsiae & Related Organisms    ..........................................................................................................\n",
      "1431\n",
      "Chapter 140. Anaerobic Bacteria    ........................................................................................................................................\n",
      "1450\n",
      "Chapter 141. Mycobacteria    ...................................................................................................................................................\n",
      "1470\n",
      "Chapter 142. Fungi    ...................................................................................................................................................................\n",
      "1493\n",
      "Chapter 143. Approach to Parasitic Infections    .............................................................................................................\n",
      "1496\n",
      "Chapter 144. Nematodes (Roundworms)    .......................................................................................................................\n",
      "subhash66cs@gmail.com\n",
      "A5R9PMSOBN\n",
      "This file is meant for personal use by subhash66cs@gmail.com only.\n",
      "Sharing or publishing the contents in part or full is liable for legal action.\n",
      "\n"
     ]
    }
   ],
   "source": [
    "# print the text of the first five pages\n",
    "\n",
    "for i in range(5):\n",
    "    print(f\"Page Number : {i+1}\", end=\"\\n\")\n",
    "    print(text[i].page_content, end=\"\\n\")"
   ]
  },
  {
   "cell_type": "markdown",
   "metadata": {
    "id": "uNMnV-tLdgKR"
   },
   "source": [
    "#### Checking the number of pages"
   ]
  },
  {
   "cell_type": "code",
   "execution_count": null,
   "metadata": {
    "colab": {
     "base_uri": "https://localhost:8080/"
    },
    "id": "AY_W8OhXdZnB",
    "outputId": "1a582c29-c278-476b-e1fe-049dd88d022e"
   },
   "outputs": [
    {
     "data": {
      "text/plain": [
       "4114"
      ]
     },
     "execution_count": 30,
     "metadata": {},
     "output_type": "execute_result"
    }
   ],
   "source": [
    "len(text)"
   ]
  },
  {
   "cell_type": "markdown",
   "metadata": {
    "id": "PMDeIjWsdnAX"
   },
   "source": [
    "## Data Chunking"
   ]
  },
  {
   "cell_type": "code",
   "execution_count": 20,
   "metadata": {
    "id": "qDQL_5kqdpfA"
   },
   "outputs": [],
   "source": [
    "# Initialize a recursive text splitter using the tiktoken encoder\n",
    "\n",
    "text_splitter = RecursiveCharacterTextSplitter.from_tiktoken_encoder(\n",
    "    encoding_name='cl100k_base',\n",
    "    chunk_size=512,\n",
    "    chunk_overlap= 20\n",
    ")"
   ]
  },
  {
   "cell_type": "code",
   "execution_count": 21,
   "metadata": {
    "id": "SFE_Jyo-kJn4"
   },
   "outputs": [],
   "source": [
    "# Load PDF content and splits it into smaller chunks using the provided text splitter.\n",
    "\n",
    "document_chunks = pdf_loader.load_and_split(text_splitter)"
   ]
  },
  {
   "cell_type": "code",
   "execution_count": 21,
   "metadata": {
    "colab": {
     "base_uri": "https://localhost:8080/"
    },
    "id": "wwS7hILMkSUJ",
    "outputId": "f358366e-c009-4891-f7c4-d7b5cd3586f6"
   },
   "outputs": [
    {
     "data": {
      "text/plain": [
       "8469"
      ]
     },
     "execution_count": 21,
     "metadata": {},
     "output_type": "execute_result"
    }
   ],
   "source": [
    "len(document_chunks)"
   ]
  },
  {
   "cell_type": "code",
   "execution_count": null,
   "metadata": {
    "colab": {
     "base_uri": "https://localhost:8080/",
     "height": 107
    },
    "id": "ji1qhCWpIb_j",
    "outputId": "ffca16f2-b744-480a-b546-0de2ce2b5cf1"
   },
   "outputs": [
    {
     "data": {
      "application/vnd.google.colaboratory.intrinsic+json": {
       "type": "string"
      },
      "text/plain": [
       "\"Louisiana State University Health Sciences\\nCenter at Shreveport\\nBites and Stings\\nJOHN G. BARTLETT, MD\\nProfessor of Medicine, Johns Hopkins\\nUniversity School of Medicine\\nAcute Bronchitis; Pneumonia; Lung Abscess\\nROSEMARY BASSON, MD\\nClinical Professor, Department of Psychiatry,\\nUniversity of British Columbia and Vancouver\\nHospital\\nSexual Dysfunction in Women\\nBYRON E. BATTEIGER, MD\\nProfessor of Medicine and Microbiology and\\nImmunology, Division of Infectious Diseases,\\nIndiana University School of Medicine\\nChlamydia and Mycoplasmas\\nLEE B. BEERMAN, MD\\nProfessor of Pediatrics, Division of Pediatric\\nCardiology, Children's Hospital of Pittsburgh\\nof UPMC, University of Pittsburgh School of\\nMedicine\\nCongenital Cardiovascular Anomalies\\nJ. BRAD BELLOTTE, MD\\nDirector of Complex Spine Surgery and\\nDirector of Neurotrauma, Department of\\nNeurosurgery, Allegheny General Hospital,\\nPittsburgh\\nSpinal Trauma\\nJOSHUA O. BENDITT, MD\\nProfessor of Medicine, Division of Pulmonary\\nand Critical Care, University of Washington\\nSchool of Medicine; Director of Respiratory\\nCare Medicine, University of Washington\\nMedical Center\\nBronchiectasis\\nJAMES R. BERENSON, MD\\nMedical and Scientific Director, Institute for\\nMyeloma and Bone Cancer Research, West\\nHollywood\\nPlasma Cell Disorders\\nBARBARA J. BERKMAN, DSW, PhD\\nHelen Rehr/Ruth Fitzdale Professor, Columbia\\nUniversity School of Social Work; Principal\\nInvestigator and National Director, Hartford\\nGeriatric Social Work Faculty Scholars Program\\nSocial Issues in the Elderly\\nCHESTON M. BERLIN, Jr., MD\\nUniversity Professor of Pediatrics and\\nThe Merck Manual of Diagnosis & Therapy, 19th Edition\\nFront Matter\\n18\\nsubhash66cs@gmail.com\\nA5R9PMSOBN\\nThis file is meant for personal use by subhash66cs@gmail.com only.\\nSharing or publishing the contents in part or full is liable for legal action.\""
      ]
     },
     "execution_count": 24,
     "metadata": {},
     "output_type": "execute_result"
    }
   ],
   "source": [
    "document_chunks[45].page_content"
   ]
  },
  {
   "cell_type": "code",
   "execution_count": null,
   "metadata": {
    "colab": {
     "base_uri": "https://localhost:8080/",
     "height": 107
    },
    "id": "7orK9pXvkiiE",
    "outputId": "752687de-77b3-45fc-bd97-1b1d55aa0b11"
   },
   "outputs": [
    {
     "data": {
      "application/vnd.google.colaboratory.intrinsic+json": {
       "type": "string"
      },
      "text/plain": [
       "\"Professor of Pharmacology, Penn State\\nUniversity College of Medicine\\nPrinciples of Drug Treatment in Children\\nJESSICA R. BERMAN, MD\\nAssistant Professor of Medicine, Weill Cornell\\nMedical College; Assistant Attending Physician,\\nHospital for Special Surgery\\nApproach to the Patient With Joint Disease\\nRICHARD W. BESDINE, MD\\nProfessor of Medicine, Greer Professor of\\nGeriatric Medicine, and Director, Division of\\nGeriatrics (Medicine) and of the Center for\\nGerontology and Healthcare Research, The\\nWarren Alpert Medical School of Brown\\nUniversity\\nApproach to the Geriatric Patient; Quality of\\nLife and Therapeutic Objectives\\nADIL E. BHARUCHA, MBBS, MD\\nProfessor of Medicine, Division of\\nGastroenterology and Hepatology, Mayo\\nClinic College of Medicine\\nApproach to the Patient With Lower GI\\nComplaints; Irritable Bowel Syndrome\\nALBERT W. BIGLAN, MD\\nAdjunct Associate Professor of Ophthalmology,\\nUniversity of Pittsburgh School of Medicine;\\nStaff Physician, Children's Hospital of Pittsburgh\\nEye Defects and Conditions in Children\\nJOSEPH J. BIUNDO, MD\\nClinical Professor of Medicine, Tulane Medical\\nCenter\\nBursa, Muscle, and Tendon Disorders\\nSEAN C. BLACKWELL, MD\\nAssistant Professor, Department of Obstetrics,\\nGynecology, and Reproductive Sciences, The\\nUniversity of Texas Health Sciences Center at\\nHouston\\nPregnancy Complicated by Disease\\nRUSSELL BLAIR, MD\\nFellow, Section of Pulmonary, Critical Care,\\nAllergy and Immunologic Diseases, Wake\\nForest University Baptist Medical Center\\nAsthma\\nCHARLES D. BORTLE, EdD\\nDirector of Logistics and Field Operations,\\nDepartment of Emergency Medicine, Albert\\nEinstein Medical Center\\nRespiratory Arrest\\nThe Merck Manual of Diagnosis & Therapy, 19th Edition\\nFront Matter\\n19\\nsubhash66cs@gmail.com\\nA5R9PMSOBN\\nThis file is meant for personal use by subhash66cs@gmail.com only.\\nSharing or publishing the contents in part or full is liable for legal action.\""
      ]
     },
     "execution_count": 25,
     "metadata": {},
     "output_type": "execute_result"
    }
   ],
   "source": [
    "document_chunks[46].page_content"
   ]
  },
  {
   "cell_type": "markdown",
   "metadata": {
    "id": "tVzn6whBmcG7"
   },
   "source": [
    "## Embedding"
   ]
  },
  {
   "cell_type": "code",
   "execution_count": 7,
   "metadata": {
    "colab": {
     "base_uri": "https://localhost:8080/",
     "height": 444,
     "referenced_widgets": [
      "83438c1140ed4ed8bff76887565a2706",
      "c9dfb1bfd5e6439d8cbbd0dfe7daa5b7",
      "5e2c4462de1b48aea176d55f5e5868e0",
      "e8333a3d1ea9427e966f3f183677d664",
      "1b84df8f83b5454eb8798aed144e0960",
      "394eeb0da7d74ecd97bea794e6020416",
      "8c0db141c2aa4a268068976dd921f371",
      "4087e95e170d4c94991b67cd139f4d22",
      "85b497d385444eb8957ce85073cfc58b",
      "dcd01f9dfc3148438ac6c56d8fc27db0",
      "5d84adbf008b4914b97abf8dc563b6bf",
      "b0ebca9c30cc42d8920f651f62365cc8",
      "d757281c2c774ba59d4856597de73e20",
      "a122a169cbae40a5ab7cf0df02492280",
      "654f73e4b10749b582225650b2a61721",
      "d43b32cd00ff495a9c82c12151d52c22",
      "cd51fd8533e142e3918dbc87d5a60f92",
      "025a3d9f8f05420dba858df2da9d35bb",
      "9162145776034898bc070b1a6b76db52",
      "c76e356aabcf40dbbde94cad568ce3c2",
      "7bf89435ba4b42cbb8e316abde5f83c7",
      "20c373ca69594d8291924c43f7320c22",
      "d9e5bb6c73a344e889464de12d9253a2",
      "b0c3fa2bd2a34f86abe8adfecbcfc3f3",
      "19c0743b8b074043b5df46ebe662018c",
      "e684b123f9614106a9ea1fbffc21b770",
      "e92237d256c847cfb0724e0f6a019211",
      "769e6980559048de93ff875336a7cc75",
      "28cbde84a5594b48a757eac6fb000f07",
      "18ecf8b8ff754f7386e3984f34b82198",
      "c0ab2fba191f4b0f8e240bb7fab0b0a0",
      "cb07acd8e6684521b4d9bf588055ca5e",
      "b44409d6c2354d07a55611748f62f100",
      "125e3618ae0a4cfe9332c32628a3c6a9",
      "1e487e08330343d6a6be7131ecbcdff5",
      "3639a65728a14585b6da46986f8df6af",
      "a3cf58d30e6e43bb8a6b0b6d542ebea6",
      "fcdf4e2eba8a4948a62c6126fbba986c",
      "ae36840f453842f99b03525bfa8655f8",
      "c29a7fd2f48241559830110a7392c628",
      "85a18eccb300479bbd2b63aec4030ce8",
      "2e305b7f99c3459093fddf7c3f80aafe",
      "11e259ff019a447fa8a1e2978c5dd18c",
      "2a41d78fc393417eadb2c347ec6a7ec7",
      "8c5fcfab31e4442cbbd2e0d48e4fa859",
      "648a6710a03f459daecfc8235aa91b53",
      "d8e034403ba8438282f090df724ed94c",
      "af47e14bda814d2dab75809072d6e825",
      "f27472391df74c6bb2db10f683aceadb",
      "94b69ef180814c688d783163bc8dff37",
      "89b265c5298c4ee386036310d7f48f0f",
      "4b5054c11d38445d92c10cd528a94f27",
      "ac6c7275535b4e20be6298bf7e4fcc4d",
      "4b1f6f6b5110408a9610adc7476fde8d",
      "13068d350e144b91bb973bff64d0887d",
      "4a466c51173144969b0b677a2a53b305",
      "3cd92c555ed94150987d17bcc4b19e23",
      "f696345a102146e8a0cda5ca85169122",
      "aa5a0b189c9a4a7cbfd454321a6451e9",
      "7ff74f38ce1045b7942e7f6b37c124db",
      "2e9dc532cb374565916b0535ae87c470",
      "858d344985d04698a444685205320e90",
      "aa95a70844ac47c8aa5ef71848426556",
      "01e510cafbf44e8e80a5ced42dc4ee0c",
      "1e2044b83aed46cfb9ae2806eb9761ab",
      "e5a2385822d943f186fc0622206019d8",
      "badf984478cf4ee1b33f588f61af8d66",
      "2376ae6e52414457a45f62cb179ad90e",
      "3bfb00e1beea4bfa9b0221d78ccecbab",
      "85f991294e11451ca958b0d991edfc9b",
      "e8b23a5db00543e69446b791f5ab5ab0",
      "5297101f195541ab9fcea7da3ac83d26",
      "f7afae88361a4a01ba881eb70889b29b",
      "e8cc4b32fa9e4ce59e6416e4b01739ad",
      "de212fc7f34e4248ac33da84cbb609a0",
      "d19e566ae68c4e459eb444bb353580f4",
      "aa27a5f7526746368e477e4782fa6a80",
      "36a81cb5207449208d9361fed397fcb6",
      "793e26789843487da8de5198d2b55022",
      "cb0a710056e14f66994935ca81e7d744",
      "b78c97d53c0b4170b50e6bcc3210e475",
      "bb7e6a67c1f14b3bab0e097f50d89a80",
      "27a3f5bee927464b92d80c36175c5e17",
      "ecad915aaf554d1cb4ff3b8c7d9d1c4f",
      "74f51faaf9b245b8a01179922f395550",
      "933efae9dad64d69947d7f3b00685e81",
      "32cc1107559f4670964f983b007ee783",
      "266821582123418795e4e733a150667c",
      "99b9b37dba184de9a0a8d410f43de50c",
      "c510b1d83383430989019a2569b4191d",
      "adf6730eac1e47b7acee221ef4e9c979",
      "f9e76a9c384e48159c586d9791bfbbc2",
      "4a38b39c17994f21ba2fd2f842a2d04d",
      "8bb2f6f420ef4fc29c9491b7a05a8e21",
      "95309112f38c4006a5ef380c775b9a28",
      "5c2b324c7b7243ec9e066824b1011d93",
      "00aff4103e5b403c8a162a5400b90210",
      "b4b415d925454db5847a78515f118a76",
      "c623a53d5b524dda86b3de070676d2f8",
      "28ed138bebd44591800aa71c8fa0df38",
      "56272c9fd5374258a9e8979931248626",
      "76b121813bc5435bb9ec02756a3bbd81",
      "a3802b90a9a942b887dc13980c4e9e41",
      "5ac1c0e73547454687e22fdddd6bb46c",
      "9cd5fef9f1084e11b1139662df98182f",
      "bedd558f0c6e43cdba90e1e20e9f9b55",
      "9ba9f72f9f734259aa2bdc3f5cb42079",
      "9edf3c73890c4f7193d4dad79cbd25dd",
      "ca53f1531a144b3482bc7a134e1bc84a",
      "09a2cfe7bfc24765bb0d865d76732e5f"
     ]
    },
    "id": "RsIlQdqst-Su",
    "outputId": "19c001ff-218f-40d8-9262-53763c8072f2"
   },
   "outputs": [
    {
     "name": "stderr",
     "output_type": "stream",
     "text": [
      "/usr/local/lib/python3.11/dist-packages/huggingface_hub/utils/_token.py:89: UserWarning: \n",
      "The secret `HF_TOKEN` does not exist in your Colab secrets.\n",
      "To authenticate with the Hugging Face Hub, create a token in your settings tab (https://huggingface.co/settings/tokens), set it as secret in your Google Colab and restart your session.\n",
      "You will be able to reuse this secret in all of your notebooks.\n",
      "Please note that authentication is recommended but still optional to access public models or datasets.\n",
      "  warnings.warn(\n"
     ]
    },
    {
     "data": {
      "application/vnd.jupyter.widget-view+json": {
       "model_id": "83438c1140ed4ed8bff76887565a2706",
       "version_major": 2,
       "version_minor": 0
      },
      "text/plain": [
       "modules.json:   0%|          | 0.00/385 [00:00<?, ?B/s]"
      ]
     },
     "metadata": {},
     "output_type": "display_data"
    },
    {
     "data": {
      "application/vnd.jupyter.widget-view+json": {
       "model_id": "b0ebca9c30cc42d8920f651f62365cc8",
       "version_major": 2,
       "version_minor": 0
      },
      "text/plain": [
       "README.md:   0%|          | 0.00/67.9k [00:00<?, ?B/s]"
      ]
     },
     "metadata": {},
     "output_type": "display_data"
    },
    {
     "data": {
      "application/vnd.jupyter.widget-view+json": {
       "model_id": "d9e5bb6c73a344e889464de12d9253a2",
       "version_major": 2,
       "version_minor": 0
      },
      "text/plain": [
       "sentence_bert_config.json:   0%|          | 0.00/57.0 [00:00<?, ?B/s]"
      ]
     },
     "metadata": {},
     "output_type": "display_data"
    },
    {
     "data": {
      "application/vnd.jupyter.widget-view+json": {
       "model_id": "125e3618ae0a4cfe9332c32628a3c6a9",
       "version_major": 2,
       "version_minor": 0
      },
      "text/plain": [
       "config.json:   0%|          | 0.00/619 [00:00<?, ?B/s]"
      ]
     },
     "metadata": {},
     "output_type": "display_data"
    },
    {
     "data": {
      "application/vnd.jupyter.widget-view+json": {
       "model_id": "8c5fcfab31e4442cbbd2e0d48e4fa859",
       "version_major": 2,
       "version_minor": 0
      },
      "text/plain": [
       "model.safetensors:   0%|          | 0.00/670M [00:00<?, ?B/s]"
      ]
     },
     "metadata": {},
     "output_type": "display_data"
    },
    {
     "data": {
      "application/vnd.jupyter.widget-view+json": {
       "model_id": "4a466c51173144969b0b677a2a53b305",
       "version_major": 2,
       "version_minor": 0
      },
      "text/plain": [
       "tokenizer_config.json:   0%|          | 0.00/342 [00:00<?, ?B/s]"
      ]
     },
     "metadata": {},
     "output_type": "display_data"
    },
    {
     "data": {
      "application/vnd.jupyter.widget-view+json": {
       "model_id": "badf984478cf4ee1b33f588f61af8d66",
       "version_major": 2,
       "version_minor": 0
      },
      "text/plain": [
       "vocab.txt:   0%|          | 0.00/232k [00:00<?, ?B/s]"
      ]
     },
     "metadata": {},
     "output_type": "display_data"
    },
    {
     "data": {
      "application/vnd.jupyter.widget-view+json": {
       "model_id": "36a81cb5207449208d9361fed397fcb6",
       "version_major": 2,
       "version_minor": 0
      },
      "text/plain": [
       "tokenizer.json:   0%|          | 0.00/712k [00:00<?, ?B/s]"
      ]
     },
     "metadata": {},
     "output_type": "display_data"
    },
    {
     "data": {
      "application/vnd.jupyter.widget-view+json": {
       "model_id": "99b9b37dba184de9a0a8d410f43de50c",
       "version_major": 2,
       "version_minor": 0
      },
      "text/plain": [
       "special_tokens_map.json:   0%|          | 0.00/125 [00:00<?, ?B/s]"
      ]
     },
     "metadata": {},
     "output_type": "display_data"
    },
    {
     "data": {
      "application/vnd.jupyter.widget-view+json": {
       "model_id": "28ed138bebd44591800aa71c8fa0df38",
       "version_major": 2,
       "version_minor": 0
      },
      "text/plain": [
       "config.json:   0%|          | 0.00/191 [00:00<?, ?B/s]"
      ]
     },
     "metadata": {},
     "output_type": "display_data"
    }
   ],
   "source": [
    "# Initialize a Sentence Transformer embedding model for generating document embeddings\n",
    "\n",
    "embedding_model = SentenceTransformerEmbeddings(model_name='thenlper/gte-large')"
   ]
  },
  {
   "cell_type": "code",
   "execution_count": null,
   "metadata": {
    "colab": {
     "base_uri": "https://localhost:8080/"
    },
    "id": "H_Cfxi--mf3H",
    "outputId": "a8903353-a43e-4c32-d63e-d388dbd19287"
   },
   "outputs": [
    {
     "name": "stdout",
     "output_type": "stream",
     "text": [
      "Dimension of the embedding vector  1024\n"
     ]
    }
   ],
   "source": [
    "embedding_3 = embedding_model.embed_query(document_chunks[3].page_content)\n",
    "print(\"Dimension of the embedding vector \",len(embedding_3))"
   ]
  },
  {
   "cell_type": "markdown",
   "metadata": {
    "id": "8BTeaXq_mtOl"
   },
   "source": [
    "## Vector Database"
   ]
  },
  {
   "cell_type": "code",
   "execution_count": 18,
   "metadata": {
    "id": "-qngvp0-Xs3V"
   },
   "outputs": [],
   "source": [
    "# Define the output directory for the database and creates it if it doesn't exist\n",
    "\n",
    "out_dir = 'medical_assistance_db'\n",
    "\n",
    "if not os.path.exists(out_dir):\n",
    "  os.makedirs(out_dir)"
   ]
  },
  {
   "cell_type": "code",
   "execution_count": 22,
   "metadata": {
    "id": "ATpfosZzXWZM"
   },
   "outputs": [],
   "source": [
    "# Create a Chroma vector store from document chunks, embeddings, and saves it to the specified directory\n",
    "\n",
    "vectorstore = Chroma.from_documents(\n",
    "    documents=document_chunks,                    # Text chunks\n",
    "    embedding=embedding_model,                    # Embedding function\n",
    "    collection_name=\"medical_articles\",\n",
    "    persist_directory=out_dir                     # Where to save\n",
    ")"
   ]
  },
  {
   "cell_type": "markdown",
   "metadata": {
    "id": "3uElA4CitAo9"
   },
   "source": [
    "## Retriever"
   ]
  },
  {
   "cell_type": "code",
   "execution_count": 23,
   "metadata": {
    "id": "pKc91VfXrfe0"
   },
   "outputs": [],
   "source": [
    "# Create a retriever from the vector store to perform similarity-based document retrieval\n",
    "\n",
    "retriever = vectorstore.as_retriever(\n",
    "    search_type='similarity',\n",
    "    search_kwargs={'k': 2}\n",
    ")"
   ]
  },
  {
   "cell_type": "code",
   "execution_count": null,
   "metadata": {
    "colab": {
     "base_uri": "https://localhost:8080/"
    },
    "id": "xI2NmEMWwiU2",
    "outputId": "57f85f08-63bb-4c2a-8826-0ee6585b82e6"
   },
   "outputs": [
    {
     "data": {
      "text/plain": [
       "[Document(page_content=\"16 - Critical Care Medicine\\nChapter 222. Approach to the Critically Ill Patient\\nIntroduction\\nCritical care medicine specializes in caring for the most seriously ill patients. These patients are best\\ntreated in an ICU staffed by experienced personnel. Some hospitals maintain separate units for special\\npopulations (eg, cardiac, surgical, neurologic, pediatric, or neonatal patients). ICUs have a high\\nnurse:patient ratio to provide the necessary high intensity of service, including treatment and monitoring\\nof physiologic parameters.\\nSupportive care for the ICU patient includes provision of adequate nutrition (see p. 21) and prevention of\\ninfection, stress ulcers and gastritis (see p. 131), and pulmonary embolism (see p. 1920). Because 15 to\\n25% of patients admitted to ICUs die there, physicians should know how to minimize suffering and help\\ndying patients maintain dignity (see p. 3480).\\nPatient Monitoring and Testing\\nSome monitoring is manual (ie, by direct observation and physical examination) and intermittent, with the\\nfrequency depending on the patient's illness. This monitoring usually includes measurement of vital signs\\n(temperature, BP, pulse, and respiration rate), quantification of all fluid intake and output, and often daily\\nweight. BP may be recorded by an automated sphygmomanometer; a transcutaneous sensor for pulse\\noximetry is used as well.\\nOther monitoring is ongoing and continuous, provided by complex devices that require special training\\nand experience to operate. Most such devices generate an alarm if certain physiologic parameters are\\nexceeded. Every ICU should strictly follow protocols for investigating alarms.\\nBlood Tests\\nAlthough frequent blood draws can destroy veins, cause pain, and lead to anemia, ICU patients typically\\nhave routine daily blood tests to help detect problems early. Generally, patients need a daily set of\\nelectrolytes and a CBC. Patients with arrhythmias should also have Mg, phosphate, and Ca levels\\nmeasured. Patients receiving TPN need weekly liver enzymes and coagulation profiles. Other tests (eg,\\nblood culture for fever, CBC after a bleeding episode) are done as needed.\\nPoint-of-care testing uses miniaturized, highly automated devices to do certain blood tests at the patient's\\nbedside or unit (particularly ICU, emergency department, and operating room). Commonly available tests\", metadata={'author': '', 'creationDate': 'D:20120615054440Z', 'creator': 'Atop CHM to PDF Converter', 'file_path': '/content/drive/My Drive/colab_notebooks/RAG_medical_assistant/medical_diagnosis_manual.pdf', 'format': 'PDF 1.7', 'keywords': '', 'modDate': 'D:20250429105108Z', 'page': 2400, 'producer': 'pdf-lib (https://github.com/Hopding/pdf-lib)', 'source': '/content/drive/My Drive/colab_notebooks/RAG_medical_assistant/medical_diagnosis_manual.pdf', 'subject': '', 'title': 'The Merck Manual of Diagnosis & Therapy, 19th Edition', 'total_pages': 4114, 'trapped': ''}),\n",
       " Document(page_content=\"Parenteral antibiotics should be given after specimens of blood, body fluids, and wound sites have been\\ntaken for Gram stain and culture. Very prompt empiric therapy, started immediately after suspecting\\nsepsis, is essential and may be lifesaving. Antibiotic selection requires an educated guess based on the\\nsuspected source, clinical setting, knowledge or suspicion of causative organisms and of sensitivity\\npatterns common to that specific inpatient unit, and previous culture results.\\nOne regimen for septic shock of unknown cause is gentamicin or tobramycin 5.1 mg/kg IV once/day plus\\na 3rd-generation cephalosporin (cefotaxime 2 g q 6 to 8 h or ceftriaxone 2 g once/day or, if Pseudomonas\\nis suspected, ceftazidime 2 g IV q 8 h). Alternatively, ceftazidime plus a fluoroquinolone (eg, ciprofloxacin)\\nmay be used. Monotherapy with maximal therapeutic doses of ceftazidime (2 g IV q 8 h) or imipenem (1 g\\nIV q 6 h) may be effective but is not recommended.\\nVancomycin must be added if resistant staphylococci or enterococci are suspected. If there is an\\nabdominal source, a drug effective against anaerobes (eg, metronidazole) should be included. When\\nculture and sensitivity results are available, the antibiotic regimen is changed accordingly. Antibiotics are\\ncontinued for at least 5 days after shock resolves and evidence of infection subsides.\\nAbscesses must be drained, and necrotic tissues (eg, infarcted bowel, gangrenous gall-bladder,\\nabscessed uterus) must be surgically excised. The patient's condition will continue to deteriorate despite\\nantibiotic therapy unless septic foci are eliminated.\\nNormalization of blood glucose improves outcome in critically ill patients, even those not known to be\\ndiabetic. A continuous IV insulin infusion (crystalline zinc 1 to 4 U/h) is titrated to maintain glucose\\nbetween 80 to 110 mg/dL (4.4 to 6.1 mmol/L). This approach necessitates frequent (eg, q 1 to 4 h)\\nglucose measurement.\", metadata={'author': '', 'creationDate': 'D:20120615054440Z', 'creator': 'Atop CHM to PDF Converter', 'file_path': '/content/drive/My Drive/colab_notebooks/RAG_medical_assistant/medical_diagnosis_manual.pdf', 'format': 'PDF 1.7', 'keywords': '', 'modDate': 'D:20250429105108Z', 'page': 2456, 'producer': 'pdf-lib (https://github.com/Hopding/pdf-lib)', 'source': '/content/drive/My Drive/colab_notebooks/RAG_medical_assistant/medical_diagnosis_manual.pdf', 'subject': '', 'title': 'The Merck Manual of Diagnosis & Therapy, 19th Edition', 'total_pages': 4114, 'trapped': ''})]"
      ]
     },
     "execution_count": 39,
     "metadata": {},
     "output_type": "execute_result"
    }
   ],
   "source": [
    "# Check the chunks from the retriever for a sample\n",
    "\n",
    "user_input = \"What is the protocol for managing sepsis in a critical care unit?\"\n",
    "\n",
    "relevant_document_chunks_1 = retriever.get_relevant_documents(user_input)\n",
    "relevant_document_chunks_1"
   ]
  },
  {
   "cell_type": "code",
   "execution_count": null,
   "metadata": {
    "id": "9pTYtnQYw3qK"
   },
   "outputs": [],
   "source": [
    "# relevant_document_chunks_2 = retriever_2.get_relevant_documents(user_input)\n",
    "# relevant_document_chunks_2"
   ]
  },
  {
   "cell_type": "markdown",
   "metadata": {
    "id": "oqEIgqRF2uIX"
   },
   "source": [
    "### System and User Prompt Template¶"
   ]
  },
  {
   "cell_type": "code",
   "execution_count": 24,
   "metadata": {
    "id": "eN0DPoj3Lnxl"
   },
   "outputs": [],
   "source": [
    "qna_system_message = \"\"\"\n",
    "<s>[INST] <<SYS>> You are a medical assistant whose work is to review the report and provide the appropriate answers from the context.\n",
    "User input will have the context required by you to answer user questions.\n",
    "This context will begin with the token: ###Context.\n",
    "The context contains references to specific portions of a document relevant to the user query.\n",
    "\n",
    "User question will begin with the token: ###Question.\n",
    "\n",
    "Please answer only using the context provided in the input. Do not mention anything about the context in your final answer.\n",
    "\n",
    "\n",
    "If the answer is not found in the context, respond \"I don't know\".\n",
    "<</SYS>>\n",
    "\"\"\""
   ]
  },
  {
   "cell_type": "code",
   "execution_count": 25,
   "metadata": {
    "id": "kcE3EfVXNOYH"
   },
   "outputs": [],
   "source": [
    "qna_user_message_template = \"\"\"\n",
    "###Context\n",
    "Here are some documents that are relevant to the question mentioned below.\n",
    "{context}\n",
    "\n",
    "###Question\n",
    "{question}\n",
    "\"\"\""
   ]
  },
  {
   "cell_type": "markdown",
   "metadata": {
    "id": "va7DyDUJANlP"
   },
   "source": [
    "## Response Function"
   ]
  },
  {
   "cell_type": "code",
   "execution_count": 26,
   "metadata": {
    "id": "h8_vUhdd14VN"
   },
   "outputs": [],
   "source": [
    "def generate_rag_response(user_input, k, max_tokens, temperature, top_p, top_k):\n",
    "\n",
    "    global qna_system_message, qna_user_message_template\n",
    "\n",
    "    # Retrieve relevant document chunks\n",
    "    relevant_document_chunks = retriever.get_relevant_documents(query=user_input, k=k)\n",
    "    context_list = [d.page_content for d in relevant_document_chunks]\n",
    "\n",
    "    # Combine document chunks into a single context\n",
    "    context_for_query = \". \".join(context_list)\n",
    "\n",
    "    user_message = qna_user_message_template.replace('{context}', context_for_query)\n",
    "    user_message = user_message.replace('{question}', user_input)\n",
    "\n",
    "    prompt = f\"\"\"[INST]{qna_system_message}\\n\n",
    "                {'user'}: {qna_user_message_template.format(context=context_for_query, question=user_input)}\n",
    "                [/INST]\"\"\"\n",
    "\n",
    "    # Generate the response\n",
    "    try:\n",
    "        response = llm(\n",
    "                  prompt=prompt,\n",
    "                  max_tokens=max_tokens,\n",
    "                  temperature=temperature,\n",
    "                  top_p=top_p,\n",
    "                  top_k=top_k\n",
    "                  )\n",
    "\n",
    "        # Extract and print the model's response\n",
    "        response = response['choices'][0]['text'].strip()\n",
    "    except Exception as e:\n",
    "        response = f'Sorry, I encountered the following error: \\n {e}'\n",
    "\n",
    "    return response"
   ]
  },
  {
   "cell_type": "markdown",
   "metadata": {
    "id": "18Mvs8Ie69yC"
   },
   "source": [
    "# Question Answering using RAG"
   ]
  },
  {
   "cell_type": "markdown",
   "metadata": {
    "id": "A10gH_HOo_Jb"
   },
   "source": [
    "### Query 1: What is the protocol for managing sepsis in a critical care unit?"
   ]
  },
  {
   "cell_type": "code",
   "execution_count": null,
   "metadata": {
    "colab": {
     "base_uri": "https://localhost:8080/"
    },
    "id": "R9-EWiKbOfFZ",
    "outputId": "78efda2b-2889-4b94-ffeb-b5a3ca1c32c6"
   },
   "outputs": [
    {
     "name": "stderr",
     "output_type": "stream",
     "text": [
      "Llama.generate: prefix-match hit\n"
     ]
    },
    {
     "name": "stdout",
     "output_type": "stream",
     "text": [
      "###Context\n",
      "\n",
      "Based on the provided context, the protocol for managing sepsis in a critical care unit includes the following:\n",
      "\n",
      "1. Early recognition of sepsis, including prompt identification of the source of infection and suspected causative organisms.\n",
      "2. Prompt empiric therapy with broad-spectrum antibiotics, including gentamicin or tobramycin and a 3rd-generation cephalosporin, or alternatively, ceftazidime plus a fluoroquinolone.\n",
      "3. Addition of vancomycin if resistant staphylococci or enterococci are suspected.\n",
      "4. Inclusion of a drug effective against anaerobes (eg, metronidazole) if there is an abdominal source.\n",
      "5. Continuation of antibiotics for at least 5 days after shock resolves and evidence of infection subsides.\n",
      "6. Surgical drainage of abscesses and excision of necrotic tissues (eg, infarcted bowel, gangrenous gall-bladder, abscessed uterus) if present.\n",
      "7. Maintenance of blood glucose levels between 80 to 110 mg/dL (4.4 to 6.1 mmol/L) with a continuous IV insulin infusion titrated to the patient's needs.\n",
      "\n",
      "Please note that these recommendations are based on the provided context and may not be applicable in all situations or units. It is important to consult with experienced personnel and follow established protocols for managing sepsis in critical care units.\n"
     ]
    }
   ],
   "source": [
    "query_1 = \"What is the protocol for managing sepsis in a critical care unit?\"\n",
    "\n",
    "response = generate_rag_response(query_1, 4, 1024, 0.1, 0.9, 40)\n",
    "print(response)"
   ]
  },
  {
   "cell_type": "markdown",
   "metadata": {
    "id": "Ov7d7hxwUUTl"
   },
   "source": [
    "- Now we'll check the RAG response with temperature value of 0.3"
   ]
  },
  {
   "cell_type": "code",
   "execution_count": null,
   "metadata": {
    "colab": {
     "base_uri": "https://localhost:8080/"
    },
    "id": "TKuPMsvb6_ge",
    "outputId": "423cce45-b425-4b50-b99e-ac47e7835fd0"
   },
   "outputs": [
    {
     "name": "stderr",
     "output_type": "stream",
     "text": [
      "Llama.generate: prefix-match hit\n"
     ]
    },
    {
     "name": "stdout",
     "output_type": "stream",
     "text": [
      "###Context\n",
      "\n",
      "Based on the provided context, the protocol for managing sepsis in a critical care unit includes the following:\n",
      "\n",
      "1. Early recognition of sepsis, including prompt identification of the source of infection and suspected causative organisms.\n",
      "2. Prompt empiric therapy with broad-spectrum antibiotics, including gentamicin or tobramycin and a 3rd-generation cephalosporin, or alternatively, ceftazidime plus a fluoroquinolone.\n",
      "3. Monitoring of vital signs, including temperature, blood pressure, pulse, and respiration rate, as well as quantification of all fluid intake and output.\n",
      "4. Measurement of electrolytes and a complete blood count (CBC) daily, with additional tests such as blood culture for fever and coagulation profiles as needed.\n",
      "5. Use of point-of-care testing for certain blood tests at the patient's bedside or unit.\n",
      "6. Administration of parenteral antibiotics after specimens of blood, body fluids, and wound sites have been taken for Gram stain and culture.\n",
      "7. Surgical drainage of abscesses and excision of necrotic tissues as needed.\n",
      "8. Maintenance of normal blood glucose levels (80-110 mg/dL) through continuous IV insulin infusion, with frequent glucose measurements.\n",
      "\n",
      "I don't know if there is any additional information in the context that could help answer the question.\n"
     ]
    }
   ],
   "source": [
    "query_1 = \"What is the protocol for managing sepsis in a critical care unit?\"\n",
    "\n",
    "response = generate_rag_response(query_1, 4, 1024, 0.3, 0.9, 40)\n",
    "print(response)"
   ]
  },
  {
   "cell_type": "markdown",
   "metadata": {
    "id": "G0bBD8i2hMj8"
   },
   "source": [
    "- With a higher value of temperature, the model is being creative in using the words."
   ]
  },
  {
   "cell_type": "markdown",
   "metadata": {
    "id": "o5S1HzPV4lru"
   },
   "source": [
    "### Query 2: What are the common symptoms for appendicitis, and can it be cured via medicine? If not, what surgical procedure should be followed to treat it?"
   ]
  },
  {
   "cell_type": "code",
   "execution_count": null,
   "metadata": {
    "colab": {
     "base_uri": "https://localhost:8080/"
    },
    "id": "Y_R3s--98YLy",
    "outputId": "4ca27d65-7c49-4709-9e42-2b20733d794c"
   },
   "outputs": [
    {
     "name": "stderr",
     "output_type": "stream",
     "text": [
      "Llama.generate: prefix-match hit\n"
     ]
    },
    {
     "name": "stdout",
     "output_type": "stream",
     "text": [
      "###Context\n",
      "The document discusses the treatment of acute appendicitis, including the use of antibiotics and surgical procedures.\n",
      "\n",
      "###Question\n",
      "What are the common symptoms for appendicitis, and can it be cured via medicine? If not, what surgical procedure should be followed to treat it?\n",
      "\n",
      "Answer:\n",
      "The common symptoms of appendicitis include abdominal pain, anorexia, and abdominal tenderness. Appendicitis is not curable via medicine, and surgical intervention is necessary. The recommended surgical procedure for treating appendicitis is appendectomy, which can be either open or laparoscopic. If the appendix is perforated, antibiotics should be continued until the patient's temperature and WBC count have normalized or for a fixed course. In cases where surgery is impossible, antibiotics can improve survival rates but are not curative.\n"
     ]
    }
   ],
   "source": [
    "query_2 = \"What are the common symptoms for appendicitis, and can it be cured via medicine? If not, what surgical procedure should be followed to treat it?\"\n",
    "\n",
    "response = generate_rag_response(query_2, 3, 1024, 0.3, 0.95, 50)\n",
    "print(response)"
   ]
  },
  {
   "cell_type": "markdown",
   "metadata": {
    "id": "wCV0034BUo85"
   },
   "source": [
    "- Reduce top_p to 0.8 and top_k to 40"
   ]
  },
  {
   "cell_type": "code",
   "execution_count": null,
   "metadata": {
    "colab": {
     "base_uri": "https://localhost:8080/"
    },
    "id": "zk1pDjJU6_c7",
    "outputId": "7c314f2f-5ddb-4c7b-803d-8466004e809c"
   },
   "outputs": [
    {
     "name": "stderr",
     "output_type": "stream",
     "text": [
      "Llama.generate: prefix-match hit\n"
     ]
    },
    {
     "name": "stdout",
     "output_type": "stream",
     "text": [
      "###Context\n",
      "• Surgical removal\n",
      "• IV fluids and antibiotics\n",
      "Treatment of acute appendicitis is open or laparoscopic appendectomy; because treatment delay increases mortality, a negative appendectomy rate of 15% is considered acceptable. The surgeon can usually remove the appendix even if perforated. Occasionally, the appendix is difficult to locate: In these cases, it usually lies behind the cecum or the ileum and mesentery of the right colon. A contraindication to appendectomy is inflammatory bowel disease involving the cecum. However, in cases of terminal ileitis and a normal cecum, the appendix should be removed.\n",
      "Appendectomy should be preceded by IV antibiotics. Third-generation cephalosporins are preferred. For nonperforated appendicitis, no further antibiotics are required. If the appendix is perforated, antibiotics should be continued until the patient's temperature and WBC count have normalized or continued for a fixed course, according to the surgeon's preference. If surgery is impossible, antibiotics—although not curative—markedly improve the survival rate. When a large inflammatory mass is found involving the appendix, terminal ileum, and cecum, resection of the entire mass and ileocolostomy are preferable. In late cases in which a pericolic abscess has already formed, the abscess is drained either by an ultrasound-guided percutaneous catheter or by open operation (with appendectomy to follow at a later date).\n",
      "\n",
      "###Question\n",
      "What are the common symptoms for appendicitis, and can it be cured via medicine? If not, what surgical procedure should be followed to treat it?\n",
      "\n",
      "Answer:\n",
      "The common symptoms of appendicitis include abdominal pain, anorexia, and abdominal tenderness. Unfortunately, appendicitis cannot be cured via medicine, and surgical intervention is necessary. The recommended surgical procedure for treating appendicitis is open or laparoscopic appendectomy.\n"
     ]
    }
   ],
   "source": [
    "query_2 = \"What are the common symptoms for appendicitis, and can it be cured via medicine? If not, what surgical procedure should be followed to treat it?\"\n",
    "\n",
    "response = generate_rag_response(query_2, 3, 1024, 0.3, 0.8, 40)\n",
    "print(response)"
   ]
  },
  {
   "cell_type": "markdown",
   "metadata": {
    "id": "7BTmvRYihzq-"
   },
   "source": [
    "- With the decreased value of top_p and top_k, the model is not being elaborate in answering."
   ]
  },
  {
   "cell_type": "markdown",
   "metadata": {
    "id": "G8AJkMJu5E8Q"
   },
   "source": [
    "### Query 3: What are the effective treatments or solutions for addressing sudden patchy hair loss, commonly seen as localized bald spots on the scalp, and what could be the possible causes behind it?"
   ]
  },
  {
   "cell_type": "code",
   "execution_count": 27,
   "metadata": {
    "colab": {
     "base_uri": "https://localhost:8080/"
    },
    "id": "HIsv9hLr9nTt",
    "outputId": "8248ae6a-4257-4783-edc7-8305ce4cb49e"
   },
   "outputs": [
    {
     "name": "stdout",
     "output_type": "stream",
     "text": [
      "###Answer\n",
      "Based on the provided context, the effective treatments or solutions for sudden patchy hair loss, commonly seen as localized bald spots on the scalp, include:\n",
      "\n",
      "1. Topical corticosteroids: These are effective in treating alopecia areata and can stimulate hair growth. Efficacy is usually evident within 6 to 8 months of treatment.\n",
      "2. Intralesional corticosteroids: These may be useful for more severe cases of alopecia areata.\n",
      "3. Topical minoxidil: This medication can help stimulate hair growth and is effective in treating male-pattern baldness.\n",
      "4. Oral antifungals: These may be used to treat tinea capitis, a fungal infection that can cause patchy hair loss.\n",
      "5. Behavior modification: This may be helpful in treating trichotillomania, a condition characterized by the compulsive pulling out of one's own hair.\n",
      "6. Medications such as clomipramine or SSRIs (selective serotonin reuptake inhibitors): These may be effective in treating trichotillomania and other psychological conditions that can contribute to hair loss.\n",
      "\n",
      "Possible causes of sudden patchy hair loss include:\n",
      "\n",
      "1. Alopecia areata: This is an autoimmune disorder that can cause sudden, patchy hair loss.\n",
      "2. Telogen effluvium: This is a condition in which there is a sudden increase in the number of hair follicles that stop growing and enter the resting phase, leading to excessive hair shedding.\n",
      "3. Traction alopecia: This is a type of hair loss caused by constant pulling or tension on the hair shaft, often seen in people who wear tight hairstyles such as braids or ponytails.\n",
      "4. Tinea capitis: This is a fungal infection that can cause patchy hair loss.\n",
      "5. Trichotillomania: This is a psychological condition characterized by the compulsive pulling out of one's own hair.\n",
      "\n",
      "It is important to note that these treatments and solutions may not be appropriate or effective for all cases of sudden patchy hair loss, and a thorough evaluation by a healthcare professional is necessary to determine the underlying cause and develop an appropriate treatment plan.\n"
     ]
    }
   ],
   "source": [
    "query_3 = \"What are the effective treatments or solutions for addressing sudden patchy hair loss, commonly seen as localized bald spots on the scalp, and what could be the possible causes behind it?\"\n",
    "\n",
    "response = generate_rag_response(query_3, 4, 1024, 0.01, 0.95, 60)\n",
    "print(response)"
   ]
  },
  {
   "cell_type": "code",
   "execution_count": null,
   "metadata": {
    "id": "hueEaItaYvoc"
   },
   "outputs": [],
   "source": [
    "len(response)"
   ]
  },
  {
   "cell_type": "markdown",
   "metadata": {
    "id": "mFMxKt1LUxYF"
   },
   "source": [
    "- Using k value of 8"
   ]
  },
  {
   "cell_type": "code",
   "execution_count": 28,
   "metadata": {
    "colab": {
     "base_uri": "https://localhost:8080/"
    },
    "id": "4CoY1hjXrtS6",
    "outputId": "7865fe37-54a9-45b1-acf8-84e9f9c93f34"
   },
   "outputs": [
    {
     "name": "stderr",
     "output_type": "stream",
     "text": [
      "Llama.generate: prefix-match hit\n"
     ]
    },
    {
     "name": "stdout",
     "output_type": "stream",
     "text": [
      "###Answer\n",
      "Based on the provided context, the effective treatments or solutions for sudden patchy hair loss, commonly seen as localized bald spots on the scalp, include:\n",
      "\n",
      "1. Topical corticosteroids: These are effective in treating alopecia areata and can stimulate hair growth. Efficacy is usually evident within 6 to 8 months of treatment.\n",
      "2. Intralesional corticosteroids: These may be useful for more severe cases of alopecia areata.\n",
      "3. Topical minoxidil: This medication can help stimulate hair growth and is effective in treating male-pattern baldness.\n",
      "4. Oral antifungals: These may be used to treat tinea capitis, a fungal infection that can cause patchy hair loss.\n",
      "5. Behavior modification: This may be helpful in treating trichotillomania, a condition characterized by the compulsive pulling out of one's own hair.\n",
      "6. Medications such as clomipramine or SSRIs (selective serotonin reuptake inhibitors): These may be effective in treating trichotillomania and other psychological conditions that can contribute to hair loss.\n",
      "\n",
      "Possible causes of sudden patchy hair loss include:\n",
      "\n",
      "1. Alopecia areata: This is an autoimmune disorder that can cause sudden, patchy hair loss.\n",
      "2. Telogen effluvium: This is a condition in which there is a sudden increase in the number of hair follicles that stop growing and enter the resting phase, leading to excessive hair shedding.\n",
      "3. Traction alopecia: This is a type of hair loss caused by constant pulling or tension on the hair shaft, such as from tight hairstyles or hair extensions.\n",
      "4. Tinea capitis: This is a fungal infection that can cause patchy hair loss.\n",
      "5. Trichotillomania: This is a psychological condition characterized by the compulsive pulling out of one's own hair.\n",
      "\n",
      "It is important to note that these treatments and solutions may not be appropriate or effective for all cases of sudden patchy hair loss, and a thorough evaluation and diagnosis by a healthcare professional is necessary to determine the underlying cause and appropriate treatment.\n"
     ]
    }
   ],
   "source": [
    "query_3 = \"What are the effective treatments or solutions for addressing sudden patchy hair loss, commonly seen as localized bald spots on the scalp, and what could be the possible causes behind it?\"\n",
    "\n",
    "response = generate_rag_response(query_3, 8, 1024, 0.01, 0.95, 60)\n",
    "print(response)"
   ]
  },
  {
   "cell_type": "markdown",
   "metadata": {
    "id": "wr86NFo7yI7e"
   },
   "source": [
    "- Increasing the k value from 4 to 8 has not changed the model's response."
   ]
  },
  {
   "cell_type": "code",
   "execution_count": null,
   "metadata": {
    "colab": {
     "base_uri": "https://localhost:8080/"
    },
    "id": "PY1v3Y_x3RHZ",
    "outputId": "50105e82-142c-4363-f0fe-8e4ac8c34036"
   },
   "outputs": [
    {
     "name": "stderr",
     "output_type": "stream",
     "text": [
      "Llama.generate: prefix-match hit\n"
     ]
    },
    {
     "name": "stdout",
     "output_type": "stream",
     "text": [
      "Based on the context provided, the recommended treatments for a person who has sustained a physical injury to brain tissue, resulting in temporary or permanent impairment of brain function, are:\n",
      "\n",
      "1. Supportive care to prevent systemic complications due to immobilization, such as pneumonia, UTI, and thromboembolic disease.\n",
      "2. Good nutrition to ensure adequate energy and nutrients for healing.\n",
      "3. Prevention of pressure ulcers to maintain skin integrity.\n",
      "\n",
      "These treatments are based on the information provided in Chapter 324 of The Merck Manual of Diagnosis & Therapy, 19th Edition, specifically in the section titled \"Treatment.\"\n"
     ]
    }
   ],
   "source": [
    "query_4 = \"What treatments are recommended for a person who has sustained a physical injury to brain tissue, resulting in temporary or permanent impairment of brain function?\"\n",
    "\n",
    "response = generate_rag_response(query_4, 2, 1024, 0, 0.8, 40)\n",
    "print(response)"
   ]
  },
  {
   "cell_type": "markdown",
   "metadata": {
    "id": "aBfH7qE-YLsV"
   },
   "source": [
    "- Let's increase the k value to 6"
   ]
  },
  {
   "cell_type": "code",
   "execution_count": null,
   "metadata": {
    "colab": {
     "base_uri": "https://localhost:8080/"
    },
    "id": "GaUDkQzqrtPf",
    "outputId": "2a45ea9d-fd77-48b7-c1ce-ea12347ab4fb"
   },
   "outputs": [
    {
     "name": "stderr",
     "output_type": "stream",
     "text": [
      "Llama.generate: prefix-match hit\n"
     ]
    },
    {
     "name": "stdout",
     "output_type": "stream",
     "text": [
      "Based on the context provided, the recommended treatments for a person who has sustained a physical injury to brain tissue, resulting in temporary or permanent impairment of brain function, are:\n",
      "\n",
      "1. Supportive care to prevent systemic complications due to immobilization, such as pneumonia, UTI, and thromboembolic disease.\n",
      "2. Good nutrition to ensure adequate energy and nutrients for healing.\n",
      "3. Prevention of pressure ulcers to maintain skin integrity.\n",
      "\n",
      "These treatments are based on the information provided in Chapter 324 of The Merck Manual of Diagnosis & Therapy, 19th Edition, specifically in the section titled \"Treatment.\"\n"
     ]
    }
   ],
   "source": [
    "query_4 = \"What treatments are recommended for a person who has sustained a physical injury to brain tissue, resulting in temporary or permanent impairment of brain function?\"\n",
    "\n",
    "response = generate_rag_response(query_4, 6, 1024, 0, 0.8, 40)\n",
    "print(response)"
   ]
  },
  {
   "cell_type": "markdown",
   "metadata": {
    "id": "cJQ9Uk6zizZM"
   },
   "source": [
    "- Increasing the k value from 2 to 6 has not changed the model's answer."
   ]
  },
  {
   "cell_type": "markdown",
   "metadata": {
    "id": "fgQp_Uoi7D1x"
   },
   "source": [
    "### Query 5: What are the necessary precautions and treatment steps for a person who has fractured their leg during a hiking trip, and what should be considered for their care and recovery?"
   ]
  },
  {
   "cell_type": "code",
   "execution_count": null,
   "metadata": {
    "colab": {
     "base_uri": "https://localhost:8080/"
    },
    "id": "Pl1eF8Pu11p3",
    "outputId": "2d5c928e-3cae-4e68-c53b-9593028e9110"
   },
   "outputs": [
    {
     "name": "stderr",
     "output_type": "stream",
     "text": [
      "Llama.generate: prefix-match hit\n"
     ]
    }
   ],
   "source": [
    "query_5 = \"What are the necessary precautions and treatment steps for a person who has fractured their leg during a hiking trip, and what should be considered for their care and recovery?\"\n",
    "\n",
    "response = generate_rag_response(query_5, 3, 1024, 0, 0.7, 35)"
   ]
  },
  {
   "cell_type": "markdown",
   "metadata": {
    "id": "g9Nv1ykEaZgG"
   },
   "source": [
    "- Check with increasing k, temperature, top_p and top_k"
   ]
  },
  {
   "cell_type": "code",
   "execution_count": null,
   "metadata": {
    "colab": {
     "base_uri": "https://localhost:8080/"
    },
    "id": "sUwq_eUP14Ra",
    "outputId": "f05e4837-b8b6-4bf8-f18c-9d9b143382fb"
   },
   "outputs": [
    {
     "name": "stderr",
     "output_type": "stream",
     "text": [
      "Llama.generate: prefix-match hit\n"
     ]
    },
    {
     "name": "stdout",
     "output_type": "stream",
     "text": [
      "###Context\n",
      "The patient has fractured their leg during a hiking trip.\n",
      "\n",
      "###Question\n",
      "What are the necessary precautions and treatment steps for a person who has fractured their leg during a hiking trip, and what should be considered for their care and recovery?\n",
      "\n",
      "Based on the provided context, here are the necessary precautions and treatment steps for a person who has fractured their leg during a hiking trip:\n",
      "\n",
      "1. Immobilization: The injured limb should be immobilized to prevent further injury and facilitate healing. This can be achieved using a splint or cast, depending on the severity of the fracture.\n",
      "2. Elevation: The injured limb should be elevated above the heart to reduce swelling and minimize the risk of compartment syndrome.\n",
      "3. Pain management: Analgesics should be administered to manage pain and discomfort.\n",
      "4. Warmth application: Periodic application of warmth, such as a heating pad, may relieve pain and speed healing.\n",
      "5. Inspection and hygiene: The cast or splint should be inspected daily for any signs of skin irritation or infection, and the patient should be given written instructions on how to care for their cast or splint.\n",
      "6. Follow-up medical care: Regular follow-up appointments with a healthcare provider are essential to monitor the healing process and address any complications that may arise.\n",
      "7. Early mobilization: Resumption of active motion within the first few days or weeks can help minimize contractures and muscle atrophy, thus accelerating functional recovery.\n",
      "\n",
      "It is important to consider the following factors when caring for a patient with a fractured leg:\n",
      "\n",
      "1. Age: The risk of complications such as compartment syndrome, stiffness, and muscle atrophy may be higher in older patients.\n",
      "2. Type of fracture: Different types of fractures require different treatment approaches. For example, vertebral compression fractures may require bed rest and immobilization, while metatarsal stress fractures may require early mobilization.\n",
      "3. Co-morbidities: Patients with co-morbidities such as diabetes or heart disease may be at higher risk for complications and may require more intensive monitoring and treatment.\n",
      "4. Environmental factors: The patient's living environment and access to medical care can impact their recovery and outcome. For example, patients living in remote areas may have limited access to medical resources, which can affect their ability to receive timely and appropriate treatment.\n"
     ]
    }
   ],
   "source": [
    "khjquery_5 = \"What are the necessary precautions and treatment steps for a person who has fractured their leg during a hiking trip, and what should be considered for their care and recovery?\"\n",
    "\n",
    "response = generate_rag_response(query_5, 5, 1024, 0.09, 0.95, 50)\n",
    "print(response)"
   ]
  },
  {
   "cell_type": "markdown",
   "metadata": {
    "id": "IlOadtCc130y"
   },
   "source": [
    "## Output Evaluation"
   ]
  },
  {
   "cell_type": "markdown",
   "metadata": {
    "id": "0g0hIK-x2fr8"
   },
   "source": [
    "### Defining the Evaluation Prompts"
   ]
  },
  {
   "cell_type": "code",
   "execution_count": 31,
   "metadata": {
    "id": "d-AeAiH1qKT6"
   },
   "outputs": [],
   "source": [
    "groundedness_rater_system_message = \"\"\"\n",
    "You are tasked with rating AI generated answers to questions posed by users.\n",
    "You will be presented a question, context used by the AI system to generate the answer and an AI generated answer to the question.\n",
    "In the input, the question will begin with ###Question, the context will begin with ###Context while the AI generated answer will begin with ###Answer.\n",
    "\n",
    "Evaluation criteria:\n",
    "The task is to judge the extent to which the metric is followed by the answer.\n",
    "1 - The metric is not followed at all\n",
    "2 - The metric is followed only to a limited extent\n",
    "3 - The metric is followed to a good extent\n",
    "4 - The metric is followed mostly\n",
    "5 - The metric is followed completely\n",
    "\n",
    "Metric:\n",
    "The answer should be derived only from the information presented in the context\n",
    "\n",
    "Instructions:\n",
    "1. First write down the steps that are needed to evaluate the answer as per the metric.\n",
    "2. Give a step-by-step explanation if the answer adheres to the metric considering the question and context as the input.\n",
    "3. Next, evaluate the extent to which the metric is followed.\n",
    "4. Use the previous information to rate the answer using the evaluaton criteria and assign a score.\n",
    "\"\"\""
   ]
  },
  {
   "cell_type": "code",
   "execution_count": 32,
   "metadata": {
    "id": "Z2ROPBIgqNVL"
   },
   "outputs": [],
   "source": [
    "relevance_rater_system_message = \"\"\"\n",
    "You are tasked with rating AI generated answers to questions posed by users.\n",
    "You will be presented a question, context used by the AI system to generate the answer and an AI generated answer to the question.\n",
    "In the input, the question will begin with ###Question, the context will begin with ###Context while the AI generated answer will begin with ###Answer.\n",
    "\n",
    "Evaluation criteria:\n",
    "The task is to judge the extent to which the metric is followed by the answer.\n",
    "1 - The metric is not followed at all\n",
    "2 - The metric is followed only to a limited extent\n",
    "3 - The metric is followed to a good extent\n",
    "4 - The metric is followed mostly\n",
    "5 - The metric is followed completely\n",
    "\n",
    "Metric:\n",
    "Relevance measures how well the answer addresses the main aspects of the question, based on the context.\n",
    "Consider whether all and only the important aspects are contained in the answer when evaluating relevance.\n",
    "\n",
    "Instructions:\n",
    "1. First write down the steps that are needed to evaluate the context as per the metric.\n",
    "2. Give a step-by-step explanation if the context adheres to the metric considering the question as the input.\n",
    "3. Next, evaluate the extent to which the metric is followed.\n",
    "4. Use the previous information to rate the context using the evaluaton criteria and assign a score.\n",
    "\"\"\""
   ]
  },
  {
   "cell_type": "code",
   "execution_count": 33,
   "metadata": {
    "id": "uCkkL6nJ0mI8"
   },
   "outputs": [],
   "source": [
    "user_message_template = \"\"\"\n",
    "###Question\n",
    "{question}\n",
    "\n",
    "###Context\n",
    "{context}\n",
    "\n",
    "###Answer\n",
    "{answer}\n",
    "\"\"\""
   ]
  },
  {
   "cell_type": "code",
   "execution_count": 34,
   "metadata": {
    "id": "FpWPQiRm9Im3"
   },
   "outputs": [],
   "source": [
    "def generate_ground_relevance_response(user_input, k, max_tokens, temperature, top_p, top_k):\n",
    "    global qna_system_message,qna_user_message_template\n",
    "    # Retrieve relevant document chunks\n",
    "    relevant_document_chunks = retriever.get_relevant_documents(query=user_input,k=3)\n",
    "    context_list = [d.page_content for d in relevant_document_chunks]\n",
    "    context_for_query = \". \".join(context_list)\n",
    "\n",
    "    # Combine user_prompt and system_message to create the prompt\n",
    "    prompt = f\"\"\"[INST]{qna_system_message}\\n\n",
    "                {'user'}: {qna_user_message_template.format(context=context_for_query, question=user_input)}\n",
    "                [/INST]\"\"\"\n",
    "\n",
    "    response = llm(\n",
    "            prompt=prompt,\n",
    "            max_tokens=max_tokens,\n",
    "            temperature=temperature,\n",
    "            top_p=top_p,\n",
    "            top_k=top_k,\n",
    "            stop=['INST'],\n",
    "            )\n",
    "\n",
    "    answer =  response[\"choices\"][0][\"text\"]\n",
    "\n",
    "    # Combine user_prompt and system_message to create the prompt\n",
    "    groundedness_prompt = f\"\"\"[INST]{groundedness_rater_system_message}\\n\n",
    "                {'user'}: {user_message_template.format(context=context_for_query, question=user_input, answer=answer)}\n",
    "                [/INST]\"\"\"\n",
    "\n",
    "    # Combine user_prompt and system_message to create the prompt\n",
    "    relevance_prompt = f\"\"\"[INST]{relevance_rater_system_message}\\n\n",
    "                {'user'}: {user_message_template.format(context=context_for_query, question=user_input, answer=answer)}\n",
    "                [/INST]\"\"\"\n",
    "\n",
    "    response_1 = llm(\n",
    "            prompt=groundedness_prompt,\n",
    "            max_tokens=max_tokens,\n",
    "            temperature=temperature,\n",
    "            top_p=top_p,\n",
    "            top_k=top_k,\n",
    "            stop=['INST'],\n",
    "            )\n",
    "\n",
    "    response_2 = llm(\n",
    "            prompt=relevance_prompt,\n",
    "            max_tokens=max_tokens,\n",
    "            temperature=temperature,\n",
    "            top_p=top_p,\n",
    "            top_k=top_k,\n",
    "            stop=['INST'],\n",
    "            )\n",
    "\n",
    "    return response_1['choices'][0]['text'], response_2['choices'][0]['text']"
   ]
  },
  {
   "cell_type": "markdown",
   "metadata": {
    "id": "dis-1xqXjT4N"
   },
   "source": [
    "## Let's check the output of the RAG for the queries using the same parameters used for each."
   ]
  },
  {
   "cell_type": "code",
   "execution_count": 35,
   "metadata": {
    "colab": {
     "base_uri": "https://localhost:8080/"
    },
    "id": "Y3Iey1xk70lx",
    "outputId": "ba5d50ff-1176-44b4-923a-15f156117701"
   },
   "outputs": [
    {
     "name": "stderr",
     "output_type": "stream",
     "text": [
      "Llama.generate: prefix-match hit\n",
      "Llama.generate: prefix-match hit\n",
      "Llama.generate: prefix-match hit\n"
     ]
    },
    {
     "name": "stdout",
     "output_type": "stream",
     "text": [
      "  Sure, I'd be happy to help! Here's my evaluation of the answer based on the provided context:\n",
      "\n",
      "1. The metric is followed completely. The answer provides a detailed and specific protocol for managing sepsis in a critical care unit, derived only from the information presented in the context.\n",
      "2. The answer adheres to the metric because it provides a step-by-step approach to managing sepsis, including early recognition, prompt empiric therapy, addition of vancomycin if necessary, and surgical intervention as needed. The answer also mentions the importance of maintaining blood glucose levels.\n",
      "3. The answer is derived directly from the information\n",
      "\n",
      "  Sure, I'd be happy to help! Here's my evaluation of the context and the answer provided:\n",
      "\n",
      "1. Relevance: The answer addresses all the main aspects of the question, including early recognition of sepsis, prompt empiric therapy, addition of vancomycin if resistant staphylococci or enterococci are suspected, inclusion of a drug effective against anaerobes if there is an abdominal source of infection, continuation of antibiotics for at least 5 days after shock\n"
     ]
    }
   ],
   "source": [
    "query_1 = \"What is the protocol for managing sepsis in a critical care unit?\"\n",
    "ground, rel = generate_ground_relevance_response(query_1, 4, 1024, 0.1, 0.9, 40)\n",
    "\n",
    "print(ground,end=\"\\n\\n\")\n",
    "print(rel)"
   ]
  },
  {
   "cell_type": "code",
   "execution_count": 36,
   "metadata": {
    "colab": {
     "base_uri": "https://localhost:8080/"
    },
    "id": "7V79WhjDMrql",
    "outputId": "7afe5b31-456d-4cf5-9698-c3025a248ee0"
   },
   "outputs": [
    {
     "name": "stderr",
     "output_type": "stream",
     "text": [
      "Llama.generate: prefix-match hit\n",
      "Llama.generate: prefix-match hit\n",
      "Llama.generate: prefix-match hit\n"
     ]
    },
    {
     "name": "stdout",
     "output_type": "stream",
     "text": [
      "  Sure, I can help you evaluate the answer based on the provided context and criteria. Here are the steps to follow:\n",
      "\n",
      "Step 1: Evaluate if the answer is derived only from the information presented in the context.\n",
      "\n",
      "The answer provides a detailed protocol for managing sepsis in a critical care unit, which is derived directly from the information presented in the context. The answer mentions specific antibiotics and their dosages, surgical interventions, and blood glucose management, all of which are based on the information provided in the context. Therefore, the answer meets this criterion fully.\n",
      "\n",
      "Step 2: Evaluate if the answer follows the metric completely.\n",
      "\n",
      "The answer provides a comprehensive protocol for\n",
      "\n",
      "  Sure, I can help you rate the context using the evaluation criteria. Based on the provided context, here are my ratings:\n",
      "\n",
      "1. Relevance: The context is highly relevant to the question as it provides specific guidelines for managing sepsis in a critical care unit. All the important aspects of sepsis management are covered, including early recognition, prompt empiric therapy, and surgical intervention when necessary. Rating: 5 (completely followed).\n",
      "2. Completeness: The context provides a comprehensive protocol for managing sepsis in a critical care unit, including\n"
     ]
    }
   ],
   "source": [
    "query_1 = \"What is the protocol for managing sepsis in a critical care unit?\"\n",
    "ground, rel = generate_ground_relevance_response(query_1, 4, 1024, 0.3, 0.9, 40)\n",
    "\n",
    "print(ground, end=\"\\n\\n\")\n",
    "print(rel)"
   ]
  },
  {
   "cell_type": "markdown",
   "metadata": {
    "id": "5bgEvcFWy4vy"
   },
   "source": [
    "- For query 1, the model has done well with both set of parameters: one with temperature of 0.1 and the other with temperature of 0.3."
   ]
  },
  {
   "cell_type": "code",
   "execution_count": 37,
   "metadata": {
    "colab": {
     "base_uri": "https://localhost:8080/"
    },
    "id": "vY134MFrMrny",
    "outputId": "a43bec09-c4b4-43d2-ead8-54ce5411adfb"
   },
   "outputs": [
    {
     "name": "stderr",
     "output_type": "stream",
     "text": [
      "Llama.generate: prefix-match hit\n",
      "Llama.generate: prefix-match hit\n",
      "Llama.generate: prefix-match hit\n"
     ]
    },
    {
     "name": "stdout",
     "output_type": "stream",
     "text": [
      "  Sure, I can help you rate the answer based on the evaluation criteria provided. Here are the steps to evaluate the answer:\n",
      "\n",
      "Step 1: Evaluate if the answer is derived only from the information presented in the context.\n",
      "\n",
      "The answer mentions that the common symptoms of appendicitis include abdominal pain, anorexia, and abdominal tenderness, which are all present in the context. However, the answer also mentions that there is no curative medication for appendicitis, which is not explicitly stated in the context. Therefore, the answer partially adheres to the metric.\n",
      "\n",
      "Step 2: Evaluate the extent to which the metric is followed.\n",
      "\n",
      "The answer partially follows the metric because it derives some information from the context but not all of it. The answer mentions that there is no curative medication for appendicitis, which is not explicitly stated in the context. Therefore, the answer should be rated as follows:\n",
      "\n",
      "Rating: 2 - The metric is followed only to a limited extent.\n",
      "\n",
      "Step 3: Use the previous information to rate the answer using the evaluation criteria.\n",
      "\n",
      "Based on the rating of 2, I would assign a score of 2 to the answer. This score indicates that the answer partially follows the metric and could be improved by providing more information derived only from the context.\n",
      "\n",
      "Here's the final rating and score for the answer:\n",
      "\n",
      "Rating: 2 - The metric is followed only to a limited extent\n",
      "Score: 2 - Partially follows the metric, could be improved by providing more information derived only from the context.\n",
      "\n",
      "  Sure, I can help you rate the context and answer provided.\n",
      "\n",
      "First, let me break down the steps needed to evaluate the context as per the metric:\n",
      "\n",
      "1. Identify the main aspects of the question: The main aspects of the question are the symptoms of appendicitis, the possibility of curative medicine, and the surgical procedure to treat it.\n",
      "2. Check if all important aspects are contained in the answer: The answer addresses all the main aspects of the question, including the common symptoms of appendicitis, the lack of curative medication, and the recommended surgical procedures (appendexomy and antibiotics).\n",
      "3. Evaluate relevance: The context is highly relevant to the question since it provides detailed information about the treatment of acute appendicitis, including the use of antibiotics and surgical procedures.\n",
      "\n",
      "Now, let me rate the extent to which the metric is followed based on the provided context:\n",
      "\n",
      "The context follows the metric completely. It provides a comprehensive overview of the treatment of acute appendicitis, covering all the important aspects mentioned in the question. The answer is well-structured and addresses all the main points of the question.\n",
      "\n",
      "Based on the above information, I would rate the context using the evaluation criteria as follows:\n",
      "\n",
      "5 - The metric is followed completely.\n",
      "\n",
      "The context provides a detailed and comprehensive overview of the treatment of acute appendicitis, covering all the important aspects mentioned in the question. It is well-structured and addresses all the main points of the question, making it an excellent example of following the metric completely.\n"
     ]
    }
   ],
   "source": [
    "query_2 = \"What are the common symptoms for appendicitis, and can it be cured via medicine? If not, what surgical procedure should be followed to treat it?\"\n",
    "ground, rel = generate_ground_relevance_response(query_2, 3, 1024, 0.3, 0.95, 50)\n",
    "\n",
    "print(ground, end=\"\\n\\n\")\n",
    "print(rel)"
   ]
  },
  {
   "cell_type": "code",
   "execution_count": 38,
   "metadata": {
    "colab": {
     "base_uri": "https://localhost:8080/"
    },
    "id": "Sea45i5EMrlw",
    "outputId": "54b70813-95d9-448d-96dd-eaf67b7f96e8"
   },
   "outputs": [
    {
     "name": "stderr",
     "output_type": "stream",
     "text": [
      "Llama.generate: prefix-match hit\n",
      "Llama.generate: prefix-match hit\n",
      "Llama.generate: prefix-match hit\n"
     ]
    },
    {
     "name": "stdout",
     "output_type": "stream",
     "text": [
      "  Sure, I'd be happy to help you evaluate the answer!\n",
      "\n",
      "To rate the answer, we need to consider how well it adheres to the metric, which is that the answer should be derived only from the information presented in the context.\n",
      "\n",
      "Step-by-step explanation:\n",
      "\n",
      "1. The answer mentions the common symptoms of appendicitis, which are present in the context.\n",
      "2. The answer correctly states that there is no curative medication for appendicitis and that surgical removal of the inflamed appendix is necessary.\n",
      "3. The answer refers to the use of antibiotics if the appendix is perforated, which is also mentioned in the context.\n",
      "\n",
      "Based on the above steps, it appears that the answer adheres well to the metric and derives all information from the provided context.\n",
      "\n",
      "Rating:\n",
      "\n",
      "Based on the evaluation criteria, I would rate the answer as 5 - The metric is followed completely. The answer provides a clear and accurate summary of the treatment of appendicitis, including the use of antibiotics, and only refers to information presented in the context.\n",
      "\n",
      "Score: 5/5\n",
      "\n",
      "  Sure, I'd be happy to help you evaluate the context and answer!\n",
      "\n",
      "Step 1: Evaluate the context as per the metric.\n",
      "\n",
      "The context provides relevant information about the treatment of acute appendicitis, including the surgical removal of the inflamed appendix and the use of antibiotics. The text also mentions the classification of abdominal hernias and their symptoms. Therefore, the context adheres well to the metric, as it addresses all the important aspects of the question.\n",
      "\n",
      "Step 2: Evaluate the extent to which the metric is followed.\n",
      "\n",
      "The answer provides a detailed description of the common symptoms of appendicitis, including abdominal pain, anorexia, and abdominal tenderness. The answer also mentions the surgical procedure for treating appendicitis, which is appendectomy, and the use of antibiotics in case of a perforated appendix. Therefore, the answer follows the metric to a good extent.\n",
      "\n",
      "Step 3: Rate the context using the evaluation criteria.\n",
      "\n",
      "Based on the information provided in the context and the answer, I would rate the context as 4 (mostly followed) and the answer as 4 (mostly followed) on the evaluation criteria. The context provides relevant information about the treatment of acute appendicitis and classifies abdominal hernias, while the answer describes the common symptoms of appendicitis and the surgical procedure for treating it. However, the answer could have provided more information about the use of antibiotics in case of a perforated appendix.\n",
      "\n",
      "Overall, the context and answer provide a good overview of the treatment of acute appendicitis and the classification of abdominal hernias, but could benefit from additional information about the use of antibiotics in case of a perforated appendix.\n"
     ]
    }
   ],
   "source": [
    "query_2 = \"What are the common symptoms for appendicitis, and can it be cured via medicine? If not, what surgical procedure should be followed to treat it?\"\n",
    "ground, rel = generate_ground_relevance_response(query_2, 3, 1024, 0.3, 0.8, 40)\n",
    "\n",
    "print(ground, end=\"\\n\\n\")\n",
    "print(rel)"
   ]
  },
  {
   "cell_type": "markdown",
   "metadata": {
    "id": "Z1v644jkzZYg"
   },
   "source": [
    "- For the second query, the model has done well with the set of parameters which uses lower values of top_p(0.8) and top_k(40)."
   ]
  },
  {
   "cell_type": "code",
   "execution_count": 39,
   "metadata": {
    "colab": {
     "base_uri": "https://localhost:8080/"
    },
    "id": "DQTzDS2LOtuI",
    "outputId": "af6f1fb5-2b28-4981-c62e-0bd986beefbf"
   },
   "outputs": [
    {
     "name": "stderr",
     "output_type": "stream",
     "text": [
      "Llama.generate: prefix-match hit\n",
      "Llama.generate: prefix-match hit\n",
      "Llama.generate: prefix-match hit\n"
     ]
    },
    {
     "name": "stdout",
     "output_type": "stream",
     "text": [
      "  Sure, I'd be happy to help you evaluate the answer! Here are the steps I will follow:\n",
      "\n",
      "Step 1: Identify the metric that needs to be followed.\n",
      "The metric is \"the answer should be derived only from the information presented in the context.\"\n",
      "\n",
      "Step 2: Evaluate the answer to see if it adheres to the metric.\n",
      "The answer provides a list of effective treatments for sudden patchy hair loss, but it does not derive any information from the context. The answer is based on general knowledge and does not take into account the specific information provided in the context. Therefore, the answer does not adhere to the metric.\n",
      "\n",
      "Step 3: Evaluate the extent to which the metric is followed.\n",
      "The answer does not follow the metric at all. The answer provides a list of treatments that are not specifically related to the information presented in the context.\n",
      "\n",
      "Based on the above evaluation, I would rate the answer as follows:\n",
      "\n",
      "Rating: 1 (The metric is not followed at all)\n",
      "\n",
      "Please let me know if you have any further questions or if there's anything else I can help with!\n",
      "\n",
      "  Sure, I can help you evaluate the context and answer based on the given criteria. Here are the steps to follow:\n",
      "\n",
      "Step 1: Evaluate the relevance of the answer to the question.\n",
      "\n",
      "The question asks about effective treatments or solutions for sudden patchy hair loss, and the answer provides a list of medications and therapies that can be used to treat the condition. The answer is relevant to the question as it addresses the main aspects of the question, which is the treatment of sudden patchy hair loss.\n",
      "\n",
      "Step 2: Evaluate the extent to which the context adheres to the metric.\n",
      "\n",
      "The context provides information about the possible causes of sudden patchy hair loss and the treatments that can be used to address the condition. The information is presented in a clear and concise manner, and it covers all the important aspects of the question. Therefore, the context adheres well to the metric.\n",
      "\n",
      "Step 3: Evaluate the answer based on the evaluation criteria.\n",
      "\n",
      "Based on the given criteria, I would rate the answer as follows:\n",
      "\n",
      "* Relevance: 5 (The answer is completely relevant to the question and addresses all the main\n"
     ]
    }
   ],
   "source": [
    "query_3 = \"What are the effective treatments or solutions for addressing sudden patchy hair loss, commonly seen as localized bald spots on the scalp, and what could be the possible causes behind it?\"\n",
    "ground, rel = generate_ground_relevance_response(query_3, 4, 1024, 0.01, 0.95, 60)\n",
    "\n",
    "print(ground, end=\"\\n\\n\")\n",
    "print(rel)"
   ]
  },
  {
   "cell_type": "code",
   "execution_count": 45,
   "metadata": {
    "colab": {
     "base_uri": "https://localhost:8080/"
    },
    "id": "qlP2jRc5Otr-",
    "outputId": "1143c7a1-d754-48b5-d5ed-b20c4f60e746"
   },
   "outputs": [
    {
     "name": "stderr",
     "output_type": "stream",
     "text": [
      "Llama.generate: prefix-match hit\n",
      "Llama.generate: prefix-match hit\n",
      "Llama.generate: prefix-match hit\n"
     ]
    },
    {
     "name": "stdout",
     "output_type": "stream",
     "text": [
      "  Sure, I'd be happy to help you evaluate the answer! Here are the steps I will follow:\n",
      "\n",
      "Step 1: Identify the metric that needs to be followed.\n",
      "The metric is \"the answer should be derived only from the information presented in the context.\"\n",
      "\n",
      "Step 2: Evaluate the answer to see if it adheres to the metric.\n",
      "The answer provides a list of effective treatments for sudden patchy hair loss, but it does not derive any information from the context. The answer is based on general knowledge and does not take into account the specific information provided in the context. Therefore, the answer does not adhere to the metric.\n",
      "\n",
      "Step 3: Evaluate the extent to which the metric is followed.\n",
      "The answer does not follow the metric at all. The answer provides a list of treatments that are not specifically related to the information presented in the context.\n",
      "\n",
      "Based on the above evaluation, I would rate the answer as follows:\n",
      "\n",
      "Rating: 1 (The metric is not followed at all)\n",
      "\n",
      "Please let me know if you have any further questions or if there's anything else I can help with!\n",
      "\n",
      "  Sure, I can help you evaluate the context and answer based on the given criteria. Here are the steps to follow:\n",
      "\n",
      "Step 1: Evaluate the relevance of the answer to the question.\n",
      "\n",
      "The question asks about effective treatments or solutions for sudden patchy hair loss, and the answer provides a list of medications and therapies that can be used to treat the condition. The answer is relevant to the question as it addresses the main aspects of the question, which is the treatment of sudden patchy hair loss.\n",
      "\n",
      "Step 2: Evaluate the extent to which the context adheres to the metric.\n",
      "\n",
      "The context provides information about the possible causes of sudden patchy hair loss and the treatments that can be used to address the condition. The information is presented in a clear and concise manner, and it covers all the important aspects of the question. Therefore, the context adheres well to the metric.\n",
      "\n",
      "Step 3: Evaluate the answer based on the evaluation criteria.\n",
      "\n",
      "Based on the given criteria, I would rate the answer as follows:\n",
      "\n",
      "* Relevance: 5 (The answer is completely relevant to the question and addresses all the main\n"
     ]
    }
   ],
   "source": [
    "query_3 = \"What are the effective treatments or solutions for addressing sudden patchy hair loss, commonly seen as localized bald spots on the scalp, and what could be the possible causes behind it?\"\n",
    "ground, rel = generate_ground_relevance_response(query_3, 8, 1024, 0.01, 0.95, 60)\n",
    "\n",
    "print(ground, end=\"\\n\\n\")\n",
    "print(rel)"
   ]
  },
  {
   "cell_type": "markdown",
   "metadata": {
    "id": "vA3l-O0r8CPl"
   },
   "source": [
    "- For the above query, the model's answer is rated high in Relavence but low in groundedness."
   ]
  },
  {
   "cell_type": "code",
   "execution_count": 41,
   "metadata": {
    "colab": {
     "base_uri": "https://localhost:8080/"
    },
    "id": "UKaatf9JOtpQ",
    "outputId": "6b2a0a62-c70e-44f3-8eba-4a72d41452a0"
   },
   "outputs": [
    {
     "name": "stderr",
     "output_type": "stream",
     "text": [
      "Llama.generate: prefix-match hit\n",
      "Llama.generate: prefix-match hit\n",
      "Llama.generate: prefix-match hit\n"
     ]
    },
    {
     "name": "stdout",
     "output_type": "stream",
     "text": [
      "  Sure, I'd be happy to help you evaluate the answer!\n",
      "\n",
      "Step 1: Evaluate the answer against the metric.\n",
      "\n",
      "The metric is that the answer should be derived only from the information presented in the context.\n",
      "\n",
      "Based on the answer provided, it appears that the answerer has derived the recommended treatments for a person who has sustained a physical injury to brain tissue from the information provided in Chapter 324 of The Merck Manual of Diagnosis & Therapy, 19th Edition. The answer mentions supportive care, good nutrition, and prevention of pressure ulcers as recommended treatments, which are all consistent with the information presented in the context.\n",
      "\n",
      "Step 2: Evaluate the extent to which the metric is followed.\n",
      "\n",
      "The answerer has followed the metric completely, as all the recommended treatments mentioned in the answer are based on the information provided in the context.\n",
      "\n",
      "Step 3: Rate the answer using the evaluation criteria.\n",
      "\n",
      "Based on the evaluation criteria provided, I would rate the answer as a 5, as the answerer has followed the metric completely and derived the recommended treatments only from the information presented in the context.\n",
      "\n",
      "Here's the final rating:\n",
      "\n",
      "Rating: 5 (Completely Followed)\n",
      "\n",
      "The answerer has provided a complete and accurate response to the question, deriving all the recommended treatments for a person who has sustained a physical injury to brain tissue from the information presented in the context. The answer is well-supported by the information provided in Chapter 324 of The Merck Manual of Diagnosis & Therapy, 19th Edition, and demonstrates a thorough understanding of the topic.\n",
      "\n",
      "  Sure, I'd be happy to help you evaluate the context and answer!\n",
      "\n",
      "Step 1: Evaluate the context as per the metric.\n",
      "\n",
      "The context provided is a passage from The Merck Manual of Diagnosis & Therapy, 19th Edition, specifically from Chapter 324, which discusses traumatic brain injury (TBI). The passage provides a comprehensive overview of TBI, including its definition, causes, pathology, clinical manifestations, and treatment options.\n",
      "\n",
      "Step 2: Consider whether all and only the important aspects are contained in the answer.\n",
      "\n",
      "The answer provided is a list of recommended treatments for a person who has sustained a physical injury to brain tissue, resulting in temporary or permanent impairment of brain function. The treatments listed include supportive care, good nutrition, and prevention of pressure ulcers. These treatments are all relevant to the context of TBI and are important aspects of managing the condition.\n",
      "\n",
      "Step 3: Evaluate the extent to which the metric is followed.\n",
      "\n",
      "The answer provided follows the metric well, as it lists specific treatments that are relevant to the context of TBI. The answer also provides a brief explanation for each treatment, which helps to reinforce the relevance of the treatments to the context.\n",
      "\n",
      "Step 4: Use the previous information to rate the context using the evaluation criteria.\n",
      "\n",
      "Based on the information provided, I would rate the context as follows:\n",
      "\n",
      "* Relevance: 5 (completely followed) - The answer provides specific treatments that are relevant to the context of TBI, and the explanations provided reinforce the relevance of the treatments.\n",
      "* Completeness: 4 (mostly followed) - The answer provides a comprehensive list of treatments for TBI, but does not cover all aspects of the condition, such as rehabilitation and long-term outcomes.\n",
      "* Accuracy: 5 (completely accurate) - The information provided in the answer is accurate and based on a reliable source, The Merck Manual of Diagnosis & Therapy, 19th Edition.\n",
      "\n",
      "Overall, I would rate the context as 4.5 out of 5, as it provides a comprehensive list of treatments for TBI that are relevant to the context, and the information is accurate and complete.\n"
     ]
    }
   ],
   "source": [
    "query_4 = \"What treatments are recommended for a person who has sustained a physical injury to brain tissue, resulting in temporary or permanent impairment of brain function?\"\n",
    "ground, rel = generate_ground_relevance_response(query_4, 2, 1024, 0, 0.8, 40)\n",
    "\n",
    "print(ground, end=\"\\n\\n\")\n",
    "print(rel)"
   ]
  },
  {
   "cell_type": "code",
   "execution_count": 42,
   "metadata": {
    "colab": {
     "base_uri": "https://localhost:8080/"
    },
    "id": "M_n32xr1Otms",
    "outputId": "1ca18d3a-b1e2-4826-ab30-50ae5b945623"
   },
   "outputs": [
    {
     "name": "stderr",
     "output_type": "stream",
     "text": [
      "Llama.generate: prefix-match hit\n",
      "Llama.generate: prefix-match hit\n",
      "Llama.generate: prefix-match hit\n"
     ]
    },
    {
     "name": "stdout",
     "output_type": "stream",
     "text": [
      "  Sure, I'd be happy to help you evaluate the answer!\n",
      "\n",
      "Step 1: Evaluate the answer against the metric.\n",
      "\n",
      "The metric is that the answer should be derived only from the information presented in the context.\n",
      "\n",
      "Based on the answer provided, it appears that the answerer has derived the recommended treatments for a person who has sustained a physical injury to brain tissue from the information provided in Chapter 324 of The Merck Manual of Diagnosis & Therapy, 19th Edition. The answer mentions supportive care, good nutrition, and prevention of pressure ulcers as recommended treatments, which are all consistent with the information presented in the context.\n",
      "\n",
      "Step 2: Evaluate the extent to which the metric is followed.\n",
      "\n",
      "The answerer has followed the metric completely, as all the recommended treatments mentioned in the answer are based on the information provided in the context.\n",
      "\n",
      "Step 3: Rate the answer using the evaluation criteria.\n",
      "\n",
      "Based on the evaluation criteria provided, I would rate the answer as a 5, as the answerer has followed the metric completely and derived the recommended treatments only from the information presented in the context.\n",
      "\n",
      "Here's the final rating:\n",
      "\n",
      "Rating: 5 (Completely Followed)\n",
      "\n",
      "The answerer has provided a complete and accurate response to the question, deriving all the recommended treatments for a person who has sustained a physical injury to brain tissue from the information presented in the context. The answer is well-supported by the information provided in Chapter 324 of The Merck Manual of Diagnosis & Therapy, 19th Edition, and demonstrates a thorough understanding of the topic.\n",
      "\n",
      "  Sure, I'd be happy to help you evaluate the context and answer!\n",
      "\n",
      "Step 1: Evaluate the context as per the metric.\n",
      "\n",
      "The context provided is a passage from The Merck Manual of Diagnosis & Therapy, 19th Edition, specifically from Chapter 324, which discusses traumatic brain injury (TBI). The passage provides a comprehensive overview of TBI, including its definition, causes, pathology, clinical manifestations, and treatment options.\n",
      "\n",
      "Step 2: Consider whether all and only the important aspects are contained in the answer.\n",
      "\n",
      "The answer provided is a list of recommended treatments for a person who has sustained a physical injury to brain tissue, resulting in temporary or permanent impairment of brain function. The treatments listed include supportive care, good nutrition, and prevention of pressure ulcers. These treatments are all relevant to the context of TBI and are important aspects of managing the condition.\n",
      "\n",
      "Step 3: Evaluate the extent to which the metric is followed.\n",
      "\n",
      "The answer provided follows the metric well, as it lists specific treatments that are relevant to the context of TBI. The answer also provides a brief explanation for each treatment, which helps to reinforce the relevance of the treatments to the context.\n",
      "\n",
      "Step 4: Use the previous information to rate the context using the evaluation criteria.\n",
      "\n",
      "Based on the information provided, I would rate the context as follows:\n",
      "\n",
      "* Relevance: 5 (completely followed) - The answer provides specific treatments that are relevant to the context of TBI, and the explanations provided reinforce the relevance of the treatments.\n",
      "* Completeness: 4 (mostly followed) - The answer provides a comprehensive list of treatments for TBI, but does not cover all aspects of the condition, such as rehabilitation and long-term outcomes.\n",
      "* Accuracy: 5 (completely accurate) - The information provided in the answer is accurate and based on a reliable source, The Merck Manual of Diagnosis & Therapy, 19th Edition.\n",
      "\n",
      "Overall, I would rate the context as 4.5 out of 5, as it provides a comprehensive list of treatments for TBI that are relevant to the context, and the information is accurate and complete.\n"
     ]
    }
   ],
   "source": [
    "query_4 = \"What treatments are recommended for a person who has sustained a physical injury to brain tissue, resulting in temporary or permanent impairment of brain function?\"\n",
    "ground, rel = generate_ground_relevance_response(query_4, 6, 1024, 0, 0.8, 40)\n",
    "\n",
    "print(ground, end=\"\\n\\n\")\n",
    "print(rel)"
   ]
  },
  {
   "cell_type": "markdown",
   "metadata": {
    "id": "Vd6SjjaN84Ds"
   },
   "source": [
    "- The model has done well in answering query 4 with both set of parameters."
   ]
  },
  {
   "cell_type": "code",
   "execution_count": 43,
   "metadata": {
    "colab": {
     "base_uri": "https://localhost:8080/"
    },
    "id": "qKXDIsEEMrjb",
    "outputId": "55103f72-e2f4-4cf2-f38a-5a48a1556387"
   },
   "outputs": [
    {
     "name": "stderr",
     "output_type": "stream",
     "text": [
      "Llama.generate: prefix-match hit\n",
      "Llama.generate: prefix-match hit\n",
      "Llama.generate: prefix-match hit\n"
     ]
    },
    {
     "name": "stdout",
     "output_type": "stream",
     "text": [
      "  Sure, I'd be happy to help you evaluate the answer!\n",
      "\n",
      "First, let me summarize the question and context:\n",
      "\n",
      "Question: What are the necessary precautions and treatment steps for a person who has fractured their leg during a hiking trip, and what should be considered for their care and recovery?\n",
      "\n",
      "Context: The patient has fractured their leg during a hiking trip.\n",
      "\n",
      "Now, let me evaluate the answer based on the metric you provided:\n",
      "\n",
      "1. The metric is followed to a good extent: The answer provides a list of necessary precautions and treatment steps for a person who\n",
      "\n",
      "  Sure, I'd be happy to help you rate the context!\n",
      "\n",
      "To evaluate the extent to which the metric is followed, we need to consider the following steps:\n",
      "\n",
      "1. Relevance: Does the answer address the main aspects of the question?\n",
      "2. Completeness: Is all relevant information included in the answer?\n",
      "3. Accuracy: Are the facts and information provided accurate?\n",
      "4. Clarity: Is the answer clear and easy to understand?\n",
      "\n",
      "Based on the provided\n"
     ]
    }
   ],
   "source": [
    "query_5 = \"What are the necessary precautions and treatment steps for a person who has fractured their leg during a hiking trip, and what should be considered for their care and recovery?\"\n",
    "ground, rel = generate_ground_relevance_response(query_5, 3, 1024, 0, 0.7, 35)\n",
    "\n",
    "print(ground, end=\"\\n\\n\")\n",
    "print(rel)"
   ]
  },
  {
   "cell_type": "code",
   "execution_count": 44,
   "metadata": {
    "colab": {
     "base_uri": "https://localhost:8080/"
    },
    "id": "6qjiDJDLMrgY",
    "outputId": "06621f8f-3709-49c1-b0a8-cccabbcb4ba5"
   },
   "outputs": [
    {
     "name": "stderr",
     "output_type": "stream",
     "text": [
      "Llama.generate: prefix-match hit\n",
      "Llama.generate: prefix-match hit\n",
      "Llama.generate: prefix-match hit\n"
     ]
    },
    {
     "name": "stdout",
     "output_type": "stream",
     "text": [
      "  Sure, I'd be happy to help you rate the answer!\n",
      "\n",
      "To evaluate the extent to which the metric is followed, we need to consider the following steps:\n",
      "\n",
      "1. The answer should be derived only from the information presented in the context.\n",
      "2. The answer should address all aspects of the question.\n",
      "3. The answer should be concise and to the point.\n",
      "\n",
      "Based on the provided answer, here's my evaluation:\n",
      "\n",
      "Step 1: The answer is derived only from the information presented in the context. Yes, the answer provides a detailed list of necessary precautions and treatment steps for a person who has\n",
      "\n",
      "  Sure, I'd be happy to help you rate the context!\n",
      "\n",
      "To evaluate the extent to which the metric is followed, we need to consider the following steps:\n",
      "\n",
      "1. Relevance: Does the answer address the main aspects of the question?\n",
      "2. Completeness: Is all relevant information included in the answer?\n",
      "3. Accuracy: Are the facts and information provided accurate?\n",
      "4. Clarity: Is the answer clear and easy to understand?\n",
      "\n",
      "Based on the provided context\n"
     ]
    }
   ],
   "source": [
    "query_5 = \"What are the necessary precautions and treatment steps for a person who has fractured their leg during a hiking trip, and what should be considered for their care and recovery?\"\n",
    "ground, rel = generate_ground_relevance_response(query_5, 5, 1024, 0.09, 0.95, 50)\n",
    "\n",
    "print(ground, end=\"\\n\\n\")\n",
    "print(rel)"
   ]
  },
  {
   "cell_type": "markdown",
   "metadata": {
    "id": "XsYqkML99UoU"
   },
   "source": [
    "- The model has also answered the query 5 with good score but the explanation is not clearly provided."
   ]
  },
  {
   "cell_type": "markdown",
   "metadata": {
    "id": "drC3Skprz8XC"
   },
   "source": [
    "### Conclusions and Recommendations"
   ]
  },
  {
   "cell_type": "markdown",
   "metadata": {
    "id": "2_-j4yC4-Ie8"
   },
   "source": [
    "- The LLM model provides information using the general data from the internet over which the Llama-2 model was trained.\n",
    "- Using prompt Engineering, we can shape the model's output answer's as per our convenience, especially in formatting and getting clear responses.\n",
    "- The RAG model provides information based on the text document which was fed to the LLM model.\n",
    "- The same method can be used on other models like Mistral, etc. and check if those models do better.\n",
    "- With higher computational power, better models can be built in lesser amount of time.\n",
    "- Restricting the top_p and top_k value has made the model's answers more concise.\n",
    "- The LLM model can not be fully trusted since it is prone to hallucination.\n",
    "- RAG model performed better than the LLM since the answer is derived from the context.\n",
    "- Different chunking, embedding and retrieval strategies can be used to check if further improvement can be made.\n",
    "- Further research is needed for improving the groundedness and relavance of the RAG model."
   ]
  },
  {
   "cell_type": "code",
   "execution_count": null,
   "metadata": {
    "id": "NhkVEhEPBaVw"
   },
   "outputs": [],
   "source": []
  }
 ],
 "metadata": {
  "accelerator": "GPU",
  "colab": {
   "gpuType": "T4",
   "provenance": []
  },
  "kernelspec": {
   "display_name": "Python 3 (ipykernel)",
   "language": "python",
   "name": "python3"
  },
  "language_info": {
   "codemirror_mode": {
    "name": "ipython",
    "version": 3
   },
   "file_extension": ".py",
   "mimetype": "text/x-python",
   "name": "python",
   "nbconvert_exporter": "python",
   "pygments_lexer": "ipython3",
   "version": "3.10.1"
  },
  "widgets": {
   "application/vnd.jupyter.widget-state+json": {
    "00aff4103e5b403c8a162a5400b90210": {
     "model_module": "@jupyter-widgets/controls",
     "model_module_version": "1.5.0",
     "model_name": "ProgressStyleModel",
     "state": {
      "_model_module": "@jupyter-widgets/controls",
      "_model_module_version": "1.5.0",
      "_model_name": "ProgressStyleModel",
      "_view_count": null,
      "_view_module": "@jupyter-widgets/base",
      "_view_module_version": "1.2.0",
      "_view_name": "StyleView",
      "bar_color": null,
      "description_width": ""
     }
    },
    "01e510cafbf44e8e80a5ced42dc4ee0c": {
     "model_module": "@jupyter-widgets/controls",
     "model_module_version": "1.5.0",
     "model_name": "ProgressStyleModel",
     "state": {
      "_model_module": "@jupyter-widgets/controls",
      "_model_module_version": "1.5.0",
      "_model_name": "ProgressStyleModel",
      "_view_count": null,
      "_view_module": "@jupyter-widgets/base",
      "_view_module_version": "1.2.0",
      "_view_name": "StyleView",
      "bar_color": null,
      "description_width": ""
     }
    },
    "025a3d9f8f05420dba858df2da9d35bb": {
     "model_module": "@jupyter-widgets/controls",
     "model_module_version": "1.5.0",
     "model_name": "DescriptionStyleModel",
     "state": {
      "_model_module": "@jupyter-widgets/controls",
      "_model_module_version": "1.5.0",
      "_model_name": "DescriptionStyleModel",
      "_view_count": null,
      "_view_module": "@jupyter-widgets/base",
      "_view_module_version": "1.2.0",
      "_view_name": "StyleView",
      "description_width": ""
     }
    },
    "09a2cfe7bfc24765bb0d865d76732e5f": {
     "model_module": "@jupyter-widgets/controls",
     "model_module_version": "1.5.0",
     "model_name": "DescriptionStyleModel",
     "state": {
      "_model_module": "@jupyter-widgets/controls",
      "_model_module_version": "1.5.0",
      "_model_name": "DescriptionStyleModel",
      "_view_count": null,
      "_view_module": "@jupyter-widgets/base",
      "_view_module_version": "1.2.0",
      "_view_name": "StyleView",
      "description_width": ""
     }
    },
    "11e259ff019a447fa8a1e2978c5dd18c": {
     "model_module": "@jupyter-widgets/base",
     "model_module_version": "1.2.0",
     "model_name": "LayoutModel",
     "state": {
      "_model_module": "@jupyter-widgets/base",
      "_model_module_version": "1.2.0",
      "_model_name": "LayoutModel",
      "_view_count": null,
      "_view_module": "@jupyter-widgets/base",
      "_view_module_version": "1.2.0",
      "_view_name": "LayoutView",
      "align_content": null,
      "align_items": null,
      "align_self": null,
      "border": null,
      "bottom": null,
      "display": null,
      "flex": null,
      "flex_flow": null,
      "grid_area": null,
      "grid_auto_columns": null,
      "grid_auto_flow": null,
      "grid_auto_rows": null,
      "grid_column": null,
      "grid_gap": null,
      "grid_row": null,
      "grid_template_areas": null,
      "grid_template_columns": null,
      "grid_template_rows": null,
      "height": null,
      "justify_content": null,
      "justify_items": null,
      "left": null,
      "margin": null,
      "max_height": null,
      "max_width": null,
      "min_height": null,
      "min_width": null,
      "object_fit": null,
      "object_position": null,
      "order": null,
      "overflow": null,
      "overflow_x": null,
      "overflow_y": null,
      "padding": null,
      "right": null,
      "top": null,
      "visibility": null,
      "width": null
     }
    },
    "125e3618ae0a4cfe9332c32628a3c6a9": {
     "model_module": "@jupyter-widgets/controls",
     "model_module_version": "1.5.0",
     "model_name": "HBoxModel",
     "state": {
      "_dom_classes": [],
      "_model_module": "@jupyter-widgets/controls",
      "_model_module_version": "1.5.0",
      "_model_name": "HBoxModel",
      "_view_count": null,
      "_view_module": "@jupyter-widgets/controls",
      "_view_module_version": "1.5.0",
      "_view_name": "HBoxView",
      "box_style": "",
      "children": [
       "IPY_MODEL_1e487e08330343d6a6be7131ecbcdff5",
       "IPY_MODEL_3639a65728a14585b6da46986f8df6af",
       "IPY_MODEL_a3cf58d30e6e43bb8a6b0b6d542ebea6"
      ],
      "layout": "IPY_MODEL_fcdf4e2eba8a4948a62c6126fbba986c"
     }
    },
    "13068d350e144b91bb973bff64d0887d": {
     "model_module": "@jupyter-widgets/controls",
     "model_module_version": "1.5.0",
     "model_name": "DescriptionStyleModel",
     "state": {
      "_model_module": "@jupyter-widgets/controls",
      "_model_module_version": "1.5.0",
      "_model_name": "DescriptionStyleModel",
      "_view_count": null,
      "_view_module": "@jupyter-widgets/base",
      "_view_module_version": "1.2.0",
      "_view_name": "StyleView",
      "description_width": ""
     }
    },
    "18ecf8b8ff754f7386e3984f34b82198": {
     "model_module": "@jupyter-widgets/base",
     "model_module_version": "1.2.0",
     "model_name": "LayoutModel",
     "state": {
      "_model_module": "@jupyter-widgets/base",
      "_model_module_version": "1.2.0",
      "_model_name": "LayoutModel",
      "_view_count": null,
      "_view_module": "@jupyter-widgets/base",
      "_view_module_version": "1.2.0",
      "_view_name": "LayoutView",
      "align_content": null,
      "align_items": null,
      "align_self": null,
      "border": null,
      "bottom": null,
      "display": null,
      "flex": null,
      "flex_flow": null,
      "grid_area": null,
      "grid_auto_columns": null,
      "grid_auto_flow": null,
      "grid_auto_rows": null,
      "grid_column": null,
      "grid_gap": null,
      "grid_row": null,
      "grid_template_areas": null,
      "grid_template_columns": null,
      "grid_template_rows": null,
      "height": null,
      "justify_content": null,
      "justify_items": null,
      "left": null,
      "margin": null,
      "max_height": null,
      "max_width": null,
      "min_height": null,
      "min_width": null,
      "object_fit": null,
      "object_position": null,
      "order": null,
      "overflow": null,
      "overflow_x": null,
      "overflow_y": null,
      "padding": null,
      "right": null,
      "top": null,
      "visibility": null,
      "width": null
     }
    },
    "19c0743b8b074043b5df46ebe662018c": {
     "model_module": "@jupyter-widgets/controls",
     "model_module_version": "1.5.0",
     "model_name": "FloatProgressModel",
     "state": {
      "_dom_classes": [],
      "_model_module": "@jupyter-widgets/controls",
      "_model_module_version": "1.5.0",
      "_model_name": "FloatProgressModel",
      "_view_count": null,
      "_view_module": "@jupyter-widgets/controls",
      "_view_module_version": "1.5.0",
      "_view_name": "ProgressView",
      "bar_style": "success",
      "description": "",
      "description_tooltip": null,
      "layout": "IPY_MODEL_18ecf8b8ff754f7386e3984f34b82198",
      "max": 57,
      "min": 0,
      "orientation": "horizontal",
      "style": "IPY_MODEL_c0ab2fba191f4b0f8e240bb7fab0b0a0",
      "value": 57
     }
    },
    "1b84df8f83b5454eb8798aed144e0960": {
     "model_module": "@jupyter-widgets/base",
     "model_module_version": "1.2.0",
     "model_name": "LayoutModel",
     "state": {
      "_model_module": "@jupyter-widgets/base",
      "_model_module_version": "1.2.0",
      "_model_name": "LayoutModel",
      "_view_count": null,
      "_view_module": "@jupyter-widgets/base",
      "_view_module_version": "1.2.0",
      "_view_name": "LayoutView",
      "align_content": null,
      "align_items": null,
      "align_self": null,
      "border": null,
      "bottom": null,
      "display": null,
      "flex": null,
      "flex_flow": null,
      "grid_area": null,
      "grid_auto_columns": null,
      "grid_auto_flow": null,
      "grid_auto_rows": null,
      "grid_column": null,
      "grid_gap": null,
      "grid_row": null,
      "grid_template_areas": null,
      "grid_template_columns": null,
      "grid_template_rows": null,
      "height": null,
      "justify_content": null,
      "justify_items": null,
      "left": null,
      "margin": null,
      "max_height": null,
      "max_width": null,
      "min_height": null,
      "min_width": null,
      "object_fit": null,
      "object_position": null,
      "order": null,
      "overflow": null,
      "overflow_x": null,
      "overflow_y": null,
      "padding": null,
      "right": null,
      "top": null,
      "visibility": null,
      "width": null
     }
    },
    "1e2044b83aed46cfb9ae2806eb9761ab": {
     "model_module": "@jupyter-widgets/base",
     "model_module_version": "1.2.0",
     "model_name": "LayoutModel",
     "state": {
      "_model_module": "@jupyter-widgets/base",
      "_model_module_version": "1.2.0",
      "_model_name": "LayoutModel",
      "_view_count": null,
      "_view_module": "@jupyter-widgets/base",
      "_view_module_version": "1.2.0",
      "_view_name": "LayoutView",
      "align_content": null,
      "align_items": null,
      "align_self": null,
      "border": null,
      "bottom": null,
      "display": null,
      "flex": null,
      "flex_flow": null,
      "grid_area": null,
      "grid_auto_columns": null,
      "grid_auto_flow": null,
      "grid_auto_rows": null,
      "grid_column": null,
      "grid_gap": null,
      "grid_row": null,
      "grid_template_areas": null,
      "grid_template_columns": null,
      "grid_template_rows": null,
      "height": null,
      "justify_content": null,
      "justify_items": null,
      "left": null,
      "margin": null,
      "max_height": null,
      "max_width": null,
      "min_height": null,
      "min_width": null,
      "object_fit": null,
      "object_position": null,
      "order": null,
      "overflow": null,
      "overflow_x": null,
      "overflow_y": null,
      "padding": null,
      "right": null,
      "top": null,
      "visibility": null,
      "width": null
     }
    },
    "1e487e08330343d6a6be7131ecbcdff5": {
     "model_module": "@jupyter-widgets/controls",
     "model_module_version": "1.5.0",
     "model_name": "HTMLModel",
     "state": {
      "_dom_classes": [],
      "_model_module": "@jupyter-widgets/controls",
      "_model_module_version": "1.5.0",
      "_model_name": "HTMLModel",
      "_view_count": null,
      "_view_module": "@jupyter-widgets/controls",
      "_view_module_version": "1.5.0",
      "_view_name": "HTMLView",
      "description": "",
      "description_tooltip": null,
      "layout": "IPY_MODEL_ae36840f453842f99b03525bfa8655f8",
      "placeholder": "​",
      "style": "IPY_MODEL_c29a7fd2f48241559830110a7392c628",
      "value": "config.json: 100%"
     }
    },
    "20c373ca69594d8291924c43f7320c22": {
     "model_module": "@jupyter-widgets/controls",
     "model_module_version": "1.5.0",
     "model_name": "DescriptionStyleModel",
     "state": {
      "_model_module": "@jupyter-widgets/controls",
      "_model_module_version": "1.5.0",
      "_model_name": "DescriptionStyleModel",
      "_view_count": null,
      "_view_module": "@jupyter-widgets/base",
      "_view_module_version": "1.2.0",
      "_view_name": "StyleView",
      "description_width": ""
     }
    },
    "2376ae6e52414457a45f62cb179ad90e": {
     "model_module": "@jupyter-widgets/controls",
     "model_module_version": "1.5.0",
     "model_name": "HTMLModel",
     "state": {
      "_dom_classes": [],
      "_model_module": "@jupyter-widgets/controls",
      "_model_module_version": "1.5.0",
      "_model_name": "HTMLModel",
      "_view_count": null,
      "_view_module": "@jupyter-widgets/controls",
      "_view_module_version": "1.5.0",
      "_view_name": "HTMLView",
      "description": "",
      "description_tooltip": null,
      "layout": "IPY_MODEL_5297101f195541ab9fcea7da3ac83d26",
      "placeholder": "​",
      "style": "IPY_MODEL_f7afae88361a4a01ba881eb70889b29b",
      "value": "vocab.txt: 100%"
     }
    },
    "2583a2e12b384b11b831e9eda69b1e64": {
     "model_module": "@jupyter-widgets/controls",
     "model_module_version": "1.5.0",
     "model_name": "HBoxModel",
     "state": {
      "_dom_classes": [],
      "_model_module": "@jupyter-widgets/controls",
      "_model_module_version": "1.5.0",
      "_model_name": "HBoxModel",
      "_view_count": null,
      "_view_module": "@jupyter-widgets/controls",
      "_view_module_version": "1.5.0",
      "_view_name": "HBoxView",
      "box_style": "",
      "children": [
       "IPY_MODEL_a30538644e8c4e3bbaac7bfa55281b4e",
       "IPY_MODEL_fa77ce9255c944c78a64723a48ebafb8",
       "IPY_MODEL_53a1e2e2fade4ee69413d7138fa519fd"
      ],
      "layout": "IPY_MODEL_a40d0e73464544f09c95ba1fee88092e"
     }
    },
    "266821582123418795e4e733a150667c": {
     "model_module": "@jupyter-widgets/controls",
     "model_module_version": "1.5.0",
     "model_name": "DescriptionStyleModel",
     "state": {
      "_model_module": "@jupyter-widgets/controls",
      "_model_module_version": "1.5.0",
      "_model_name": "DescriptionStyleModel",
      "_view_count": null,
      "_view_module": "@jupyter-widgets/base",
      "_view_module_version": "1.2.0",
      "_view_name": "StyleView",
      "description_width": ""
     }
    },
    "27a3f5bee927464b92d80c36175c5e17": {
     "model_module": "@jupyter-widgets/base",
     "model_module_version": "1.2.0",
     "model_name": "LayoutModel",
     "state": {
      "_model_module": "@jupyter-widgets/base",
      "_model_module_version": "1.2.0",
      "_model_name": "LayoutModel",
      "_view_count": null,
      "_view_module": "@jupyter-widgets/base",
      "_view_module_version": "1.2.0",
      "_view_name": "LayoutView",
      "align_content": null,
      "align_items": null,
      "align_self": null,
      "border": null,
      "bottom": null,
      "display": null,
      "flex": null,
      "flex_flow": null,
      "grid_area": null,
      "grid_auto_columns": null,
      "grid_auto_flow": null,
      "grid_auto_rows": null,
      "grid_column": null,
      "grid_gap": null,
      "grid_row": null,
      "grid_template_areas": null,
      "grid_template_columns": null,
      "grid_template_rows": null,
      "height": null,
      "justify_content": null,
      "justify_items": null,
      "left": null,
      "margin": null,
      "max_height": null,
      "max_width": null,
      "min_height": null,
      "min_width": null,
      "object_fit": null,
      "object_position": null,
      "order": null,
      "overflow": null,
      "overflow_x": null,
      "overflow_y": null,
      "padding": null,
      "right": null,
      "top": null,
      "visibility": null,
      "width": null
     }
    },
    "28cbde84a5594b48a757eac6fb000f07": {
     "model_module": "@jupyter-widgets/controls",
     "model_module_version": "1.5.0",
     "model_name": "DescriptionStyleModel",
     "state": {
      "_model_module": "@jupyter-widgets/controls",
      "_model_module_version": "1.5.0",
      "_model_name": "DescriptionStyleModel",
      "_view_count": null,
      "_view_module": "@jupyter-widgets/base",
      "_view_module_version": "1.2.0",
      "_view_name": "StyleView",
      "description_width": ""
     }
    },
    "28ed138bebd44591800aa71c8fa0df38": {
     "model_module": "@jupyter-widgets/controls",
     "model_module_version": "1.5.0",
     "model_name": "HBoxModel",
     "state": {
      "_dom_classes": [],
      "_model_module": "@jupyter-widgets/controls",
      "_model_module_version": "1.5.0",
      "_model_name": "HBoxModel",
      "_view_count": null,
      "_view_module": "@jupyter-widgets/controls",
      "_view_module_version": "1.5.0",
      "_view_name": "HBoxView",
      "box_style": "",
      "children": [
       "IPY_MODEL_56272c9fd5374258a9e8979931248626",
       "IPY_MODEL_76b121813bc5435bb9ec02756a3bbd81",
       "IPY_MODEL_a3802b90a9a942b887dc13980c4e9e41"
      ],
      "layout": "IPY_MODEL_5ac1c0e73547454687e22fdddd6bb46c"
     }
    },
    "2a41d78fc393417eadb2c347ec6a7ec7": {
     "model_module": "@jupyter-widgets/controls",
     "model_module_version": "1.5.0",
     "model_name": "DescriptionStyleModel",
     "state": {
      "_model_module": "@jupyter-widgets/controls",
      "_model_module_version": "1.5.0",
      "_model_name": "DescriptionStyleModel",
      "_view_count": null,
      "_view_module": "@jupyter-widgets/base",
      "_view_module_version": "1.2.0",
      "_view_name": "StyleView",
      "description_width": ""
     }
    },
    "2e305b7f99c3459093fddf7c3f80aafe": {
     "model_module": "@jupyter-widgets/controls",
     "model_module_version": "1.5.0",
     "model_name": "ProgressStyleModel",
     "state": {
      "_model_module": "@jupyter-widgets/controls",
      "_model_module_version": "1.5.0",
      "_model_name": "ProgressStyleModel",
      "_view_count": null,
      "_view_module": "@jupyter-widgets/base",
      "_view_module_version": "1.2.0",
      "_view_name": "StyleView",
      "bar_color": null,
      "description_width": ""
     }
    },
    "2e9dc532cb374565916b0535ae87c470": {
     "model_module": "@jupyter-widgets/base",
     "model_module_version": "1.2.0",
     "model_name": "LayoutModel",
     "state": {
      "_model_module": "@jupyter-widgets/base",
      "_model_module_version": "1.2.0",
      "_model_name": "LayoutModel",
      "_view_count": null,
      "_view_module": "@jupyter-widgets/base",
      "_view_module_version": "1.2.0",
      "_view_name": "LayoutView",
      "align_content": null,
      "align_items": null,
      "align_self": null,
      "border": null,
      "bottom": null,
      "display": null,
      "flex": null,
      "flex_flow": null,
      "grid_area": null,
      "grid_auto_columns": null,
      "grid_auto_flow": null,
      "grid_auto_rows": null,
      "grid_column": null,
      "grid_gap": null,
      "grid_row": null,
      "grid_template_areas": null,
      "grid_template_columns": null,
      "grid_template_rows": null,
      "height": null,
      "justify_content": null,
      "justify_items": null,
      "left": null,
      "margin": null,
      "max_height": null,
      "max_width": null,
      "min_height": null,
      "min_width": null,
      "object_fit": null,
      "object_position": null,
      "order": null,
      "overflow": null,
      "overflow_x": null,
      "overflow_y": null,
      "padding": null,
      "right": null,
      "top": null,
      "visibility": null,
      "width": null
     }
    },
    "32cc1107559f4670964f983b007ee783": {
     "model_module": "@jupyter-widgets/base",
     "model_module_version": "1.2.0",
     "model_name": "LayoutModel",
     "state": {
      "_model_module": "@jupyter-widgets/base",
      "_model_module_version": "1.2.0",
      "_model_name": "LayoutModel",
      "_view_count": null,
      "_view_module": "@jupyter-widgets/base",
      "_view_module_version": "1.2.0",
      "_view_name": "LayoutView",
      "align_content": null,
      "align_items": null,
      "align_self": null,
      "border": null,
      "bottom": null,
      "display": null,
      "flex": null,
      "flex_flow": null,
      "grid_area": null,
      "grid_auto_columns": null,
      "grid_auto_flow": null,
      "grid_auto_rows": null,
      "grid_column": null,
      "grid_gap": null,
      "grid_row": null,
      "grid_template_areas": null,
      "grid_template_columns": null,
      "grid_template_rows": null,
      "height": null,
      "justify_content": null,
      "justify_items": null,
      "left": null,
      "margin": null,
      "max_height": null,
      "max_width": null,
      "min_height": null,
      "min_width": null,
      "object_fit": null,
      "object_position": null,
      "order": null,
      "overflow": null,
      "overflow_x": null,
      "overflow_y": null,
      "padding": null,
      "right": null,
      "top": null,
      "visibility": null,
      "width": null
     }
    },
    "3639a65728a14585b6da46986f8df6af": {
     "model_module": "@jupyter-widgets/controls",
     "model_module_version": "1.5.0",
     "model_name": "FloatProgressModel",
     "state": {
      "_dom_classes": [],
      "_model_module": "@jupyter-widgets/controls",
      "_model_module_version": "1.5.0",
      "_model_name": "FloatProgressModel",
      "_view_count": null,
      "_view_module": "@jupyter-widgets/controls",
      "_view_module_version": "1.5.0",
      "_view_name": "ProgressView",
      "bar_style": "success",
      "description": "",
      "description_tooltip": null,
      "layout": "IPY_MODEL_85a18eccb300479bbd2b63aec4030ce8",
      "max": 619,
      "min": 0,
      "orientation": "horizontal",
      "style": "IPY_MODEL_2e305b7f99c3459093fddf7c3f80aafe",
      "value": 619
     }
    },
    "36a81cb5207449208d9361fed397fcb6": {
     "model_module": "@jupyter-widgets/controls",
     "model_module_version": "1.5.0",
     "model_name": "HBoxModel",
     "state": {
      "_dom_classes": [],
      "_model_module": "@jupyter-widgets/controls",
      "_model_module_version": "1.5.0",
      "_model_name": "HBoxModel",
      "_view_count": null,
      "_view_module": "@jupyter-widgets/controls",
      "_view_module_version": "1.5.0",
      "_view_name": "HBoxView",
      "box_style": "",
      "children": [
       "IPY_MODEL_793e26789843487da8de5198d2b55022",
       "IPY_MODEL_cb0a710056e14f66994935ca81e7d744",
       "IPY_MODEL_b78c97d53c0b4170b50e6bcc3210e475"
      ],
      "layout": "IPY_MODEL_bb7e6a67c1f14b3bab0e097f50d89a80"
     }
    },
    "394eeb0da7d74ecd97bea794e6020416": {
     "model_module": "@jupyter-widgets/base",
     "model_module_version": "1.2.0",
     "model_name": "LayoutModel",
     "state": {
      "_model_module": "@jupyter-widgets/base",
      "_model_module_version": "1.2.0",
      "_model_name": "LayoutModel",
      "_view_count": null,
      "_view_module": "@jupyter-widgets/base",
      "_view_module_version": "1.2.0",
      "_view_name": "LayoutView",
      "align_content": null,
      "align_items": null,
      "align_self": null,
      "border": null,
      "bottom": null,
      "display": null,
      "flex": null,
      "flex_flow": null,
      "grid_area": null,
      "grid_auto_columns": null,
      "grid_auto_flow": null,
      "grid_auto_rows": null,
      "grid_column": null,
      "grid_gap": null,
      "grid_row": null,
      "grid_template_areas": null,
      "grid_template_columns": null,
      "grid_template_rows": null,
      "height": null,
      "justify_content": null,
      "justify_items": null,
      "left": null,
      "margin": null,
      "max_height": null,
      "max_width": null,
      "min_height": null,
      "min_width": null,
      "object_fit": null,
      "object_position": null,
      "order": null,
      "overflow": null,
      "overflow_x": null,
      "overflow_y": null,
      "padding": null,
      "right": null,
      "top": null,
      "visibility": null,
      "width": null
     }
    },
    "3a299ed1cb5f4b439773c815eaae0ee8": {
     "model_module": "@jupyter-widgets/controls",
     "model_module_version": "1.5.0",
     "model_name": "DescriptionStyleModel",
     "state": {
      "_model_module": "@jupyter-widgets/controls",
      "_model_module_version": "1.5.0",
      "_model_name": "DescriptionStyleModel",
      "_view_count": null,
      "_view_module": "@jupyter-widgets/base",
      "_view_module_version": "1.2.0",
      "_view_name": "StyleView",
      "description_width": ""
     }
    },
    "3bfb00e1beea4bfa9b0221d78ccecbab": {
     "model_module": "@jupyter-widgets/controls",
     "model_module_version": "1.5.0",
     "model_name": "FloatProgressModel",
     "state": {
      "_dom_classes": [],
      "_model_module": "@jupyter-widgets/controls",
      "_model_module_version": "1.5.0",
      "_model_name": "FloatProgressModel",
      "_view_count": null,
      "_view_module": "@jupyter-widgets/controls",
      "_view_module_version": "1.5.0",
      "_view_name": "ProgressView",
      "bar_style": "success",
      "description": "",
      "description_tooltip": null,
      "layout": "IPY_MODEL_e8cc4b32fa9e4ce59e6416e4b01739ad",
      "max": 231508,
      "min": 0,
      "orientation": "horizontal",
      "style": "IPY_MODEL_de212fc7f34e4248ac33da84cbb609a0",
      "value": 231508
     }
    },
    "3cd92c555ed94150987d17bcc4b19e23": {
     "model_module": "@jupyter-widgets/controls",
     "model_module_version": "1.5.0",
     "model_name": "HTMLModel",
     "state": {
      "_dom_classes": [],
      "_model_module": "@jupyter-widgets/controls",
      "_model_module_version": "1.5.0",
      "_model_name": "HTMLModel",
      "_view_count": null,
      "_view_module": "@jupyter-widgets/controls",
      "_view_module_version": "1.5.0",
      "_view_name": "HTMLView",
      "description": "",
      "description_tooltip": null,
      "layout": "IPY_MODEL_2e9dc532cb374565916b0535ae87c470",
      "placeholder": "​",
      "style": "IPY_MODEL_858d344985d04698a444685205320e90",
      "value": "tokenizer_config.json: 100%"
     }
    },
    "4087e95e170d4c94991b67cd139f4d22": {
     "model_module": "@jupyter-widgets/base",
     "model_module_version": "1.2.0",
     "model_name": "LayoutModel",
     "state": {
      "_model_module": "@jupyter-widgets/base",
      "_model_module_version": "1.2.0",
      "_model_name": "LayoutModel",
      "_view_count": null,
      "_view_module": "@jupyter-widgets/base",
      "_view_module_version": "1.2.0",
      "_view_name": "LayoutView",
      "align_content": null,
      "align_items": null,
      "align_self": null,
      "border": null,
      "bottom": null,
      "display": null,
      "flex": null,
      "flex_flow": null,
      "grid_area": null,
      "grid_auto_columns": null,
      "grid_auto_flow": null,
      "grid_auto_rows": null,
      "grid_column": null,
      "grid_gap": null,
      "grid_row": null,
      "grid_template_areas": null,
      "grid_template_columns": null,
      "grid_template_rows": null,
      "height": null,
      "justify_content": null,
      "justify_items": null,
      "left": null,
      "margin": null,
      "max_height": null,
      "max_width": null,
      "min_height": null,
      "min_width": null,
      "object_fit": null,
      "object_position": null,
      "order": null,
      "overflow": null,
      "overflow_x": null,
      "overflow_y": null,
      "padding": null,
      "right": null,
      "top": null,
      "visibility": null,
      "width": null
     }
    },
    "49aa96c7b93b48be8d2a86acb2f5a869": {
     "model_module": "@jupyter-widgets/base",
     "model_module_version": "1.2.0",
     "model_name": "LayoutModel",
     "state": {
      "_model_module": "@jupyter-widgets/base",
      "_model_module_version": "1.2.0",
      "_model_name": "LayoutModel",
      "_view_count": null,
      "_view_module": "@jupyter-widgets/base",
      "_view_module_version": "1.2.0",
      "_view_name": "LayoutView",
      "align_content": null,
      "align_items": null,
      "align_self": null,
      "border": null,
      "bottom": null,
      "display": null,
      "flex": null,
      "flex_flow": null,
      "grid_area": null,
      "grid_auto_columns": null,
      "grid_auto_flow": null,
      "grid_auto_rows": null,
      "grid_column": null,
      "grid_gap": null,
      "grid_row": null,
      "grid_template_areas": null,
      "grid_template_columns": null,
      "grid_template_rows": null,
      "height": null,
      "justify_content": null,
      "justify_items": null,
      "left": null,
      "margin": null,
      "max_height": null,
      "max_width": null,
      "min_height": null,
      "min_width": null,
      "object_fit": null,
      "object_position": null,
      "order": null,
      "overflow": null,
      "overflow_x": null,
      "overflow_y": null,
      "padding": null,
      "right": null,
      "top": null,
      "visibility": null,
      "width": null
     }
    },
    "4a38b39c17994f21ba2fd2f842a2d04d": {
     "model_module": "@jupyter-widgets/base",
     "model_module_version": "1.2.0",
     "model_name": "LayoutModel",
     "state": {
      "_model_module": "@jupyter-widgets/base",
      "_model_module_version": "1.2.0",
      "_model_name": "LayoutModel",
      "_view_count": null,
      "_view_module": "@jupyter-widgets/base",
      "_view_module_version": "1.2.0",
      "_view_name": "LayoutView",
      "align_content": null,
      "align_items": null,
      "align_self": null,
      "border": null,
      "bottom": null,
      "display": null,
      "flex": null,
      "flex_flow": null,
      "grid_area": null,
      "grid_auto_columns": null,
      "grid_auto_flow": null,
      "grid_auto_rows": null,
      "grid_column": null,
      "grid_gap": null,
      "grid_row": null,
      "grid_template_areas": null,
      "grid_template_columns": null,
      "grid_template_rows": null,
      "height": null,
      "justify_content": null,
      "justify_items": null,
      "left": null,
      "margin": null,
      "max_height": null,
      "max_width": null,
      "min_height": null,
      "min_width": null,
      "object_fit": null,
      "object_position": null,
      "order": null,
      "overflow": null,
      "overflow_x": null,
      "overflow_y": null,
      "padding": null,
      "right": null,
      "top": null,
      "visibility": null,
      "width": null
     }
    },
    "4a466c51173144969b0b677a2a53b305": {
     "model_module": "@jupyter-widgets/controls",
     "model_module_version": "1.5.0",
     "model_name": "HBoxModel",
     "state": {
      "_dom_classes": [],
      "_model_module": "@jupyter-widgets/controls",
      "_model_module_version": "1.5.0",
      "_model_name": "HBoxModel",
      "_view_count": null,
      "_view_module": "@jupyter-widgets/controls",
      "_view_module_version": "1.5.0",
      "_view_name": "HBoxView",
      "box_style": "",
      "children": [
       "IPY_MODEL_3cd92c555ed94150987d17bcc4b19e23",
       "IPY_MODEL_f696345a102146e8a0cda5ca85169122",
       "IPY_MODEL_aa5a0b189c9a4a7cbfd454321a6451e9"
      ],
      "layout": "IPY_MODEL_7ff74f38ce1045b7942e7f6b37c124db"
     }
    },
    "4b1f6f6b5110408a9610adc7476fde8d": {
     "model_module": "@jupyter-widgets/base",
     "model_module_version": "1.2.0",
     "model_name": "LayoutModel",
     "state": {
      "_model_module": "@jupyter-widgets/base",
      "_model_module_version": "1.2.0",
      "_model_name": "LayoutModel",
      "_view_count": null,
      "_view_module": "@jupyter-widgets/base",
      "_view_module_version": "1.2.0",
      "_view_name": "LayoutView",
      "align_content": null,
      "align_items": null,
      "align_self": null,
      "border": null,
      "bottom": null,
      "display": null,
      "flex": null,
      "flex_flow": null,
      "grid_area": null,
      "grid_auto_columns": null,
      "grid_auto_flow": null,
      "grid_auto_rows": null,
      "grid_column": null,
      "grid_gap": null,
      "grid_row": null,
      "grid_template_areas": null,
      "grid_template_columns": null,
      "grid_template_rows": null,
      "height": null,
      "justify_content": null,
      "justify_items": null,
      "left": null,
      "margin": null,
      "max_height": null,
      "max_width": null,
      "min_height": null,
      "min_width": null,
      "object_fit": null,
      "object_position": null,
      "order": null,
      "overflow": null,
      "overflow_x": null,
      "overflow_y": null,
      "padding": null,
      "right": null,
      "top": null,
      "visibility": null,
      "width": null
     }
    },
    "4b5054c11d38445d92c10cd528a94f27": {
     "model_module": "@jupyter-widgets/base",
     "model_module_version": "1.2.0",
     "model_name": "LayoutModel",
     "state": {
      "_model_module": "@jupyter-widgets/base",
      "_model_module_version": "1.2.0",
      "_model_name": "LayoutModel",
      "_view_count": null,
      "_view_module": "@jupyter-widgets/base",
      "_view_module_version": "1.2.0",
      "_view_name": "LayoutView",
      "align_content": null,
      "align_items": null,
      "align_self": null,
      "border": null,
      "bottom": null,
      "display": null,
      "flex": null,
      "flex_flow": null,
      "grid_area": null,
      "grid_auto_columns": null,
      "grid_auto_flow": null,
      "grid_auto_rows": null,
      "grid_column": null,
      "grid_gap": null,
      "grid_row": null,
      "grid_template_areas": null,
      "grid_template_columns": null,
      "grid_template_rows": null,
      "height": null,
      "justify_content": null,
      "justify_items": null,
      "left": null,
      "margin": null,
      "max_height": null,
      "max_width": null,
      "min_height": null,
      "min_width": null,
      "object_fit": null,
      "object_position": null,
      "order": null,
      "overflow": null,
      "overflow_x": null,
      "overflow_y": null,
      "padding": null,
      "right": null,
      "top": null,
      "visibility": null,
      "width": null
     }
    },
    "5297101f195541ab9fcea7da3ac83d26": {
     "model_module": "@jupyter-widgets/base",
     "model_module_version": "1.2.0",
     "model_name": "LayoutModel",
     "state": {
      "_model_module": "@jupyter-widgets/base",
      "_model_module_version": "1.2.0",
      "_model_name": "LayoutModel",
      "_view_count": null,
      "_view_module": "@jupyter-widgets/base",
      "_view_module_version": "1.2.0",
      "_view_name": "LayoutView",
      "align_content": null,
      "align_items": null,
      "align_self": null,
      "border": null,
      "bottom": null,
      "display": null,
      "flex": null,
      "flex_flow": null,
      "grid_area": null,
      "grid_auto_columns": null,
      "grid_auto_flow": null,
      "grid_auto_rows": null,
      "grid_column": null,
      "grid_gap": null,
      "grid_row": null,
      "grid_template_areas": null,
      "grid_template_columns": null,
      "grid_template_rows": null,
      "height": null,
      "justify_content": null,
      "justify_items": null,
      "left": null,
      "margin": null,
      "max_height": null,
      "max_width": null,
      "min_height": null,
      "min_width": null,
      "object_fit": null,
      "object_position": null,
      "order": null,
      "overflow": null,
      "overflow_x": null,
      "overflow_y": null,
      "padding": null,
      "right": null,
      "top": null,
      "visibility": null,
      "width": null
     }
    },
    "53a1e2e2fade4ee69413d7138fa519fd": {
     "model_module": "@jupyter-widgets/controls",
     "model_module_version": "1.5.0",
     "model_name": "HTMLModel",
     "state": {
      "_dom_classes": [],
      "_model_module": "@jupyter-widgets/controls",
      "_model_module_version": "1.5.0",
      "_model_name": "HTMLModel",
      "_view_count": null,
      "_view_module": "@jupyter-widgets/controls",
      "_view_module_version": "1.5.0",
      "_view_name": "HTMLView",
      "description": "",
      "description_tooltip": null,
      "layout": "IPY_MODEL_78be7da4690948eaa3e621f41b82348e",
      "placeholder": "​",
      "style": "IPY_MODEL_7dcfcf2feddc4e7e9043520223beb629",
      "value": " 9.23G/9.23G [00:47&lt;00:00, 243MB/s]"
     }
    },
    "56272c9fd5374258a9e8979931248626": {
     "model_module": "@jupyter-widgets/controls",
     "model_module_version": "1.5.0",
     "model_name": "HTMLModel",
     "state": {
      "_dom_classes": [],
      "_model_module": "@jupyter-widgets/controls",
      "_model_module_version": "1.5.0",
      "_model_name": "HTMLModel",
      "_view_count": null,
      "_view_module": "@jupyter-widgets/controls",
      "_view_module_version": "1.5.0",
      "_view_name": "HTMLView",
      "description": "",
      "description_tooltip": null,
      "layout": "IPY_MODEL_9cd5fef9f1084e11b1139662df98182f",
      "placeholder": "​",
      "style": "IPY_MODEL_bedd558f0c6e43cdba90e1e20e9f9b55",
      "value": "config.json: 100%"
     }
    },
    "5ac1c0e73547454687e22fdddd6bb46c": {
     "model_module": "@jupyter-widgets/base",
     "model_module_version": "1.2.0",
     "model_name": "LayoutModel",
     "state": {
      "_model_module": "@jupyter-widgets/base",
      "_model_module_version": "1.2.0",
      "_model_name": "LayoutModel",
      "_view_count": null,
      "_view_module": "@jupyter-widgets/base",
      "_view_module_version": "1.2.0",
      "_view_name": "LayoutView",
      "align_content": null,
      "align_items": null,
      "align_self": null,
      "border": null,
      "bottom": null,
      "display": null,
      "flex": null,
      "flex_flow": null,
      "grid_area": null,
      "grid_auto_columns": null,
      "grid_auto_flow": null,
      "grid_auto_rows": null,
      "grid_column": null,
      "grid_gap": null,
      "grid_row": null,
      "grid_template_areas": null,
      "grid_template_columns": null,
      "grid_template_rows": null,
      "height": null,
      "justify_content": null,
      "justify_items": null,
      "left": null,
      "margin": null,
      "max_height": null,
      "max_width": null,
      "min_height": null,
      "min_width": null,
      "object_fit": null,
      "object_position": null,
      "order": null,
      "overflow": null,
      "overflow_x": null,
      "overflow_y": null,
      "padding": null,
      "right": null,
      "top": null,
      "visibility": null,
      "width": null
     }
    },
    "5c2b324c7b7243ec9e066824b1011d93": {
     "model_module": "@jupyter-widgets/base",
     "model_module_version": "1.2.0",
     "model_name": "LayoutModel",
     "state": {
      "_model_module": "@jupyter-widgets/base",
      "_model_module_version": "1.2.0",
      "_model_name": "LayoutModel",
      "_view_count": null,
      "_view_module": "@jupyter-widgets/base",
      "_view_module_version": "1.2.0",
      "_view_name": "LayoutView",
      "align_content": null,
      "align_items": null,
      "align_self": null,
      "border": null,
      "bottom": null,
      "display": null,
      "flex": null,
      "flex_flow": null,
      "grid_area": null,
      "grid_auto_columns": null,
      "grid_auto_flow": null,
      "grid_auto_rows": null,
      "grid_column": null,
      "grid_gap": null,
      "grid_row": null,
      "grid_template_areas": null,
      "grid_template_columns": null,
      "grid_template_rows": null,
      "height": null,
      "justify_content": null,
      "justify_items": null,
      "left": null,
      "margin": null,
      "max_height": null,
      "max_width": null,
      "min_height": null,
      "min_width": null,
      "object_fit": null,
      "object_position": null,
      "order": null,
      "overflow": null,
      "overflow_x": null,
      "overflow_y": null,
      "padding": null,
      "right": null,
      "top": null,
      "visibility": null,
      "width": null
     }
    },
    "5d84adbf008b4914b97abf8dc563b6bf": {
     "model_module": "@jupyter-widgets/controls",
     "model_module_version": "1.5.0",
     "model_name": "DescriptionStyleModel",
     "state": {
      "_model_module": "@jupyter-widgets/controls",
      "_model_module_version": "1.5.0",
      "_model_name": "DescriptionStyleModel",
      "_view_count": null,
      "_view_module": "@jupyter-widgets/base",
      "_view_module_version": "1.2.0",
      "_view_name": "StyleView",
      "description_width": ""
     }
    },
    "5e2c4462de1b48aea176d55f5e5868e0": {
     "model_module": "@jupyter-widgets/controls",
     "model_module_version": "1.5.0",
     "model_name": "FloatProgressModel",
     "state": {
      "_dom_classes": [],
      "_model_module": "@jupyter-widgets/controls",
      "_model_module_version": "1.5.0",
      "_model_name": "FloatProgressModel",
      "_view_count": null,
      "_view_module": "@jupyter-widgets/controls",
      "_view_module_version": "1.5.0",
      "_view_name": "ProgressView",
      "bar_style": "success",
      "description": "",
      "description_tooltip": null,
      "layout": "IPY_MODEL_4087e95e170d4c94991b67cd139f4d22",
      "max": 385,
      "min": 0,
      "orientation": "horizontal",
      "style": "IPY_MODEL_85b497d385444eb8957ce85073cfc58b",
      "value": 385
     }
    },
    "648a6710a03f459daecfc8235aa91b53": {
     "model_module": "@jupyter-widgets/controls",
     "model_module_version": "1.5.0",
     "model_name": "HTMLModel",
     "state": {
      "_dom_classes": [],
      "_model_module": "@jupyter-widgets/controls",
      "_model_module_version": "1.5.0",
      "_model_name": "HTMLModel",
      "_view_count": null,
      "_view_module": "@jupyter-widgets/controls",
      "_view_module_version": "1.5.0",
      "_view_name": "HTMLView",
      "description": "",
      "description_tooltip": null,
      "layout": "IPY_MODEL_94b69ef180814c688d783163bc8dff37",
      "placeholder": "​",
      "style": "IPY_MODEL_89b265c5298c4ee386036310d7f48f0f",
      "value": "model.safetensors: 100%"
     }
    },
    "654f73e4b10749b582225650b2a61721": {
     "model_module": "@jupyter-widgets/controls",
     "model_module_version": "1.5.0",
     "model_name": "HTMLModel",
     "state": {
      "_dom_classes": [],
      "_model_module": "@jupyter-widgets/controls",
      "_model_module_version": "1.5.0",
      "_model_name": "HTMLModel",
      "_view_count": null,
      "_view_module": "@jupyter-widgets/controls",
      "_view_module_version": "1.5.0",
      "_view_name": "HTMLView",
      "description": "",
      "description_tooltip": null,
      "layout": "IPY_MODEL_7bf89435ba4b42cbb8e316abde5f83c7",
      "placeholder": "​",
      "style": "IPY_MODEL_20c373ca69594d8291924c43f7320c22",
      "value": " 67.9k/67.9k [00:00&lt;00:00, 5.07MB/s]"
     }
    },
    "74f51faaf9b245b8a01179922f395550": {
     "model_module": "@jupyter-widgets/base",
     "model_module_version": "1.2.0",
     "model_name": "LayoutModel",
     "state": {
      "_model_module": "@jupyter-widgets/base",
      "_model_module_version": "1.2.0",
      "_model_name": "LayoutModel",
      "_view_count": null,
      "_view_module": "@jupyter-widgets/base",
      "_view_module_version": "1.2.0",
      "_view_name": "LayoutView",
      "align_content": null,
      "align_items": null,
      "align_self": null,
      "border": null,
      "bottom": null,
      "display": null,
      "flex": null,
      "flex_flow": null,
      "grid_area": null,
      "grid_auto_columns": null,
      "grid_auto_flow": null,
      "grid_auto_rows": null,
      "grid_column": null,
      "grid_gap": null,
      "grid_row": null,
      "grid_template_areas": null,
      "grid_template_columns": null,
      "grid_template_rows": null,
      "height": null,
      "justify_content": null,
      "justify_items": null,
      "left": null,
      "margin": null,
      "max_height": null,
      "max_width": null,
      "min_height": null,
      "min_width": null,
      "object_fit": null,
      "object_position": null,
      "order": null,
      "overflow": null,
      "overflow_x": null,
      "overflow_y": null,
      "padding": null,
      "right": null,
      "top": null,
      "visibility": null,
      "width": null
     }
    },
    "769e6980559048de93ff875336a7cc75": {
     "model_module": "@jupyter-widgets/base",
     "model_module_version": "1.2.0",
     "model_name": "LayoutModel",
     "state": {
      "_model_module": "@jupyter-widgets/base",
      "_model_module_version": "1.2.0",
      "_model_name": "LayoutModel",
      "_view_count": null,
      "_view_module": "@jupyter-widgets/base",
      "_view_module_version": "1.2.0",
      "_view_name": "LayoutView",
      "align_content": null,
      "align_items": null,
      "align_self": null,
      "border": null,
      "bottom": null,
      "display": null,
      "flex": null,
      "flex_flow": null,
      "grid_area": null,
      "grid_auto_columns": null,
      "grid_auto_flow": null,
      "grid_auto_rows": null,
      "grid_column": null,
      "grid_gap": null,
      "grid_row": null,
      "grid_template_areas": null,
      "grid_template_columns": null,
      "grid_template_rows": null,
      "height": null,
      "justify_content": null,
      "justify_items": null,
      "left": null,
      "margin": null,
      "max_height": null,
      "max_width": null,
      "min_height": null,
      "min_width": null,
      "object_fit": null,
      "object_position": null,
      "order": null,
      "overflow": null,
      "overflow_x": null,
      "overflow_y": null,
      "padding": null,
      "right": null,
      "top": null,
      "visibility": null,
      "width": null
     }
    },
    "76b121813bc5435bb9ec02756a3bbd81": {
     "model_module": "@jupyter-widgets/controls",
     "model_module_version": "1.5.0",
     "model_name": "FloatProgressModel",
     "state": {
      "_dom_classes": [],
      "_model_module": "@jupyter-widgets/controls",
      "_model_module_version": "1.5.0",
      "_model_name": "FloatProgressModel",
      "_view_count": null,
      "_view_module": "@jupyter-widgets/controls",
      "_view_module_version": "1.5.0",
      "_view_name": "ProgressView",
      "bar_style": "success",
      "description": "",
      "description_tooltip": null,
      "layout": "IPY_MODEL_9ba9f72f9f734259aa2bdc3f5cb42079",
      "max": 191,
      "min": 0,
      "orientation": "horizontal",
      "style": "IPY_MODEL_9edf3c73890c4f7193d4dad79cbd25dd",
      "value": 191
     }
    },
    "78be7da4690948eaa3e621f41b82348e": {
     "model_module": "@jupyter-widgets/base",
     "model_module_version": "1.2.0",
     "model_name": "LayoutModel",
     "state": {
      "_model_module": "@jupyter-widgets/base",
      "_model_module_version": "1.2.0",
      "_model_name": "LayoutModel",
      "_view_count": null,
      "_view_module": "@jupyter-widgets/base",
      "_view_module_version": "1.2.0",
      "_view_name": "LayoutView",
      "align_content": null,
      "align_items": null,
      "align_self": null,
      "border": null,
      "bottom": null,
      "display": null,
      "flex": null,
      "flex_flow": null,
      "grid_area": null,
      "grid_auto_columns": null,
      "grid_auto_flow": null,
      "grid_auto_rows": null,
      "grid_column": null,
      "grid_gap": null,
      "grid_row": null,
      "grid_template_areas": null,
      "grid_template_columns": null,
      "grid_template_rows": null,
      "height": null,
      "justify_content": null,
      "justify_items": null,
      "left": null,
      "margin": null,
      "max_height": null,
      "max_width": null,
      "min_height": null,
      "min_width": null,
      "object_fit": null,
      "object_position": null,
      "order": null,
      "overflow": null,
      "overflow_x": null,
      "overflow_y": null,
      "padding": null,
      "right": null,
      "top": null,
      "visibility": null,
      "width": null
     }
    },
    "793e26789843487da8de5198d2b55022": {
     "model_module": "@jupyter-widgets/controls",
     "model_module_version": "1.5.0",
     "model_name": "HTMLModel",
     "state": {
      "_dom_classes": [],
      "_model_module": "@jupyter-widgets/controls",
      "_model_module_version": "1.5.0",
      "_model_name": "HTMLModel",
      "_view_count": null,
      "_view_module": "@jupyter-widgets/controls",
      "_view_module_version": "1.5.0",
      "_view_name": "HTMLView",
      "description": "",
      "description_tooltip": null,
      "layout": "IPY_MODEL_27a3f5bee927464b92d80c36175c5e17",
      "placeholder": "​",
      "style": "IPY_MODEL_ecad915aaf554d1cb4ff3b8c7d9d1c4f",
      "value": "tokenizer.json: 100%"
     }
    },
    "7bf89435ba4b42cbb8e316abde5f83c7": {
     "model_module": "@jupyter-widgets/base",
     "model_module_version": "1.2.0",
     "model_name": "LayoutModel",
     "state": {
      "_model_module": "@jupyter-widgets/base",
      "_model_module_version": "1.2.0",
      "_model_name": "LayoutModel",
      "_view_count": null,
      "_view_module": "@jupyter-widgets/base",
      "_view_module_version": "1.2.0",
      "_view_name": "LayoutView",
      "align_content": null,
      "align_items": null,
      "align_self": null,
      "border": null,
      "bottom": null,
      "display": null,
      "flex": null,
      "flex_flow": null,
      "grid_area": null,
      "grid_auto_columns": null,
      "grid_auto_flow": null,
      "grid_auto_rows": null,
      "grid_column": null,
      "grid_gap": null,
      "grid_row": null,
      "grid_template_areas": null,
      "grid_template_columns": null,
      "grid_template_rows": null,
      "height": null,
      "justify_content": null,
      "justify_items": null,
      "left": null,
      "margin": null,
      "max_height": null,
      "max_width": null,
      "min_height": null,
      "min_width": null,
      "object_fit": null,
      "object_position": null,
      "order": null,
      "overflow": null,
      "overflow_x": null,
      "overflow_y": null,
      "padding": null,
      "right": null,
      "top": null,
      "visibility": null,
      "width": null
     }
    },
    "7dcfcf2feddc4e7e9043520223beb629": {
     "model_module": "@jupyter-widgets/controls",
     "model_module_version": "1.5.0",
     "model_name": "DescriptionStyleModel",
     "state": {
      "_model_module": "@jupyter-widgets/controls",
      "_model_module_version": "1.5.0",
      "_model_name": "DescriptionStyleModel",
      "_view_count": null,
      "_view_module": "@jupyter-widgets/base",
      "_view_module_version": "1.2.0",
      "_view_name": "StyleView",
      "description_width": ""
     }
    },
    "7ff74f38ce1045b7942e7f6b37c124db": {
     "model_module": "@jupyter-widgets/base",
     "model_module_version": "1.2.0",
     "model_name": "LayoutModel",
     "state": {
      "_model_module": "@jupyter-widgets/base",
      "_model_module_version": "1.2.0",
      "_model_name": "LayoutModel",
      "_view_count": null,
      "_view_module": "@jupyter-widgets/base",
      "_view_module_version": "1.2.0",
      "_view_name": "LayoutView",
      "align_content": null,
      "align_items": null,
      "align_self": null,
      "border": null,
      "bottom": null,
      "display": null,
      "flex": null,
      "flex_flow": null,
      "grid_area": null,
      "grid_auto_columns": null,
      "grid_auto_flow": null,
      "grid_auto_rows": null,
      "grid_column": null,
      "grid_gap": null,
      "grid_row": null,
      "grid_template_areas": null,
      "grid_template_columns": null,
      "grid_template_rows": null,
      "height": null,
      "justify_content": null,
      "justify_items": null,
      "left": null,
      "margin": null,
      "max_height": null,
      "max_width": null,
      "min_height": null,
      "min_width": null,
      "object_fit": null,
      "object_position": null,
      "order": null,
      "overflow": null,
      "overflow_x": null,
      "overflow_y": null,
      "padding": null,
      "right": null,
      "top": null,
      "visibility": null,
      "width": null
     }
    },
    "83438c1140ed4ed8bff76887565a2706": {
     "model_module": "@jupyter-widgets/controls",
     "model_module_version": "1.5.0",
     "model_name": "HBoxModel",
     "state": {
      "_dom_classes": [],
      "_model_module": "@jupyter-widgets/controls",
      "_model_module_version": "1.5.0",
      "_model_name": "HBoxModel",
      "_view_count": null,
      "_view_module": "@jupyter-widgets/controls",
      "_view_module_version": "1.5.0",
      "_view_name": "HBoxView",
      "box_style": "",
      "children": [
       "IPY_MODEL_c9dfb1bfd5e6439d8cbbd0dfe7daa5b7",
       "IPY_MODEL_5e2c4462de1b48aea176d55f5e5868e0",
       "IPY_MODEL_e8333a3d1ea9427e966f3f183677d664"
      ],
      "layout": "IPY_MODEL_1b84df8f83b5454eb8798aed144e0960"
     }
    },
    "858d344985d04698a444685205320e90": {
     "model_module": "@jupyter-widgets/controls",
     "model_module_version": "1.5.0",
     "model_name": "DescriptionStyleModel",
     "state": {
      "_model_module": "@jupyter-widgets/controls",
      "_model_module_version": "1.5.0",
      "_model_name": "DescriptionStyleModel",
      "_view_count": null,
      "_view_module": "@jupyter-widgets/base",
      "_view_module_version": "1.2.0",
      "_view_name": "StyleView",
      "description_width": ""
     }
    },
    "85a18eccb300479bbd2b63aec4030ce8": {
     "model_module": "@jupyter-widgets/base",
     "model_module_version": "1.2.0",
     "model_name": "LayoutModel",
     "state": {
      "_model_module": "@jupyter-widgets/base",
      "_model_module_version": "1.2.0",
      "_model_name": "LayoutModel",
      "_view_count": null,
      "_view_module": "@jupyter-widgets/base",
      "_view_module_version": "1.2.0",
      "_view_name": "LayoutView",
      "align_content": null,
      "align_items": null,
      "align_self": null,
      "border": null,
      "bottom": null,
      "display": null,
      "flex": null,
      "flex_flow": null,
      "grid_area": null,
      "grid_auto_columns": null,
      "grid_auto_flow": null,
      "grid_auto_rows": null,
      "grid_column": null,
      "grid_gap": null,
      "grid_row": null,
      "grid_template_areas": null,
      "grid_template_columns": null,
      "grid_template_rows": null,
      "height": null,
      "justify_content": null,
      "justify_items": null,
      "left": null,
      "margin": null,
      "max_height": null,
      "max_width": null,
      "min_height": null,
      "min_width": null,
      "object_fit": null,
      "object_position": null,
      "order": null,
      "overflow": null,
      "overflow_x": null,
      "overflow_y": null,
      "padding": null,
      "right": null,
      "top": null,
      "visibility": null,
      "width": null
     }
    },
    "85b497d385444eb8957ce85073cfc58b": {
     "model_module": "@jupyter-widgets/controls",
     "model_module_version": "1.5.0",
     "model_name": "ProgressStyleModel",
     "state": {
      "_model_module": "@jupyter-widgets/controls",
      "_model_module_version": "1.5.0",
      "_model_name": "ProgressStyleModel",
      "_view_count": null,
      "_view_module": "@jupyter-widgets/base",
      "_view_module_version": "1.2.0",
      "_view_name": "StyleView",
      "bar_color": null,
      "description_width": ""
     }
    },
    "85f991294e11451ca958b0d991edfc9b": {
     "model_module": "@jupyter-widgets/controls",
     "model_module_version": "1.5.0",
     "model_name": "HTMLModel",
     "state": {
      "_dom_classes": [],
      "_model_module": "@jupyter-widgets/controls",
      "_model_module_version": "1.5.0",
      "_model_name": "HTMLModel",
      "_view_count": null,
      "_view_module": "@jupyter-widgets/controls",
      "_view_module_version": "1.5.0",
      "_view_name": "HTMLView",
      "description": "",
      "description_tooltip": null,
      "layout": "IPY_MODEL_d19e566ae68c4e459eb444bb353580f4",
      "placeholder": "​",
      "style": "IPY_MODEL_aa27a5f7526746368e477e4782fa6a80",
      "value": " 232k/232k [00:00&lt;00:00, 15.3MB/s]"
     }
    },
    "89b265c5298c4ee386036310d7f48f0f": {
     "model_module": "@jupyter-widgets/controls",
     "model_module_version": "1.5.0",
     "model_name": "DescriptionStyleModel",
     "state": {
      "_model_module": "@jupyter-widgets/controls",
      "_model_module_version": "1.5.0",
      "_model_name": "DescriptionStyleModel",
      "_view_count": null,
      "_view_module": "@jupyter-widgets/base",
      "_view_module_version": "1.2.0",
      "_view_name": "StyleView",
      "description_width": ""
     }
    },
    "8bb2f6f420ef4fc29c9491b7a05a8e21": {
     "model_module": "@jupyter-widgets/base",
     "model_module_version": "1.2.0",
     "model_name": "LayoutModel",
     "state": {
      "_model_module": "@jupyter-widgets/base",
      "_model_module_version": "1.2.0",
      "_model_name": "LayoutModel",
      "_view_count": null,
      "_view_module": "@jupyter-widgets/base",
      "_view_module_version": "1.2.0",
      "_view_name": "LayoutView",
      "align_content": null,
      "align_items": null,
      "align_self": null,
      "border": null,
      "bottom": null,
      "display": null,
      "flex": null,
      "flex_flow": null,
      "grid_area": null,
      "grid_auto_columns": null,
      "grid_auto_flow": null,
      "grid_auto_rows": null,
      "grid_column": null,
      "grid_gap": null,
      "grid_row": null,
      "grid_template_areas": null,
      "grid_template_columns": null,
      "grid_template_rows": null,
      "height": null,
      "justify_content": null,
      "justify_items": null,
      "left": null,
      "margin": null,
      "max_height": null,
      "max_width": null,
      "min_height": null,
      "min_width": null,
      "object_fit": null,
      "object_position": null,
      "order": null,
      "overflow": null,
      "overflow_x": null,
      "overflow_y": null,
      "padding": null,
      "right": null,
      "top": null,
      "visibility": null,
      "width": null
     }
    },
    "8c0db141c2aa4a268068976dd921f371": {
     "model_module": "@jupyter-widgets/controls",
     "model_module_version": "1.5.0",
     "model_name": "DescriptionStyleModel",
     "state": {
      "_model_module": "@jupyter-widgets/controls",
      "_model_module_version": "1.5.0",
      "_model_name": "DescriptionStyleModel",
      "_view_count": null,
      "_view_module": "@jupyter-widgets/base",
      "_view_module_version": "1.2.0",
      "_view_name": "StyleView",
      "description_width": ""
     }
    },
    "8c5fcfab31e4442cbbd2e0d48e4fa859": {
     "model_module": "@jupyter-widgets/controls",
     "model_module_version": "1.5.0",
     "model_name": "HBoxModel",
     "state": {
      "_dom_classes": [],
      "_model_module": "@jupyter-widgets/controls",
      "_model_module_version": "1.5.0",
      "_model_name": "HBoxModel",
      "_view_count": null,
      "_view_module": "@jupyter-widgets/controls",
      "_view_module_version": "1.5.0",
      "_view_name": "HBoxView",
      "box_style": "",
      "children": [
       "IPY_MODEL_648a6710a03f459daecfc8235aa91b53",
       "IPY_MODEL_d8e034403ba8438282f090df724ed94c",
       "IPY_MODEL_af47e14bda814d2dab75809072d6e825"
      ],
      "layout": "IPY_MODEL_f27472391df74c6bb2db10f683aceadb"
     }
    },
    "9162145776034898bc070b1a6b76db52": {
     "model_module": "@jupyter-widgets/base",
     "model_module_version": "1.2.0",
     "model_name": "LayoutModel",
     "state": {
      "_model_module": "@jupyter-widgets/base",
      "_model_module_version": "1.2.0",
      "_model_name": "LayoutModel",
      "_view_count": null,
      "_view_module": "@jupyter-widgets/base",
      "_view_module_version": "1.2.0",
      "_view_name": "LayoutView",
      "align_content": null,
      "align_items": null,
      "align_self": null,
      "border": null,
      "bottom": null,
      "display": null,
      "flex": null,
      "flex_flow": null,
      "grid_area": null,
      "grid_auto_columns": null,
      "grid_auto_flow": null,
      "grid_auto_rows": null,
      "grid_column": null,
      "grid_gap": null,
      "grid_row": null,
      "grid_template_areas": null,
      "grid_template_columns": null,
      "grid_template_rows": null,
      "height": null,
      "justify_content": null,
      "justify_items": null,
      "left": null,
      "margin": null,
      "max_height": null,
      "max_width": null,
      "min_height": null,
      "min_width": null,
      "object_fit": null,
      "object_position": null,
      "order": null,
      "overflow": null,
      "overflow_x": null,
      "overflow_y": null,
      "padding": null,
      "right": null,
      "top": null,
      "visibility": null,
      "width": null
     }
    },
    "933efae9dad64d69947d7f3b00685e81": {
     "model_module": "@jupyter-widgets/controls",
     "model_module_version": "1.5.0",
     "model_name": "ProgressStyleModel",
     "state": {
      "_model_module": "@jupyter-widgets/controls",
      "_model_module_version": "1.5.0",
      "_model_name": "ProgressStyleModel",
      "_view_count": null,
      "_view_module": "@jupyter-widgets/base",
      "_view_module_version": "1.2.0",
      "_view_name": "StyleView",
      "bar_color": null,
      "description_width": ""
     }
    },
    "94b69ef180814c688d783163bc8dff37": {
     "model_module": "@jupyter-widgets/base",
     "model_module_version": "1.2.0",
     "model_name": "LayoutModel",
     "state": {
      "_model_module": "@jupyter-widgets/base",
      "_model_module_version": "1.2.0",
      "_model_name": "LayoutModel",
      "_view_count": null,
      "_view_module": "@jupyter-widgets/base",
      "_view_module_version": "1.2.0",
      "_view_name": "LayoutView",
      "align_content": null,
      "align_items": null,
      "align_self": null,
      "border": null,
      "bottom": null,
      "display": null,
      "flex": null,
      "flex_flow": null,
      "grid_area": null,
      "grid_auto_columns": null,
      "grid_auto_flow": null,
      "grid_auto_rows": null,
      "grid_column": null,
      "grid_gap": null,
      "grid_row": null,
      "grid_template_areas": null,
      "grid_template_columns": null,
      "grid_template_rows": null,
      "height": null,
      "justify_content": null,
      "justify_items": null,
      "left": null,
      "margin": null,
      "max_height": null,
      "max_width": null,
      "min_height": null,
      "min_width": null,
      "object_fit": null,
      "object_position": null,
      "order": null,
      "overflow": null,
      "overflow_x": null,
      "overflow_y": null,
      "padding": null,
      "right": null,
      "top": null,
      "visibility": null,
      "width": null
     }
    },
    "95309112f38c4006a5ef380c775b9a28": {
     "model_module": "@jupyter-widgets/controls",
     "model_module_version": "1.5.0",
     "model_name": "DescriptionStyleModel",
     "state": {
      "_model_module": "@jupyter-widgets/controls",
      "_model_module_version": "1.5.0",
      "_model_name": "DescriptionStyleModel",
      "_view_count": null,
      "_view_module": "@jupyter-widgets/base",
      "_view_module_version": "1.2.0",
      "_view_name": "StyleView",
      "description_width": ""
     }
    },
    "99b9b37dba184de9a0a8d410f43de50c": {
     "model_module": "@jupyter-widgets/controls",
     "model_module_version": "1.5.0",
     "model_name": "HBoxModel",
     "state": {
      "_dom_classes": [],
      "_model_module": "@jupyter-widgets/controls",
      "_model_module_version": "1.5.0",
      "_model_name": "HBoxModel",
      "_view_count": null,
      "_view_module": "@jupyter-widgets/controls",
      "_view_module_version": "1.5.0",
      "_view_name": "HBoxView",
      "box_style": "",
      "children": [
       "IPY_MODEL_c510b1d83383430989019a2569b4191d",
       "IPY_MODEL_adf6730eac1e47b7acee221ef4e9c979",
       "IPY_MODEL_f9e76a9c384e48159c586d9791bfbbc2"
      ],
      "layout": "IPY_MODEL_4a38b39c17994f21ba2fd2f842a2d04d"
     }
    },
    "9ba9f72f9f734259aa2bdc3f5cb42079": {
     "model_module": "@jupyter-widgets/base",
     "model_module_version": "1.2.0",
     "model_name": "LayoutModel",
     "state": {
      "_model_module": "@jupyter-widgets/base",
      "_model_module_version": "1.2.0",
      "_model_name": "LayoutModel",
      "_view_count": null,
      "_view_module": "@jupyter-widgets/base",
      "_view_module_version": "1.2.0",
      "_view_name": "LayoutView",
      "align_content": null,
      "align_items": null,
      "align_self": null,
      "border": null,
      "bottom": null,
      "display": null,
      "flex": null,
      "flex_flow": null,
      "grid_area": null,
      "grid_auto_columns": null,
      "grid_auto_flow": null,
      "grid_auto_rows": null,
      "grid_column": null,
      "grid_gap": null,
      "grid_row": null,
      "grid_template_areas": null,
      "grid_template_columns": null,
      "grid_template_rows": null,
      "height": null,
      "justify_content": null,
      "justify_items": null,
      "left": null,
      "margin": null,
      "max_height": null,
      "max_width": null,
      "min_height": null,
      "min_width": null,
      "object_fit": null,
      "object_position": null,
      "order": null,
      "overflow": null,
      "overflow_x": null,
      "overflow_y": null,
      "padding": null,
      "right": null,
      "top": null,
      "visibility": null,
      "width": null
     }
    },
    "9cd5fef9f1084e11b1139662df98182f": {
     "model_module": "@jupyter-widgets/base",
     "model_module_version": "1.2.0",
     "model_name": "LayoutModel",
     "state": {
      "_model_module": "@jupyter-widgets/base",
      "_model_module_version": "1.2.0",
      "_model_name": "LayoutModel",
      "_view_count": null,
      "_view_module": "@jupyter-widgets/base",
      "_view_module_version": "1.2.0",
      "_view_name": "LayoutView",
      "align_content": null,
      "align_items": null,
      "align_self": null,
      "border": null,
      "bottom": null,
      "display": null,
      "flex": null,
      "flex_flow": null,
      "grid_area": null,
      "grid_auto_columns": null,
      "grid_auto_flow": null,
      "grid_auto_rows": null,
      "grid_column": null,
      "grid_gap": null,
      "grid_row": null,
      "grid_template_areas": null,
      "grid_template_columns": null,
      "grid_template_rows": null,
      "height": null,
      "justify_content": null,
      "justify_items": null,
      "left": null,
      "margin": null,
      "max_height": null,
      "max_width": null,
      "min_height": null,
      "min_width": null,
      "object_fit": null,
      "object_position": null,
      "order": null,
      "overflow": null,
      "overflow_x": null,
      "overflow_y": null,
      "padding": null,
      "right": null,
      "top": null,
      "visibility": null,
      "width": null
     }
    },
    "9edf3c73890c4f7193d4dad79cbd25dd": {
     "model_module": "@jupyter-widgets/controls",
     "model_module_version": "1.5.0",
     "model_name": "ProgressStyleModel",
     "state": {
      "_model_module": "@jupyter-widgets/controls",
      "_model_module_version": "1.5.0",
      "_model_name": "ProgressStyleModel",
      "_view_count": null,
      "_view_module": "@jupyter-widgets/base",
      "_view_module_version": "1.2.0",
      "_view_name": "StyleView",
      "bar_color": null,
      "description_width": ""
     }
    },
    "a122a169cbae40a5ab7cf0df02492280": {
     "model_module": "@jupyter-widgets/controls",
     "model_module_version": "1.5.0",
     "model_name": "FloatProgressModel",
     "state": {
      "_dom_classes": [],
      "_model_module": "@jupyter-widgets/controls",
      "_model_module_version": "1.5.0",
      "_model_name": "FloatProgressModel",
      "_view_count": null,
      "_view_module": "@jupyter-widgets/controls",
      "_view_module_version": "1.5.0",
      "_view_name": "ProgressView",
      "bar_style": "success",
      "description": "",
      "description_tooltip": null,
      "layout": "IPY_MODEL_9162145776034898bc070b1a6b76db52",
      "max": 67863,
      "min": 0,
      "orientation": "horizontal",
      "style": "IPY_MODEL_c76e356aabcf40dbbde94cad568ce3c2",
      "value": 67863
     }
    },
    "a30538644e8c4e3bbaac7bfa55281b4e": {
     "model_module": "@jupyter-widgets/controls",
     "model_module_version": "1.5.0",
     "model_name": "HTMLModel",
     "state": {
      "_dom_classes": [],
      "_model_module": "@jupyter-widgets/controls",
      "_model_module_version": "1.5.0",
      "_model_name": "HTMLModel",
      "_view_count": null,
      "_view_module": "@jupyter-widgets/controls",
      "_view_module_version": "1.5.0",
      "_view_name": "HTMLView",
      "description": "",
      "description_tooltip": null,
      "layout": "IPY_MODEL_49aa96c7b93b48be8d2a86acb2f5a869",
      "placeholder": "​",
      "style": "IPY_MODEL_3a299ed1cb5f4b439773c815eaae0ee8",
      "value": "llama-2-13b-chat.Q5_K_M.gguf: 100%"
     }
    },
    "a3802b90a9a942b887dc13980c4e9e41": {
     "model_module": "@jupyter-widgets/controls",
     "model_module_version": "1.5.0",
     "model_name": "HTMLModel",
     "state": {
      "_dom_classes": [],
      "_model_module": "@jupyter-widgets/controls",
      "_model_module_version": "1.5.0",
      "_model_name": "HTMLModel",
      "_view_count": null,
      "_view_module": "@jupyter-widgets/controls",
      "_view_module_version": "1.5.0",
      "_view_name": "HTMLView",
      "description": "",
      "description_tooltip": null,
      "layout": "IPY_MODEL_ca53f1531a144b3482bc7a134e1bc84a",
      "placeholder": "​",
      "style": "IPY_MODEL_09a2cfe7bfc24765bb0d865d76732e5f",
      "value": " 191/191 [00:00&lt;00:00, 19.2kB/s]"
     }
    },
    "a3cf58d30e6e43bb8a6b0b6d542ebea6": {
     "model_module": "@jupyter-widgets/controls",
     "model_module_version": "1.5.0",
     "model_name": "HTMLModel",
     "state": {
      "_dom_classes": [],
      "_model_module": "@jupyter-widgets/controls",
      "_model_module_version": "1.5.0",
      "_model_name": "HTMLModel",
      "_view_count": null,
      "_view_module": "@jupyter-widgets/controls",
      "_view_module_version": "1.5.0",
      "_view_name": "HTMLView",
      "description": "",
      "description_tooltip": null,
      "layout": "IPY_MODEL_11e259ff019a447fa8a1e2978c5dd18c",
      "placeholder": "​",
      "style": "IPY_MODEL_2a41d78fc393417eadb2c347ec6a7ec7",
      "value": " 619/619 [00:00&lt;00:00, 61.9kB/s]"
     }
    },
    "a40d0e73464544f09c95ba1fee88092e": {
     "model_module": "@jupyter-widgets/base",
     "model_module_version": "1.2.0",
     "model_name": "LayoutModel",
     "state": {
      "_model_module": "@jupyter-widgets/base",
      "_model_module_version": "1.2.0",
      "_model_name": "LayoutModel",
      "_view_count": null,
      "_view_module": "@jupyter-widgets/base",
      "_view_module_version": "1.2.0",
      "_view_name": "LayoutView",
      "align_content": null,
      "align_items": null,
      "align_self": null,
      "border": null,
      "bottom": null,
      "display": null,
      "flex": null,
      "flex_flow": null,
      "grid_area": null,
      "grid_auto_columns": null,
      "grid_auto_flow": null,
      "grid_auto_rows": null,
      "grid_column": null,
      "grid_gap": null,
      "grid_row": null,
      "grid_template_areas": null,
      "grid_template_columns": null,
      "grid_template_rows": null,
      "height": null,
      "justify_content": null,
      "justify_items": null,
      "left": null,
      "margin": null,
      "max_height": null,
      "max_width": null,
      "min_height": null,
      "min_width": null,
      "object_fit": null,
      "object_position": null,
      "order": null,
      "overflow": null,
      "overflow_x": null,
      "overflow_y": null,
      "padding": null,
      "right": null,
      "top": null,
      "visibility": null,
      "width": null
     }
    },
    "aa27a5f7526746368e477e4782fa6a80": {
     "model_module": "@jupyter-widgets/controls",
     "model_module_version": "1.5.0",
     "model_name": "DescriptionStyleModel",
     "state": {
      "_model_module": "@jupyter-widgets/controls",
      "_model_module_version": "1.5.0",
      "_model_name": "DescriptionStyleModel",
      "_view_count": null,
      "_view_module": "@jupyter-widgets/base",
      "_view_module_version": "1.2.0",
      "_view_name": "StyleView",
      "description_width": ""
     }
    },
    "aa5a0b189c9a4a7cbfd454321a6451e9": {
     "model_module": "@jupyter-widgets/controls",
     "model_module_version": "1.5.0",
     "model_name": "HTMLModel",
     "state": {
      "_dom_classes": [],
      "_model_module": "@jupyter-widgets/controls",
      "_model_module_version": "1.5.0",
      "_model_name": "HTMLModel",
      "_view_count": null,
      "_view_module": "@jupyter-widgets/controls",
      "_view_module_version": "1.5.0",
      "_view_name": "HTMLView",
      "description": "",
      "description_tooltip": null,
      "layout": "IPY_MODEL_1e2044b83aed46cfb9ae2806eb9761ab",
      "placeholder": "​",
      "style": "IPY_MODEL_e5a2385822d943f186fc0622206019d8",
      "value": " 342/342 [00:00&lt;00:00, 17.7kB/s]"
     }
    },
    "aa95a70844ac47c8aa5ef71848426556": {
     "model_module": "@jupyter-widgets/base",
     "model_module_version": "1.2.0",
     "model_name": "LayoutModel",
     "state": {
      "_model_module": "@jupyter-widgets/base",
      "_model_module_version": "1.2.0",
      "_model_name": "LayoutModel",
      "_view_count": null,
      "_view_module": "@jupyter-widgets/base",
      "_view_module_version": "1.2.0",
      "_view_name": "LayoutView",
      "align_content": null,
      "align_items": null,
      "align_self": null,
      "border": null,
      "bottom": null,
      "display": null,
      "flex": null,
      "flex_flow": null,
      "grid_area": null,
      "grid_auto_columns": null,
      "grid_auto_flow": null,
      "grid_auto_rows": null,
      "grid_column": null,
      "grid_gap": null,
      "grid_row": null,
      "grid_template_areas": null,
      "grid_template_columns": null,
      "grid_template_rows": null,
      "height": null,
      "justify_content": null,
      "justify_items": null,
      "left": null,
      "margin": null,
      "max_height": null,
      "max_width": null,
      "min_height": null,
      "min_width": null,
      "object_fit": null,
      "object_position": null,
      "order": null,
      "overflow": null,
      "overflow_x": null,
      "overflow_y": null,
      "padding": null,
      "right": null,
      "top": null,
      "visibility": null,
      "width": null
     }
    },
    "ac6c7275535b4e20be6298bf7e4fcc4d": {
     "model_module": "@jupyter-widgets/controls",
     "model_module_version": "1.5.0",
     "model_name": "ProgressStyleModel",
     "state": {
      "_model_module": "@jupyter-widgets/controls",
      "_model_module_version": "1.5.0",
      "_model_name": "ProgressStyleModel",
      "_view_count": null,
      "_view_module": "@jupyter-widgets/base",
      "_view_module_version": "1.2.0",
      "_view_name": "StyleView",
      "bar_color": null,
      "description_width": ""
     }
    },
    "adf6730eac1e47b7acee221ef4e9c979": {
     "model_module": "@jupyter-widgets/controls",
     "model_module_version": "1.5.0",
     "model_name": "FloatProgressModel",
     "state": {
      "_dom_classes": [],
      "_model_module": "@jupyter-widgets/controls",
      "_model_module_version": "1.5.0",
      "_model_name": "FloatProgressModel",
      "_view_count": null,
      "_view_module": "@jupyter-widgets/controls",
      "_view_module_version": "1.5.0",
      "_view_name": "ProgressView",
      "bar_style": "success",
      "description": "",
      "description_tooltip": null,
      "layout": "IPY_MODEL_5c2b324c7b7243ec9e066824b1011d93",
      "max": 125,
      "min": 0,
      "orientation": "horizontal",
      "style": "IPY_MODEL_00aff4103e5b403c8a162a5400b90210",
      "value": 125
     }
    },
    "ae36840f453842f99b03525bfa8655f8": {
     "model_module": "@jupyter-widgets/base",
     "model_module_version": "1.2.0",
     "model_name": "LayoutModel",
     "state": {
      "_model_module": "@jupyter-widgets/base",
      "_model_module_version": "1.2.0",
      "_model_name": "LayoutModel",
      "_view_count": null,
      "_view_module": "@jupyter-widgets/base",
      "_view_module_version": "1.2.0",
      "_view_name": "LayoutView",
      "align_content": null,
      "align_items": null,
      "align_self": null,
      "border": null,
      "bottom": null,
      "display": null,
      "flex": null,
      "flex_flow": null,
      "grid_area": null,
      "grid_auto_columns": null,
      "grid_auto_flow": null,
      "grid_auto_rows": null,
      "grid_column": null,
      "grid_gap": null,
      "grid_row": null,
      "grid_template_areas": null,
      "grid_template_columns": null,
      "grid_template_rows": null,
      "height": null,
      "justify_content": null,
      "justify_items": null,
      "left": null,
      "margin": null,
      "max_height": null,
      "max_width": null,
      "min_height": null,
      "min_width": null,
      "object_fit": null,
      "object_position": null,
      "order": null,
      "overflow": null,
      "overflow_x": null,
      "overflow_y": null,
      "padding": null,
      "right": null,
      "top": null,
      "visibility": null,
      "width": null
     }
    },
    "af47e14bda814d2dab75809072d6e825": {
     "model_module": "@jupyter-widgets/controls",
     "model_module_version": "1.5.0",
     "model_name": "HTMLModel",
     "state": {
      "_dom_classes": [],
      "_model_module": "@jupyter-widgets/controls",
      "_model_module_version": "1.5.0",
      "_model_name": "HTMLModel",
      "_view_count": null,
      "_view_module": "@jupyter-widgets/controls",
      "_view_module_version": "1.5.0",
      "_view_name": "HTMLView",
      "description": "",
      "description_tooltip": null,
      "layout": "IPY_MODEL_4b1f6f6b5110408a9610adc7476fde8d",
      "placeholder": "​",
      "style": "IPY_MODEL_13068d350e144b91bb973bff64d0887d",
      "value": " 670M/670M [00:02&lt;00:00, 162MB/s]"
     }
    },
    "b0c3fa2bd2a34f86abe8adfecbcfc3f3": {
     "model_module": "@jupyter-widgets/controls",
     "model_module_version": "1.5.0",
     "model_name": "HTMLModel",
     "state": {
      "_dom_classes": [],
      "_model_module": "@jupyter-widgets/controls",
      "_model_module_version": "1.5.0",
      "_model_name": "HTMLModel",
      "_view_count": null,
      "_view_module": "@jupyter-widgets/controls",
      "_view_module_version": "1.5.0",
      "_view_name": "HTMLView",
      "description": "",
      "description_tooltip": null,
      "layout": "IPY_MODEL_769e6980559048de93ff875336a7cc75",
      "placeholder": "​",
      "style": "IPY_MODEL_28cbde84a5594b48a757eac6fb000f07",
      "value": "sentence_bert_config.json: 100%"
     }
    },
    "b0ebca9c30cc42d8920f651f62365cc8": {
     "model_module": "@jupyter-widgets/controls",
     "model_module_version": "1.5.0",
     "model_name": "HBoxModel",
     "state": {
      "_dom_classes": [],
      "_model_module": "@jupyter-widgets/controls",
      "_model_module_version": "1.5.0",
      "_model_name": "HBoxModel",
      "_view_count": null,
      "_view_module": "@jupyter-widgets/controls",
      "_view_module_version": "1.5.0",
      "_view_name": "HBoxView",
      "box_style": "",
      "children": [
       "IPY_MODEL_d757281c2c774ba59d4856597de73e20",
       "IPY_MODEL_a122a169cbae40a5ab7cf0df02492280",
       "IPY_MODEL_654f73e4b10749b582225650b2a61721"
      ],
      "layout": "IPY_MODEL_d43b32cd00ff495a9c82c12151d52c22"
     }
    },
    "b44409d6c2354d07a55611748f62f100": {
     "model_module": "@jupyter-widgets/controls",
     "model_module_version": "1.5.0",
     "model_name": "DescriptionStyleModel",
     "state": {
      "_model_module": "@jupyter-widgets/controls",
      "_model_module_version": "1.5.0",
      "_model_name": "DescriptionStyleModel",
      "_view_count": null,
      "_view_module": "@jupyter-widgets/base",
      "_view_module_version": "1.2.0",
      "_view_name": "StyleView",
      "description_width": ""
     }
    },
    "b4b415d925454db5847a78515f118a76": {
     "model_module": "@jupyter-widgets/base",
     "model_module_version": "1.2.0",
     "model_name": "LayoutModel",
     "state": {
      "_model_module": "@jupyter-widgets/base",
      "_model_module_version": "1.2.0",
      "_model_name": "LayoutModel",
      "_view_count": null,
      "_view_module": "@jupyter-widgets/base",
      "_view_module_version": "1.2.0",
      "_view_name": "LayoutView",
      "align_content": null,
      "align_items": null,
      "align_self": null,
      "border": null,
      "bottom": null,
      "display": null,
      "flex": null,
      "flex_flow": null,
      "grid_area": null,
      "grid_auto_columns": null,
      "grid_auto_flow": null,
      "grid_auto_rows": null,
      "grid_column": null,
      "grid_gap": null,
      "grid_row": null,
      "grid_template_areas": null,
      "grid_template_columns": null,
      "grid_template_rows": null,
      "height": null,
      "justify_content": null,
      "justify_items": null,
      "left": null,
      "margin": null,
      "max_height": null,
      "max_width": null,
      "min_height": null,
      "min_width": null,
      "object_fit": null,
      "object_position": null,
      "order": null,
      "overflow": null,
      "overflow_x": null,
      "overflow_y": null,
      "padding": null,
      "right": null,
      "top": null,
      "visibility": null,
      "width": null
     }
    },
    "b78c97d53c0b4170b50e6bcc3210e475": {
     "model_module": "@jupyter-widgets/controls",
     "model_module_version": "1.5.0",
     "model_name": "HTMLModel",
     "state": {
      "_dom_classes": [],
      "_model_module": "@jupyter-widgets/controls",
      "_model_module_version": "1.5.0",
      "_model_name": "HTMLModel",
      "_view_count": null,
      "_view_module": "@jupyter-widgets/controls",
      "_view_module_version": "1.5.0",
      "_view_name": "HTMLView",
      "description": "",
      "description_tooltip": null,
      "layout": "IPY_MODEL_32cc1107559f4670964f983b007ee783",
      "placeholder": "​",
      "style": "IPY_MODEL_266821582123418795e4e733a150667c",
      "value": " 712k/712k [00:00&lt;00:00, 32.7MB/s]"
     }
    },
    "badf984478cf4ee1b33f588f61af8d66": {
     "model_module": "@jupyter-widgets/controls",
     "model_module_version": "1.5.0",
     "model_name": "HBoxModel",
     "state": {
      "_dom_classes": [],
      "_model_module": "@jupyter-widgets/controls",
      "_model_module_version": "1.5.0",
      "_model_name": "HBoxModel",
      "_view_count": null,
      "_view_module": "@jupyter-widgets/controls",
      "_view_module_version": "1.5.0",
      "_view_name": "HBoxView",
      "box_style": "",
      "children": [
       "IPY_MODEL_2376ae6e52414457a45f62cb179ad90e",
       "IPY_MODEL_3bfb00e1beea4bfa9b0221d78ccecbab",
       "IPY_MODEL_85f991294e11451ca958b0d991edfc9b"
      ],
      "layout": "IPY_MODEL_e8b23a5db00543e69446b791f5ab5ab0"
     }
    },
    "bb7e6a67c1f14b3bab0e097f50d89a80": {
     "model_module": "@jupyter-widgets/base",
     "model_module_version": "1.2.0",
     "model_name": "LayoutModel",
     "state": {
      "_model_module": "@jupyter-widgets/base",
      "_model_module_version": "1.2.0",
      "_model_name": "LayoutModel",
      "_view_count": null,
      "_view_module": "@jupyter-widgets/base",
      "_view_module_version": "1.2.0",
      "_view_name": "LayoutView",
      "align_content": null,
      "align_items": null,
      "align_self": null,
      "border": null,
      "bottom": null,
      "display": null,
      "flex": null,
      "flex_flow": null,
      "grid_area": null,
      "grid_auto_columns": null,
      "grid_auto_flow": null,
      "grid_auto_rows": null,
      "grid_column": null,
      "grid_gap": null,
      "grid_row": null,
      "grid_template_areas": null,
      "grid_template_columns": null,
      "grid_template_rows": null,
      "height": null,
      "justify_content": null,
      "justify_items": null,
      "left": null,
      "margin": null,
      "max_height": null,
      "max_width": null,
      "min_height": null,
      "min_width": null,
      "object_fit": null,
      "object_position": null,
      "order": null,
      "overflow": null,
      "overflow_x": null,
      "overflow_y": null,
      "padding": null,
      "right": null,
      "top": null,
      "visibility": null,
      "width": null
     }
    },
    "bedd558f0c6e43cdba90e1e20e9f9b55": {
     "model_module": "@jupyter-widgets/controls",
     "model_module_version": "1.5.0",
     "model_name": "DescriptionStyleModel",
     "state": {
      "_model_module": "@jupyter-widgets/controls",
      "_model_module_version": "1.5.0",
      "_model_name": "DescriptionStyleModel",
      "_view_count": null,
      "_view_module": "@jupyter-widgets/base",
      "_view_module_version": "1.2.0",
      "_view_name": "StyleView",
      "description_width": ""
     }
    },
    "c0ab2fba191f4b0f8e240bb7fab0b0a0": {
     "model_module": "@jupyter-widgets/controls",
     "model_module_version": "1.5.0",
     "model_name": "ProgressStyleModel",
     "state": {
      "_model_module": "@jupyter-widgets/controls",
      "_model_module_version": "1.5.0",
      "_model_name": "ProgressStyleModel",
      "_view_count": null,
      "_view_module": "@jupyter-widgets/base",
      "_view_module_version": "1.2.0",
      "_view_name": "StyleView",
      "bar_color": null,
      "description_width": ""
     }
    },
    "c29a7fd2f48241559830110a7392c628": {
     "model_module": "@jupyter-widgets/controls",
     "model_module_version": "1.5.0",
     "model_name": "DescriptionStyleModel",
     "state": {
      "_model_module": "@jupyter-widgets/controls",
      "_model_module_version": "1.5.0",
      "_model_name": "DescriptionStyleModel",
      "_view_count": null,
      "_view_module": "@jupyter-widgets/base",
      "_view_module_version": "1.2.0",
      "_view_name": "StyleView",
      "description_width": ""
     }
    },
    "c510b1d83383430989019a2569b4191d": {
     "model_module": "@jupyter-widgets/controls",
     "model_module_version": "1.5.0",
     "model_name": "HTMLModel",
     "state": {
      "_dom_classes": [],
      "_model_module": "@jupyter-widgets/controls",
      "_model_module_version": "1.5.0",
      "_model_name": "HTMLModel",
      "_view_count": null,
      "_view_module": "@jupyter-widgets/controls",
      "_view_module_version": "1.5.0",
      "_view_name": "HTMLView",
      "description": "",
      "description_tooltip": null,
      "layout": "IPY_MODEL_8bb2f6f420ef4fc29c9491b7a05a8e21",
      "placeholder": "​",
      "style": "IPY_MODEL_95309112f38c4006a5ef380c775b9a28",
      "value": "special_tokens_map.json: 100%"
     }
    },
    "c623a53d5b524dda86b3de070676d2f8": {
     "model_module": "@jupyter-widgets/controls",
     "model_module_version": "1.5.0",
     "model_name": "DescriptionStyleModel",
     "state": {
      "_model_module": "@jupyter-widgets/controls",
      "_model_module_version": "1.5.0",
      "_model_name": "DescriptionStyleModel",
      "_view_count": null,
      "_view_module": "@jupyter-widgets/base",
      "_view_module_version": "1.2.0",
      "_view_name": "StyleView",
      "description_width": ""
     }
    },
    "c76e356aabcf40dbbde94cad568ce3c2": {
     "model_module": "@jupyter-widgets/controls",
     "model_module_version": "1.5.0",
     "model_name": "ProgressStyleModel",
     "state": {
      "_model_module": "@jupyter-widgets/controls",
      "_model_module_version": "1.5.0",
      "_model_name": "ProgressStyleModel",
      "_view_count": null,
      "_view_module": "@jupyter-widgets/base",
      "_view_module_version": "1.2.0",
      "_view_name": "StyleView",
      "bar_color": null,
      "description_width": ""
     }
    },
    "c9dfb1bfd5e6439d8cbbd0dfe7daa5b7": {
     "model_module": "@jupyter-widgets/controls",
     "model_module_version": "1.5.0",
     "model_name": "HTMLModel",
     "state": {
      "_dom_classes": [],
      "_model_module": "@jupyter-widgets/controls",
      "_model_module_version": "1.5.0",
      "_model_name": "HTMLModel",
      "_view_count": null,
      "_view_module": "@jupyter-widgets/controls",
      "_view_module_version": "1.5.0",
      "_view_name": "HTMLView",
      "description": "",
      "description_tooltip": null,
      "layout": "IPY_MODEL_394eeb0da7d74ecd97bea794e6020416",
      "placeholder": "​",
      "style": "IPY_MODEL_8c0db141c2aa4a268068976dd921f371",
      "value": "modules.json: 100%"
     }
    },
    "ca53f1531a144b3482bc7a134e1bc84a": {
     "model_module": "@jupyter-widgets/base",
     "model_module_version": "1.2.0",
     "model_name": "LayoutModel",
     "state": {
      "_model_module": "@jupyter-widgets/base",
      "_model_module_version": "1.2.0",
      "_model_name": "LayoutModel",
      "_view_count": null,
      "_view_module": "@jupyter-widgets/base",
      "_view_module_version": "1.2.0",
      "_view_name": "LayoutView",
      "align_content": null,
      "align_items": null,
      "align_self": null,
      "border": null,
      "bottom": null,
      "display": null,
      "flex": null,
      "flex_flow": null,
      "grid_area": null,
      "grid_auto_columns": null,
      "grid_auto_flow": null,
      "grid_auto_rows": null,
      "grid_column": null,
      "grid_gap": null,
      "grid_row": null,
      "grid_template_areas": null,
      "grid_template_columns": null,
      "grid_template_rows": null,
      "height": null,
      "justify_content": null,
      "justify_items": null,
      "left": null,
      "margin": null,
      "max_height": null,
      "max_width": null,
      "min_height": null,
      "min_width": null,
      "object_fit": null,
      "object_position": null,
      "order": null,
      "overflow": null,
      "overflow_x": null,
      "overflow_y": null,
      "padding": null,
      "right": null,
      "top": null,
      "visibility": null,
      "width": null
     }
    },
    "cb07acd8e6684521b4d9bf588055ca5e": {
     "model_module": "@jupyter-widgets/base",
     "model_module_version": "1.2.0",
     "model_name": "LayoutModel",
     "state": {
      "_model_module": "@jupyter-widgets/base",
      "_model_module_version": "1.2.0",
      "_model_name": "LayoutModel",
      "_view_count": null,
      "_view_module": "@jupyter-widgets/base",
      "_view_module_version": "1.2.0",
      "_view_name": "LayoutView",
      "align_content": null,
      "align_items": null,
      "align_self": null,
      "border": null,
      "bottom": null,
      "display": null,
      "flex": null,
      "flex_flow": null,
      "grid_area": null,
      "grid_auto_columns": null,
      "grid_auto_flow": null,
      "grid_auto_rows": null,
      "grid_column": null,
      "grid_gap": null,
      "grid_row": null,
      "grid_template_areas": null,
      "grid_template_columns": null,
      "grid_template_rows": null,
      "height": null,
      "justify_content": null,
      "justify_items": null,
      "left": null,
      "margin": null,
      "max_height": null,
      "max_width": null,
      "min_height": null,
      "min_width": null,
      "object_fit": null,
      "object_position": null,
      "order": null,
      "overflow": null,
      "overflow_x": null,
      "overflow_y": null,
      "padding": null,
      "right": null,
      "top": null,
      "visibility": null,
      "width": null
     }
    },
    "cb0a710056e14f66994935ca81e7d744": {
     "model_module": "@jupyter-widgets/controls",
     "model_module_version": "1.5.0",
     "model_name": "FloatProgressModel",
     "state": {
      "_dom_classes": [],
      "_model_module": "@jupyter-widgets/controls",
      "_model_module_version": "1.5.0",
      "_model_name": "FloatProgressModel",
      "_view_count": null,
      "_view_module": "@jupyter-widgets/controls",
      "_view_module_version": "1.5.0",
      "_view_name": "ProgressView",
      "bar_style": "success",
      "description": "",
      "description_tooltip": null,
      "layout": "IPY_MODEL_74f51faaf9b245b8a01179922f395550",
      "max": 711661,
      "min": 0,
      "orientation": "horizontal",
      "style": "IPY_MODEL_933efae9dad64d69947d7f3b00685e81",
      "value": 711661
     }
    },
    "cd51fd8533e142e3918dbc87d5a60f92": {
     "model_module": "@jupyter-widgets/base",
     "model_module_version": "1.2.0",
     "model_name": "LayoutModel",
     "state": {
      "_model_module": "@jupyter-widgets/base",
      "_model_module_version": "1.2.0",
      "_model_name": "LayoutModel",
      "_view_count": null,
      "_view_module": "@jupyter-widgets/base",
      "_view_module_version": "1.2.0",
      "_view_name": "LayoutView",
      "align_content": null,
      "align_items": null,
      "align_self": null,
      "border": null,
      "bottom": null,
      "display": null,
      "flex": null,
      "flex_flow": null,
      "grid_area": null,
      "grid_auto_columns": null,
      "grid_auto_flow": null,
      "grid_auto_rows": null,
      "grid_column": null,
      "grid_gap": null,
      "grid_row": null,
      "grid_template_areas": null,
      "grid_template_columns": null,
      "grid_template_rows": null,
      "height": null,
      "justify_content": null,
      "justify_items": null,
      "left": null,
      "margin": null,
      "max_height": null,
      "max_width": null,
      "min_height": null,
      "min_width": null,
      "object_fit": null,
      "object_position": null,
      "order": null,
      "overflow": null,
      "overflow_x": null,
      "overflow_y": null,
      "padding": null,
      "right": null,
      "top": null,
      "visibility": null,
      "width": null
     }
    },
    "d0f43f24f3194132aff3814ae52410dc": {
     "model_module": "@jupyter-widgets/controls",
     "model_module_version": "1.5.0",
     "model_name": "ProgressStyleModel",
     "state": {
      "_model_module": "@jupyter-widgets/controls",
      "_model_module_version": "1.5.0",
      "_model_name": "ProgressStyleModel",
      "_view_count": null,
      "_view_module": "@jupyter-widgets/base",
      "_view_module_version": "1.2.0",
      "_view_name": "StyleView",
      "bar_color": null,
      "description_width": ""
     }
    },
    "d19e566ae68c4e459eb444bb353580f4": {
     "model_module": "@jupyter-widgets/base",
     "model_module_version": "1.2.0",
     "model_name": "LayoutModel",
     "state": {
      "_model_module": "@jupyter-widgets/base",
      "_model_module_version": "1.2.0",
      "_model_name": "LayoutModel",
      "_view_count": null,
      "_view_module": "@jupyter-widgets/base",
      "_view_module_version": "1.2.0",
      "_view_name": "LayoutView",
      "align_content": null,
      "align_items": null,
      "align_self": null,
      "border": null,
      "bottom": null,
      "display": null,
      "flex": null,
      "flex_flow": null,
      "grid_area": null,
      "grid_auto_columns": null,
      "grid_auto_flow": null,
      "grid_auto_rows": null,
      "grid_column": null,
      "grid_gap": null,
      "grid_row": null,
      "grid_template_areas": null,
      "grid_template_columns": null,
      "grid_template_rows": null,
      "height": null,
      "justify_content": null,
      "justify_items": null,
      "left": null,
      "margin": null,
      "max_height": null,
      "max_width": null,
      "min_height": null,
      "min_width": null,
      "object_fit": null,
      "object_position": null,
      "order": null,
      "overflow": null,
      "overflow_x": null,
      "overflow_y": null,
      "padding": null,
      "right": null,
      "top": null,
      "visibility": null,
      "width": null
     }
    },
    "d43b32cd00ff495a9c82c12151d52c22": {
     "model_module": "@jupyter-widgets/base",
     "model_module_version": "1.2.0",
     "model_name": "LayoutModel",
     "state": {
      "_model_module": "@jupyter-widgets/base",
      "_model_module_version": "1.2.0",
      "_model_name": "LayoutModel",
      "_view_count": null,
      "_view_module": "@jupyter-widgets/base",
      "_view_module_version": "1.2.0",
      "_view_name": "LayoutView",
      "align_content": null,
      "align_items": null,
      "align_self": null,
      "border": null,
      "bottom": null,
      "display": null,
      "flex": null,
      "flex_flow": null,
      "grid_area": null,
      "grid_auto_columns": null,
      "grid_auto_flow": null,
      "grid_auto_rows": null,
      "grid_column": null,
      "grid_gap": null,
      "grid_row": null,
      "grid_template_areas": null,
      "grid_template_columns": null,
      "grid_template_rows": null,
      "height": null,
      "justify_content": null,
      "justify_items": null,
      "left": null,
      "margin": null,
      "max_height": null,
      "max_width": null,
      "min_height": null,
      "min_width": null,
      "object_fit": null,
      "object_position": null,
      "order": null,
      "overflow": null,
      "overflow_x": null,
      "overflow_y": null,
      "padding": null,
      "right": null,
      "top": null,
      "visibility": null,
      "width": null
     }
    },
    "d757281c2c774ba59d4856597de73e20": {
     "model_module": "@jupyter-widgets/controls",
     "model_module_version": "1.5.0",
     "model_name": "HTMLModel",
     "state": {
      "_dom_classes": [],
      "_model_module": "@jupyter-widgets/controls",
      "_model_module_version": "1.5.0",
      "_model_name": "HTMLModel",
      "_view_count": null,
      "_view_module": "@jupyter-widgets/controls",
      "_view_module_version": "1.5.0",
      "_view_name": "HTMLView",
      "description": "",
      "description_tooltip": null,
      "layout": "IPY_MODEL_cd51fd8533e142e3918dbc87d5a60f92",
      "placeholder": "​",
      "style": "IPY_MODEL_025a3d9f8f05420dba858df2da9d35bb",
      "value": "README.md: 100%"
     }
    },
    "d8e034403ba8438282f090df724ed94c": {
     "model_module": "@jupyter-widgets/controls",
     "model_module_version": "1.5.0",
     "model_name": "FloatProgressModel",
     "state": {
      "_dom_classes": [],
      "_model_module": "@jupyter-widgets/controls",
      "_model_module_version": "1.5.0",
      "_model_name": "FloatProgressModel",
      "_view_count": null,
      "_view_module": "@jupyter-widgets/controls",
      "_view_module_version": "1.5.0",
      "_view_name": "ProgressView",
      "bar_style": "success",
      "description": "",
      "description_tooltip": null,
      "layout": "IPY_MODEL_4b5054c11d38445d92c10cd528a94f27",
      "max": 670332568,
      "min": 0,
      "orientation": "horizontal",
      "style": "IPY_MODEL_ac6c7275535b4e20be6298bf7e4fcc4d",
      "value": 670332568
     }
    },
    "d9e5bb6c73a344e889464de12d9253a2": {
     "model_module": "@jupyter-widgets/controls",
     "model_module_version": "1.5.0",
     "model_name": "HBoxModel",
     "state": {
      "_dom_classes": [],
      "_model_module": "@jupyter-widgets/controls",
      "_model_module_version": "1.5.0",
      "_model_name": "HBoxModel",
      "_view_count": null,
      "_view_module": "@jupyter-widgets/controls",
      "_view_module_version": "1.5.0",
      "_view_name": "HBoxView",
      "box_style": "",
      "children": [
       "IPY_MODEL_b0c3fa2bd2a34f86abe8adfecbcfc3f3",
       "IPY_MODEL_19c0743b8b074043b5df46ebe662018c",
       "IPY_MODEL_e684b123f9614106a9ea1fbffc21b770"
      ],
      "layout": "IPY_MODEL_e92237d256c847cfb0724e0f6a019211"
     }
    },
    "dcd01f9dfc3148438ac6c56d8fc27db0": {
     "model_module": "@jupyter-widgets/base",
     "model_module_version": "1.2.0",
     "model_name": "LayoutModel",
     "state": {
      "_model_module": "@jupyter-widgets/base",
      "_model_module_version": "1.2.0",
      "_model_name": "LayoutModel",
      "_view_count": null,
      "_view_module": "@jupyter-widgets/base",
      "_view_module_version": "1.2.0",
      "_view_name": "LayoutView",
      "align_content": null,
      "align_items": null,
      "align_self": null,
      "border": null,
      "bottom": null,
      "display": null,
      "flex": null,
      "flex_flow": null,
      "grid_area": null,
      "grid_auto_columns": null,
      "grid_auto_flow": null,
      "grid_auto_rows": null,
      "grid_column": null,
      "grid_gap": null,
      "grid_row": null,
      "grid_template_areas": null,
      "grid_template_columns": null,
      "grid_template_rows": null,
      "height": null,
      "justify_content": null,
      "justify_items": null,
      "left": null,
      "margin": null,
      "max_height": null,
      "max_width": null,
      "min_height": null,
      "min_width": null,
      "object_fit": null,
      "object_position": null,
      "order": null,
      "overflow": null,
      "overflow_x": null,
      "overflow_y": null,
      "padding": null,
      "right": null,
      "top": null,
      "visibility": null,
      "width": null
     }
    },
    "de212fc7f34e4248ac33da84cbb609a0": {
     "model_module": "@jupyter-widgets/controls",
     "model_module_version": "1.5.0",
     "model_name": "ProgressStyleModel",
     "state": {
      "_model_module": "@jupyter-widgets/controls",
      "_model_module_version": "1.5.0",
      "_model_name": "ProgressStyleModel",
      "_view_count": null,
      "_view_module": "@jupyter-widgets/base",
      "_view_module_version": "1.2.0",
      "_view_name": "StyleView",
      "bar_color": null,
      "description_width": ""
     }
    },
    "e5a2385822d943f186fc0622206019d8": {
     "model_module": "@jupyter-widgets/controls",
     "model_module_version": "1.5.0",
     "model_name": "DescriptionStyleModel",
     "state": {
      "_model_module": "@jupyter-widgets/controls",
      "_model_module_version": "1.5.0",
      "_model_name": "DescriptionStyleModel",
      "_view_count": null,
      "_view_module": "@jupyter-widgets/base",
      "_view_module_version": "1.2.0",
      "_view_name": "StyleView",
      "description_width": ""
     }
    },
    "e684b123f9614106a9ea1fbffc21b770": {
     "model_module": "@jupyter-widgets/controls",
     "model_module_version": "1.5.0",
     "model_name": "HTMLModel",
     "state": {
      "_dom_classes": [],
      "_model_module": "@jupyter-widgets/controls",
      "_model_module_version": "1.5.0",
      "_model_name": "HTMLModel",
      "_view_count": null,
      "_view_module": "@jupyter-widgets/controls",
      "_view_module_version": "1.5.0",
      "_view_name": "HTMLView",
      "description": "",
      "description_tooltip": null,
      "layout": "IPY_MODEL_cb07acd8e6684521b4d9bf588055ca5e",
      "placeholder": "​",
      "style": "IPY_MODEL_b44409d6c2354d07a55611748f62f100",
      "value": " 57.0/57.0 [00:00&lt;00:00, 6.28kB/s]"
     }
    },
    "e8333a3d1ea9427e966f3f183677d664": {
     "model_module": "@jupyter-widgets/controls",
     "model_module_version": "1.5.0",
     "model_name": "HTMLModel",
     "state": {
      "_dom_classes": [],
      "_model_module": "@jupyter-widgets/controls",
      "_model_module_version": "1.5.0",
      "_model_name": "HTMLModel",
      "_view_count": null,
      "_view_module": "@jupyter-widgets/controls",
      "_view_module_version": "1.5.0",
      "_view_name": "HTMLView",
      "description": "",
      "description_tooltip": null,
      "layout": "IPY_MODEL_dcd01f9dfc3148438ac6c56d8fc27db0",
      "placeholder": "​",
      "style": "IPY_MODEL_5d84adbf008b4914b97abf8dc563b6bf",
      "value": " 385/385 [00:00&lt;00:00, 22.8kB/s]"
     }
    },
    "e8b23a5db00543e69446b791f5ab5ab0": {
     "model_module": "@jupyter-widgets/base",
     "model_module_version": "1.2.0",
     "model_name": "LayoutModel",
     "state": {
      "_model_module": "@jupyter-widgets/base",
      "_model_module_version": "1.2.0",
      "_model_name": "LayoutModel",
      "_view_count": null,
      "_view_module": "@jupyter-widgets/base",
      "_view_module_version": "1.2.0",
      "_view_name": "LayoutView",
      "align_content": null,
      "align_items": null,
      "align_self": null,
      "border": null,
      "bottom": null,
      "display": null,
      "flex": null,
      "flex_flow": null,
      "grid_area": null,
      "grid_auto_columns": null,
      "grid_auto_flow": null,
      "grid_auto_rows": null,
      "grid_column": null,
      "grid_gap": null,
      "grid_row": null,
      "grid_template_areas": null,
      "grid_template_columns": null,
      "grid_template_rows": null,
      "height": null,
      "justify_content": null,
      "justify_items": null,
      "left": null,
      "margin": null,
      "max_height": null,
      "max_width": null,
      "min_height": null,
      "min_width": null,
      "object_fit": null,
      "object_position": null,
      "order": null,
      "overflow": null,
      "overflow_x": null,
      "overflow_y": null,
      "padding": null,
      "right": null,
      "top": null,
      "visibility": null,
      "width": null
     }
    },
    "e8cc4b32fa9e4ce59e6416e4b01739ad": {
     "model_module": "@jupyter-widgets/base",
     "model_module_version": "1.2.0",
     "model_name": "LayoutModel",
     "state": {
      "_model_module": "@jupyter-widgets/base",
      "_model_module_version": "1.2.0",
      "_model_name": "LayoutModel",
      "_view_count": null,
      "_view_module": "@jupyter-widgets/base",
      "_view_module_version": "1.2.0",
      "_view_name": "LayoutView",
      "align_content": null,
      "align_items": null,
      "align_self": null,
      "border": null,
      "bottom": null,
      "display": null,
      "flex": null,
      "flex_flow": null,
      "grid_area": null,
      "grid_auto_columns": null,
      "grid_auto_flow": null,
      "grid_auto_rows": null,
      "grid_column": null,
      "grid_gap": null,
      "grid_row": null,
      "grid_template_areas": null,
      "grid_template_columns": null,
      "grid_template_rows": null,
      "height": null,
      "justify_content": null,
      "justify_items": null,
      "left": null,
      "margin": null,
      "max_height": null,
      "max_width": null,
      "min_height": null,
      "min_width": null,
      "object_fit": null,
      "object_position": null,
      "order": null,
      "overflow": null,
      "overflow_x": null,
      "overflow_y": null,
      "padding": null,
      "right": null,
      "top": null,
      "visibility": null,
      "width": null
     }
    },
    "e92237d256c847cfb0724e0f6a019211": {
     "model_module": "@jupyter-widgets/base",
     "model_module_version": "1.2.0",
     "model_name": "LayoutModel",
     "state": {
      "_model_module": "@jupyter-widgets/base",
      "_model_module_version": "1.2.0",
      "_model_name": "LayoutModel",
      "_view_count": null,
      "_view_module": "@jupyter-widgets/base",
      "_view_module_version": "1.2.0",
      "_view_name": "LayoutView",
      "align_content": null,
      "align_items": null,
      "align_self": null,
      "border": null,
      "bottom": null,
      "display": null,
      "flex": null,
      "flex_flow": null,
      "grid_area": null,
      "grid_auto_columns": null,
      "grid_auto_flow": null,
      "grid_auto_rows": null,
      "grid_column": null,
      "grid_gap": null,
      "grid_row": null,
      "grid_template_areas": null,
      "grid_template_columns": null,
      "grid_template_rows": null,
      "height": null,
      "justify_content": null,
      "justify_items": null,
      "left": null,
      "margin": null,
      "max_height": null,
      "max_width": null,
      "min_height": null,
      "min_width": null,
      "object_fit": null,
      "object_position": null,
      "order": null,
      "overflow": null,
      "overflow_x": null,
      "overflow_y": null,
      "padding": null,
      "right": null,
      "top": null,
      "visibility": null,
      "width": null
     }
    },
    "ecad915aaf554d1cb4ff3b8c7d9d1c4f": {
     "model_module": "@jupyter-widgets/controls",
     "model_module_version": "1.5.0",
     "model_name": "DescriptionStyleModel",
     "state": {
      "_model_module": "@jupyter-widgets/controls",
      "_model_module_version": "1.5.0",
      "_model_name": "DescriptionStyleModel",
      "_view_count": null,
      "_view_module": "@jupyter-widgets/base",
      "_view_module_version": "1.2.0",
      "_view_name": "StyleView",
      "description_width": ""
     }
    },
    "ee0c16f6b13d413eb5d09226c7fb54b4": {
     "model_module": "@jupyter-widgets/base",
     "model_module_version": "1.2.0",
     "model_name": "LayoutModel",
     "state": {
      "_model_module": "@jupyter-widgets/base",
      "_model_module_version": "1.2.0",
      "_model_name": "LayoutModel",
      "_view_count": null,
      "_view_module": "@jupyter-widgets/base",
      "_view_module_version": "1.2.0",
      "_view_name": "LayoutView",
      "align_content": null,
      "align_items": null,
      "align_self": null,
      "border": null,
      "bottom": null,
      "display": null,
      "flex": null,
      "flex_flow": null,
      "grid_area": null,
      "grid_auto_columns": null,
      "grid_auto_flow": null,
      "grid_auto_rows": null,
      "grid_column": null,
      "grid_gap": null,
      "grid_row": null,
      "grid_template_areas": null,
      "grid_template_columns": null,
      "grid_template_rows": null,
      "height": null,
      "justify_content": null,
      "justify_items": null,
      "left": null,
      "margin": null,
      "max_height": null,
      "max_width": null,
      "min_height": null,
      "min_width": null,
      "object_fit": null,
      "object_position": null,
      "order": null,
      "overflow": null,
      "overflow_x": null,
      "overflow_y": null,
      "padding": null,
      "right": null,
      "top": null,
      "visibility": null,
      "width": null
     }
    },
    "f27472391df74c6bb2db10f683aceadb": {
     "model_module": "@jupyter-widgets/base",
     "model_module_version": "1.2.0",
     "model_name": "LayoutModel",
     "state": {
      "_model_module": "@jupyter-widgets/base",
      "_model_module_version": "1.2.0",
      "_model_name": "LayoutModel",
      "_view_count": null,
      "_view_module": "@jupyter-widgets/base",
      "_view_module_version": "1.2.0",
      "_view_name": "LayoutView",
      "align_content": null,
      "align_items": null,
      "align_self": null,
      "border": null,
      "bottom": null,
      "display": null,
      "flex": null,
      "flex_flow": null,
      "grid_area": null,
      "grid_auto_columns": null,
      "grid_auto_flow": null,
      "grid_auto_rows": null,
      "grid_column": null,
      "grid_gap": null,
      "grid_row": null,
      "grid_template_areas": null,
      "grid_template_columns": null,
      "grid_template_rows": null,
      "height": null,
      "justify_content": null,
      "justify_items": null,
      "left": null,
      "margin": null,
      "max_height": null,
      "max_width": null,
      "min_height": null,
      "min_width": null,
      "object_fit": null,
      "object_position": null,
      "order": null,
      "overflow": null,
      "overflow_x": null,
      "overflow_y": null,
      "padding": null,
      "right": null,
      "top": null,
      "visibility": null,
      "width": null
     }
    },
    "f696345a102146e8a0cda5ca85169122": {
     "model_module": "@jupyter-widgets/controls",
     "model_module_version": "1.5.0",
     "model_name": "FloatProgressModel",
     "state": {
      "_dom_classes": [],
      "_model_module": "@jupyter-widgets/controls",
      "_model_module_version": "1.5.0",
      "_model_name": "FloatProgressModel",
      "_view_count": null,
      "_view_module": "@jupyter-widgets/controls",
      "_view_module_version": "1.5.0",
      "_view_name": "ProgressView",
      "bar_style": "success",
      "description": "",
      "description_tooltip": null,
      "layout": "IPY_MODEL_aa95a70844ac47c8aa5ef71848426556",
      "max": 342,
      "min": 0,
      "orientation": "horizontal",
      "style": "IPY_MODEL_01e510cafbf44e8e80a5ced42dc4ee0c",
      "value": 342
     }
    },
    "f7afae88361a4a01ba881eb70889b29b": {
     "model_module": "@jupyter-widgets/controls",
     "model_module_version": "1.5.0",
     "model_name": "DescriptionStyleModel",
     "state": {
      "_model_module": "@jupyter-widgets/controls",
      "_model_module_version": "1.5.0",
      "_model_name": "DescriptionStyleModel",
      "_view_count": null,
      "_view_module": "@jupyter-widgets/base",
      "_view_module_version": "1.2.0",
      "_view_name": "StyleView",
      "description_width": ""
     }
    },
    "f9e76a9c384e48159c586d9791bfbbc2": {
     "model_module": "@jupyter-widgets/controls",
     "model_module_version": "1.5.0",
     "model_name": "HTMLModel",
     "state": {
      "_dom_classes": [],
      "_model_module": "@jupyter-widgets/controls",
      "_model_module_version": "1.5.0",
      "_model_name": "HTMLModel",
      "_view_count": null,
      "_view_module": "@jupyter-widgets/controls",
      "_view_module_version": "1.5.0",
      "_view_name": "HTMLView",
      "description": "",
      "description_tooltip": null,
      "layout": "IPY_MODEL_b4b415d925454db5847a78515f118a76",
      "placeholder": "​",
      "style": "IPY_MODEL_c623a53d5b524dda86b3de070676d2f8",
      "value": " 125/125 [00:00&lt;00:00, 12.6kB/s]"
     }
    },
    "fa77ce9255c944c78a64723a48ebafb8": {
     "model_module": "@jupyter-widgets/controls",
     "model_module_version": "1.5.0",
     "model_name": "FloatProgressModel",
     "state": {
      "_dom_classes": [],
      "_model_module": "@jupyter-widgets/controls",
      "_model_module_version": "1.5.0",
      "_model_name": "FloatProgressModel",
      "_view_count": null,
      "_view_module": "@jupyter-widgets/controls",
      "_view_module_version": "1.5.0",
      "_view_name": "ProgressView",
      "bar_style": "success",
      "description": "",
      "description_tooltip": null,
      "layout": "IPY_MODEL_ee0c16f6b13d413eb5d09226c7fb54b4",
      "max": 9229924224,
      "min": 0,
      "orientation": "horizontal",
      "style": "IPY_MODEL_d0f43f24f3194132aff3814ae52410dc",
      "value": 9229924224
     }
    },
    "fcdf4e2eba8a4948a62c6126fbba986c": {
     "model_module": "@jupyter-widgets/base",
     "model_module_version": "1.2.0",
     "model_name": "LayoutModel",
     "state": {
      "_model_module": "@jupyter-widgets/base",
      "_model_module_version": "1.2.0",
      "_model_name": "LayoutModel",
      "_view_count": null,
      "_view_module": "@jupyter-widgets/base",
      "_view_module_version": "1.2.0",
      "_view_name": "LayoutView",
      "align_content": null,
      "align_items": null,
      "align_self": null,
      "border": null,
      "bottom": null,
      "display": null,
      "flex": null,
      "flex_flow": null,
      "grid_area": null,
      "grid_auto_columns": null,
      "grid_auto_flow": null,
      "grid_auto_rows": null,
      "grid_column": null,
      "grid_gap": null,
      "grid_row": null,
      "grid_template_areas": null,
      "grid_template_columns": null,
      "grid_template_rows": null,
      "height": null,
      "justify_content": null,
      "justify_items": null,
      "left": null,
      "margin": null,
      "max_height": null,
      "max_width": null,
      "min_height": null,
      "min_width": null,
      "object_fit": null,
      "object_position": null,
      "order": null,
      "overflow": null,
      "overflow_x": null,
      "overflow_y": null,
      "padding": null,
      "right": null,
      "top": null,
      "visibility": null,
      "width": null
     }
    }
   }
  }
 },
 "nbformat": 4,
 "nbformat_minor": 4
}
